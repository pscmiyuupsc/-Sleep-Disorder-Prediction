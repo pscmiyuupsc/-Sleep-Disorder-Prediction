{
  "nbformat": 4,
  "nbformat_minor": 0,
  "metadata": {
    "colab": {
      "provenance": [],
      "authorship_tag": "ABX9TyMvAnYoh9dEEq+k+bcw1oKz",
      "include_colab_link": true
    },
    "kernelspec": {
      "name": "python3",
      "display_name": "Python 3"
    },
    "language_info": {
      "name": "python"
    }
  },
  "cells": [
    {
      "cell_type": "markdown",
      "metadata": {
        "id": "view-in-github",
        "colab_type": "text"
      },
      "source": [
        "<a href=\"https://colab.research.google.com/github/pscmiyuupsc/-Sleep-Disorder-Prediction/blob/main/TRASTORNOS_DEL_SUE%C3%91O.ipynb\" target=\"_parent\"><img src=\"https://colab.research.google.com/assets/colab-badge.svg\" alt=\"Open In Colab\"/></a>"
      ]
    },
    {
      "cell_type": "markdown",
      "source": [
        "#**TRASTORNOS DEL SUEÑO**\n",
        "\n",
        "Sarmiento Escobar Millaray\n",
        "\n"
      ],
      "metadata": {
        "id": "MIIHev2DtGXF"
      }
    },
    {
      "cell_type": "markdown",
      "source": [
        "#Dataset"
      ],
      "metadata": {
        "id": "3VGLJlWqJeZo"
      }
    },
    {
      "cell_type": "markdown",
      "source": [
        "La base de datos y los codigos fueron obtenidos de https://www.kaggle.com/code/soumyag09/sleep-disorder"
      ],
      "metadata": {
        "id": "C1ehRjXqJmxM"
      }
    },
    {
      "cell_type": "markdown",
      "source": [
        "#Importacion de los datos"
      ],
      "metadata": {
        "id": "V95FqEKTtR1V"
      }
    },
    {
      "cell_type": "code",
      "execution_count": null,
      "metadata": {
        "colab": {
          "base_uri": "https://localhost:8080/"
        },
        "id": "l_ZAnjtrLDbv",
        "outputId": "1d0ca3d9-ecaa-4302-f309-8af6504015a3"
      },
      "outputs": [
        {
          "output_type": "stream",
          "name": "stdout",
          "text": [
            "Mounted at /content/drive\n"
          ]
        }
      ],
      "source": [
        "#Importacion de la libreria correspondiente para cargar los datos desde Drive\n",
        "from google.colab import drive\n",
        "drive.mount('/content/drive')\n"
      ]
    },
    {
      "cell_type": "code",
      "source": [
        "#Importacion de las librerias\n",
        "import pandas as pd\n",
        "import chardet"
      ],
      "metadata": {
        "id": "-e0YAa0Snj2q"
      },
      "execution_count": null,
      "outputs": []
    },
    {
      "cell_type": "code",
      "source": [
        "# Path del archivo\n",
        "path = \"/content/drive/My Drive/Ciencia de datos/Tarea/trastornosdelsueño/sueño.csv\"\n",
        "#Se abre el archivo con un modo de lectura binaria, por lo que los datos se leen como bytes sin interpretar\n",
        "with open(path, \"rb\") as p:\n",
        "\n",
        "# f.read() se leerán todos los bytes del archivo, (no recomendable para archivos grandes)\n",
        "#Usualmente verán que esta parte se llama \"rawdata\" porque es tomado como datos crudos ya que chardet analiza los bytes no procesados\n",
        "    rawdata = p.read(5000)\n",
        "\n",
        "#Ahora usando la función detect se devolverá un diccionario de 3 variables:\n",
        "#Codificación,  Confianza y  Language\n",
        "result = chardet.detect(rawdata)\n",
        "result"
      ],
      "metadata": {
        "colab": {
          "base_uri": "https://localhost:8080/"
        },
        "id": "uae6tXTQXXwi",
        "outputId": "eee493a6-d3cb-4e25-9e44-870090769826"
      },
      "execution_count": null,
      "outputs": [
        {
          "output_type": "execute_result",
          "data": {
            "text/plain": [
              "{'encoding': 'ascii', 'confidence': 1.0, 'language': ''}"
            ]
          },
          "metadata": {},
          "execution_count": 3
        }
      ]
    },
    {
      "cell_type": "code",
      "source": [
        "#Creacion del df\n",
        "df = pd.read_csv(\"/content/drive/My Drive/Ciencia de datos/Tarea/trastornosdelsueño/sueño.csv\", encoding= 'ascii')"
      ],
      "metadata": {
        "id": "-y2XcIYunnc5"
      },
      "execution_count": null,
      "outputs": []
    },
    {
      "cell_type": "code",
      "source": [
        "# Lectura del archivo\n",
        "df=pd.read_csv(\"/content/drive/My Drive/Ciencia de datos/Tarea/trastornosdelsueño/sueño.csv\")"
      ],
      "metadata": {
        "id": "-DQq7H9ycshq"
      },
      "execution_count": null,
      "outputs": []
    },
    {
      "cell_type": "code",
      "source": [
        "df.head(5)"
      ],
      "metadata": {
        "colab": {
          "base_uri": "https://localhost:8080/",
          "height": 348
        },
        "id": "PvuB9DVKs_TN",
        "outputId": "b19ff242-152e-4c86-ef11-4c4548e62c85"
      },
      "execution_count": null,
      "outputs": [
        {
          "output_type": "execute_result",
          "data": {
            "text/plain": [
              "  Gender  Age            Occupation  Sleep Duration  Quality of Sleep  \\\n",
              "0   Male   27     Software Engineer             6.1                 6   \n",
              "1   Male   28                Doctor             6.2                 6   \n",
              "2   Male   28                Doctor             6.2                 6   \n",
              "3   Male   28  Sales Representative             5.9                 4   \n",
              "4   Male   28  Sales Representative             5.9                 4   \n",
              "\n",
              "   Physical Activity Level  Stress Level   BMI Category  Heart Rate  \\\n",
              "0                       42             6     Overweight          77   \n",
              "1                       60             8  Normal Weight          75   \n",
              "2                       60             8  Normal Weight          75   \n",
              "3                       30             8          Obese          85   \n",
              "4                       30             8          Obese          85   \n",
              "\n",
              "   Daily Steps  Sleep Disorder  Systolic  Diastolic  \n",
              "0         4200               1     126.0       83.0  \n",
              "1        10000               1     125.0       80.0  \n",
              "2        10000               1     125.0       80.0  \n",
              "3         3000               2     140.0       90.0  \n",
              "4         3000               2     140.0       90.0  "
            ],
            "text/html": [
              "\n",
              "  <div id=\"df-d27090a3-ea82-4795-a2b9-76009faa7232\" class=\"colab-df-container\">\n",
              "    <div>\n",
              "<style scoped>\n",
              "    .dataframe tbody tr th:only-of-type {\n",
              "        vertical-align: middle;\n",
              "    }\n",
              "\n",
              "    .dataframe tbody tr th {\n",
              "        vertical-align: top;\n",
              "    }\n",
              "\n",
              "    .dataframe thead th {\n",
              "        text-align: right;\n",
              "    }\n",
              "</style>\n",
              "<table border=\"1\" class=\"dataframe\">\n",
              "  <thead>\n",
              "    <tr style=\"text-align: right;\">\n",
              "      <th></th>\n",
              "      <th>Gender</th>\n",
              "      <th>Age</th>\n",
              "      <th>Occupation</th>\n",
              "      <th>Sleep Duration</th>\n",
              "      <th>Quality of Sleep</th>\n",
              "      <th>Physical Activity Level</th>\n",
              "      <th>Stress Level</th>\n",
              "      <th>BMI Category</th>\n",
              "      <th>Heart Rate</th>\n",
              "      <th>Daily Steps</th>\n",
              "      <th>Sleep Disorder</th>\n",
              "      <th>Systolic</th>\n",
              "      <th>Diastolic</th>\n",
              "    </tr>\n",
              "  </thead>\n",
              "  <tbody>\n",
              "    <tr>\n",
              "      <th>0</th>\n",
              "      <td>Male</td>\n",
              "      <td>27</td>\n",
              "      <td>Software Engineer</td>\n",
              "      <td>6.1</td>\n",
              "      <td>6</td>\n",
              "      <td>42</td>\n",
              "      <td>6</td>\n",
              "      <td>Overweight</td>\n",
              "      <td>77</td>\n",
              "      <td>4200</td>\n",
              "      <td>1</td>\n",
              "      <td>126.0</td>\n",
              "      <td>83.0</td>\n",
              "    </tr>\n",
              "    <tr>\n",
              "      <th>1</th>\n",
              "      <td>Male</td>\n",
              "      <td>28</td>\n",
              "      <td>Doctor</td>\n",
              "      <td>6.2</td>\n",
              "      <td>6</td>\n",
              "      <td>60</td>\n",
              "      <td>8</td>\n",
              "      <td>Normal Weight</td>\n",
              "      <td>75</td>\n",
              "      <td>10000</td>\n",
              "      <td>1</td>\n",
              "      <td>125.0</td>\n",
              "      <td>80.0</td>\n",
              "    </tr>\n",
              "    <tr>\n",
              "      <th>2</th>\n",
              "      <td>Male</td>\n",
              "      <td>28</td>\n",
              "      <td>Doctor</td>\n",
              "      <td>6.2</td>\n",
              "      <td>6</td>\n",
              "      <td>60</td>\n",
              "      <td>8</td>\n",
              "      <td>Normal Weight</td>\n",
              "      <td>75</td>\n",
              "      <td>10000</td>\n",
              "      <td>1</td>\n",
              "      <td>125.0</td>\n",
              "      <td>80.0</td>\n",
              "    </tr>\n",
              "    <tr>\n",
              "      <th>3</th>\n",
              "      <td>Male</td>\n",
              "      <td>28</td>\n",
              "      <td>Sales Representative</td>\n",
              "      <td>5.9</td>\n",
              "      <td>4</td>\n",
              "      <td>30</td>\n",
              "      <td>8</td>\n",
              "      <td>Obese</td>\n",
              "      <td>85</td>\n",
              "      <td>3000</td>\n",
              "      <td>2</td>\n",
              "      <td>140.0</td>\n",
              "      <td>90.0</td>\n",
              "    </tr>\n",
              "    <tr>\n",
              "      <th>4</th>\n",
              "      <td>Male</td>\n",
              "      <td>28</td>\n",
              "      <td>Sales Representative</td>\n",
              "      <td>5.9</td>\n",
              "      <td>4</td>\n",
              "      <td>30</td>\n",
              "      <td>8</td>\n",
              "      <td>Obese</td>\n",
              "      <td>85</td>\n",
              "      <td>3000</td>\n",
              "      <td>2</td>\n",
              "      <td>140.0</td>\n",
              "      <td>90.0</td>\n",
              "    </tr>\n",
              "  </tbody>\n",
              "</table>\n",
              "</div>\n",
              "    <div class=\"colab-df-buttons\">\n",
              "\n",
              "  <div class=\"colab-df-container\">\n",
              "    <button class=\"colab-df-convert\" onclick=\"convertToInteractive('df-d27090a3-ea82-4795-a2b9-76009faa7232')\"\n",
              "            title=\"Convert this dataframe to an interactive table.\"\n",
              "            style=\"display:none;\">\n",
              "\n",
              "  <svg xmlns=\"http://www.w3.org/2000/svg\" height=\"24px\" viewBox=\"0 -960 960 960\">\n",
              "    <path d=\"M120-120v-720h720v720H120Zm60-500h600v-160H180v160Zm220 220h160v-160H400v160Zm0 220h160v-160H400v160ZM180-400h160v-160H180v160Zm440 0h160v-160H620v160ZM180-180h160v-160H180v160Zm440 0h160v-160H620v160Z\"/>\n",
              "  </svg>\n",
              "    </button>\n",
              "\n",
              "  <style>\n",
              "    .colab-df-container {\n",
              "      display:flex;\n",
              "      gap: 12px;\n",
              "    }\n",
              "\n",
              "    .colab-df-convert {\n",
              "      background-color: #E8F0FE;\n",
              "      border: none;\n",
              "      border-radius: 50%;\n",
              "      cursor: pointer;\n",
              "      display: none;\n",
              "      fill: #1967D2;\n",
              "      height: 32px;\n",
              "      padding: 0 0 0 0;\n",
              "      width: 32px;\n",
              "    }\n",
              "\n",
              "    .colab-df-convert:hover {\n",
              "      background-color: #E2EBFA;\n",
              "      box-shadow: 0px 1px 2px rgba(60, 64, 67, 0.3), 0px 1px 3px 1px rgba(60, 64, 67, 0.15);\n",
              "      fill: #174EA6;\n",
              "    }\n",
              "\n",
              "    .colab-df-buttons div {\n",
              "      margin-bottom: 4px;\n",
              "    }\n",
              "\n",
              "    [theme=dark] .colab-df-convert {\n",
              "      background-color: #3B4455;\n",
              "      fill: #D2E3FC;\n",
              "    }\n",
              "\n",
              "    [theme=dark] .colab-df-convert:hover {\n",
              "      background-color: #434B5C;\n",
              "      box-shadow: 0px 1px 3px 1px rgba(0, 0, 0, 0.15);\n",
              "      filter: drop-shadow(0px 1px 2px rgba(0, 0, 0, 0.3));\n",
              "      fill: #FFFFFF;\n",
              "    }\n",
              "  </style>\n",
              "\n",
              "    <script>\n",
              "      const buttonEl =\n",
              "        document.querySelector('#df-d27090a3-ea82-4795-a2b9-76009faa7232 button.colab-df-convert');\n",
              "      buttonEl.style.display =\n",
              "        google.colab.kernel.accessAllowed ? 'block' : 'none';\n",
              "\n",
              "      async function convertToInteractive(key) {\n",
              "        const element = document.querySelector('#df-d27090a3-ea82-4795-a2b9-76009faa7232');\n",
              "        const dataTable =\n",
              "          await google.colab.kernel.invokeFunction('convertToInteractive',\n",
              "                                                    [key], {});\n",
              "        if (!dataTable) return;\n",
              "\n",
              "        const docLinkHtml = 'Like what you see? Visit the ' +\n",
              "          '<a target=\"_blank\" href=https://colab.research.google.com/notebooks/data_table.ipynb>data table notebook</a>'\n",
              "          + ' to learn more about interactive tables.';\n",
              "        element.innerHTML = '';\n",
              "        dataTable['output_type'] = 'display_data';\n",
              "        await google.colab.output.renderOutput(dataTable, element);\n",
              "        const docLink = document.createElement('div');\n",
              "        docLink.innerHTML = docLinkHtml;\n",
              "        element.appendChild(docLink);\n",
              "      }\n",
              "    </script>\n",
              "  </div>\n",
              "\n",
              "\n",
              "<div id=\"df-f50d4b14-d145-4062-bcd8-a9bc6082d5e3\">\n",
              "  <button class=\"colab-df-quickchart\" onclick=\"quickchart('df-f50d4b14-d145-4062-bcd8-a9bc6082d5e3')\"\n",
              "            title=\"Suggest charts\"\n",
              "            style=\"display:none;\">\n",
              "\n",
              "<svg xmlns=\"http://www.w3.org/2000/svg\" height=\"24px\"viewBox=\"0 0 24 24\"\n",
              "     width=\"24px\">\n",
              "    <g>\n",
              "        <path d=\"M19 3H5c-1.1 0-2 .9-2 2v14c0 1.1.9 2 2 2h14c1.1 0 2-.9 2-2V5c0-1.1-.9-2-2-2zM9 17H7v-7h2v7zm4 0h-2V7h2v10zm4 0h-2v-4h2v4z\"/>\n",
              "    </g>\n",
              "</svg>\n",
              "  </button>\n",
              "\n",
              "<style>\n",
              "  .colab-df-quickchart {\n",
              "      --bg-color: #E8F0FE;\n",
              "      --fill-color: #1967D2;\n",
              "      --hover-bg-color: #E2EBFA;\n",
              "      --hover-fill-color: #174EA6;\n",
              "      --disabled-fill-color: #AAA;\n",
              "      --disabled-bg-color: #DDD;\n",
              "  }\n",
              "\n",
              "  [theme=dark] .colab-df-quickchart {\n",
              "      --bg-color: #3B4455;\n",
              "      --fill-color: #D2E3FC;\n",
              "      --hover-bg-color: #434B5C;\n",
              "      --hover-fill-color: #FFFFFF;\n",
              "      --disabled-bg-color: #3B4455;\n",
              "      --disabled-fill-color: #666;\n",
              "  }\n",
              "\n",
              "  .colab-df-quickchart {\n",
              "    background-color: var(--bg-color);\n",
              "    border: none;\n",
              "    border-radius: 50%;\n",
              "    cursor: pointer;\n",
              "    display: none;\n",
              "    fill: var(--fill-color);\n",
              "    height: 32px;\n",
              "    padding: 0;\n",
              "    width: 32px;\n",
              "  }\n",
              "\n",
              "  .colab-df-quickchart:hover {\n",
              "    background-color: var(--hover-bg-color);\n",
              "    box-shadow: 0 1px 2px rgba(60, 64, 67, 0.3), 0 1px 3px 1px rgba(60, 64, 67, 0.15);\n",
              "    fill: var(--button-hover-fill-color);\n",
              "  }\n",
              "\n",
              "  .colab-df-quickchart-complete:disabled,\n",
              "  .colab-df-quickchart-complete:disabled:hover {\n",
              "    background-color: var(--disabled-bg-color);\n",
              "    fill: var(--disabled-fill-color);\n",
              "    box-shadow: none;\n",
              "  }\n",
              "\n",
              "  .colab-df-spinner {\n",
              "    border: 2px solid var(--fill-color);\n",
              "    border-color: transparent;\n",
              "    border-bottom-color: var(--fill-color);\n",
              "    animation:\n",
              "      spin 1s steps(1) infinite;\n",
              "  }\n",
              "\n",
              "  @keyframes spin {\n",
              "    0% {\n",
              "      border-color: transparent;\n",
              "      border-bottom-color: var(--fill-color);\n",
              "      border-left-color: var(--fill-color);\n",
              "    }\n",
              "    20% {\n",
              "      border-color: transparent;\n",
              "      border-left-color: var(--fill-color);\n",
              "      border-top-color: var(--fill-color);\n",
              "    }\n",
              "    30% {\n",
              "      border-color: transparent;\n",
              "      border-left-color: var(--fill-color);\n",
              "      border-top-color: var(--fill-color);\n",
              "      border-right-color: var(--fill-color);\n",
              "    }\n",
              "    40% {\n",
              "      border-color: transparent;\n",
              "      border-right-color: var(--fill-color);\n",
              "      border-top-color: var(--fill-color);\n",
              "    }\n",
              "    60% {\n",
              "      border-color: transparent;\n",
              "      border-right-color: var(--fill-color);\n",
              "    }\n",
              "    80% {\n",
              "      border-color: transparent;\n",
              "      border-right-color: var(--fill-color);\n",
              "      border-bottom-color: var(--fill-color);\n",
              "    }\n",
              "    90% {\n",
              "      border-color: transparent;\n",
              "      border-bottom-color: var(--fill-color);\n",
              "    }\n",
              "  }\n",
              "</style>\n",
              "\n",
              "  <script>\n",
              "    async function quickchart(key) {\n",
              "      const quickchartButtonEl =\n",
              "        document.querySelector('#' + key + ' button');\n",
              "      quickchartButtonEl.disabled = true;  // To prevent multiple clicks.\n",
              "      quickchartButtonEl.classList.add('colab-df-spinner');\n",
              "      try {\n",
              "        const charts = await google.colab.kernel.invokeFunction(\n",
              "            'suggestCharts', [key], {});\n",
              "      } catch (error) {\n",
              "        console.error('Error during call to suggestCharts:', error);\n",
              "      }\n",
              "      quickchartButtonEl.classList.remove('colab-df-spinner');\n",
              "      quickchartButtonEl.classList.add('colab-df-quickchart-complete');\n",
              "    }\n",
              "    (() => {\n",
              "      let quickchartButtonEl =\n",
              "        document.querySelector('#df-f50d4b14-d145-4062-bcd8-a9bc6082d5e3 button');\n",
              "      quickchartButtonEl.style.display =\n",
              "        google.colab.kernel.accessAllowed ? 'block' : 'none';\n",
              "    })();\n",
              "  </script>\n",
              "</div>\n",
              "\n",
              "    </div>\n",
              "  </div>\n"
            ],
            "application/vnd.google.colaboratory.intrinsic+json": {
              "type": "dataframe",
              "variable_name": "df",
              "summary": "{\n  \"name\": \"df\",\n  \"rows\": 374,\n  \"fields\": [\n    {\n      \"column\": \"Gender\",\n      \"properties\": {\n        \"dtype\": \"category\",\n        \"num_unique_values\": 2,\n        \"samples\": [\n          \"Female\",\n          \"Male\"\n        ],\n        \"semantic_type\": \"\",\n        \"description\": \"\"\n      }\n    },\n    {\n      \"column\": \"Age\",\n      \"properties\": {\n        \"dtype\": \"number\",\n        \"std\": 8,\n        \"min\": 27,\n        \"max\": 59,\n        \"num_unique_values\": 31,\n        \"samples\": [\n          56,\n          42\n        ],\n        \"semantic_type\": \"\",\n        \"description\": \"\"\n      }\n    },\n    {\n      \"column\": \"Occupation\",\n      \"properties\": {\n        \"dtype\": \"category\",\n        \"num_unique_values\": 11,\n        \"samples\": [\n          \"Engineer\",\n          \"Software Engineer\"\n        ],\n        \"semantic_type\": \"\",\n        \"description\": \"\"\n      }\n    },\n    {\n      \"column\": \"Sleep Duration\",\n      \"properties\": {\n        \"dtype\": \"number\",\n        \"std\": 0.7956567308898188,\n        \"min\": 5.8,\n        \"max\": 8.5,\n        \"num_unique_values\": 27,\n        \"samples\": [\n          7.7,\n          5.8\n        ],\n        \"semantic_type\": \"\",\n        \"description\": \"\"\n      }\n    },\n    {\n      \"column\": \"Quality of Sleep\",\n      \"properties\": {\n        \"dtype\": \"number\",\n        \"std\": 1,\n        \"min\": 4,\n        \"max\": 9,\n        \"num_unique_values\": 6,\n        \"samples\": [\n          6,\n          4\n        ],\n        \"semantic_type\": \"\",\n        \"description\": \"\"\n      }\n    },\n    {\n      \"column\": \"Physical Activity Level\",\n      \"properties\": {\n        \"dtype\": \"number\",\n        \"std\": 20,\n        \"min\": 30,\n        \"max\": 90,\n        \"num_unique_values\": 16,\n        \"samples\": [\n          42,\n          60\n        ],\n        \"semantic_type\": \"\",\n        \"description\": \"\"\n      }\n    },\n    {\n      \"column\": \"Stress Level\",\n      \"properties\": {\n        \"dtype\": \"number\",\n        \"std\": 1,\n        \"min\": 3,\n        \"max\": 8,\n        \"num_unique_values\": 6,\n        \"samples\": [\n          6,\n          8\n        ],\n        \"semantic_type\": \"\",\n        \"description\": \"\"\n      }\n    },\n    {\n      \"column\": \"BMI Category\",\n      \"properties\": {\n        \"dtype\": \"category\",\n        \"num_unique_values\": 3,\n        \"samples\": [\n          \"Overweight\",\n          \"Normal Weight\"\n        ],\n        \"semantic_type\": \"\",\n        \"description\": \"\"\n      }\n    },\n    {\n      \"column\": \"Heart Rate\",\n      \"properties\": {\n        \"dtype\": \"number\",\n        \"std\": 4,\n        \"min\": 65,\n        \"max\": 86,\n        \"num_unique_values\": 19,\n        \"samples\": [\n          77,\n          80\n        ],\n        \"semantic_type\": \"\",\n        \"description\": \"\"\n      }\n    },\n    {\n      \"column\": \"Daily Steps\",\n      \"properties\": {\n        \"dtype\": \"number\",\n        \"std\": 1617,\n        \"min\": 3000,\n        \"max\": 10000,\n        \"num_unique_values\": 20,\n        \"samples\": [\n          4200,\n          6200\n        ],\n        \"semantic_type\": \"\",\n        \"description\": \"\"\n      }\n    },\n    {\n      \"column\": \"Sleep Disorder\",\n      \"properties\": {\n        \"dtype\": \"number\",\n        \"std\": 0,\n        \"min\": 0,\n        \"max\": 2,\n        \"num_unique_values\": 3,\n        \"samples\": [\n          1,\n          2\n        ],\n        \"semantic_type\": \"\",\n        \"description\": \"\"\n      }\n    },\n    {\n      \"column\": \"Systolic\",\n      \"properties\": {\n        \"dtype\": \"number\",\n        \"std\": 7.748117557645031,\n        \"min\": 115.0,\n        \"max\": 142.0,\n        \"num_unique_values\": 18,\n        \"samples\": [\n          126.0,\n          125.0\n        ],\n        \"semantic_type\": \"\",\n        \"description\": \"\"\n      }\n    },\n    {\n      \"column\": \"Diastolic\",\n      \"properties\": {\n        \"dtype\": \"number\",\n        \"std\": 6.161611452565917,\n        \"min\": 75.0,\n        \"max\": 95.0,\n        \"num_unique_values\": 17,\n        \"samples\": [\n          83.0,\n          80.0\n        ],\n        \"semantic_type\": \"\",\n        \"description\": \"\"\n      }\n    }\n  ]\n}"
            }
          },
          "metadata": {},
          "execution_count": 51
        }
      ]
    },
    {
      "cell_type": "markdown",
      "source": [
        "#otra forma de leer la base de datos"
      ],
      "metadata": {
        "id": "cmb_s0RWtZmg"
      }
    },
    {
      "cell_type": "code",
      "source": [
        "#otra forma de leer la base de datos\n",
        "#import pandas as pd\n",
        "#base=\"sueño.csv\"\n",
        "#df=pd.read_csv(base)\n",
        "#print(df.head(5))"
      ],
      "metadata": {
        "id": "oH9T2QmHqcIX"
      },
      "execution_count": null,
      "outputs": []
    },
    {
      "cell_type": "markdown",
      "source": [
        "#Reporte sobre el problema"
      ],
      "metadata": {
        "id": "TImwZu8DJ3Ff"
      }
    },
    {
      "cell_type": "markdown",
      "source": [
        "**TRASTORNOS DEL SUEÑO**\n",
        "\n",
        "\n",
        "Para iniciar es importante entender el concepto de trastornos del sueño. La Secretaria de Salud (2023) nos dice que son trastornos relacionados con el dormir, incluyendo dificultades para iniciar o permanecer dormido, dormir demasiado, conductas anormales durante el sueño y problemas para mantener un horario regular de sueño."
      ],
      "metadata": {
        "id": "0tj7z58XXSez"
      }
    },
    {
      "cell_type": "markdown",
      "source": [
        "**INSOMNIO**\n",
        "\n",
        "**Definicion de insomnio**\n",
        "\n",
        "Según Martínez-López et al. (2018), el insomnio puede definirse como la dificultad\n",
        "para conciliar o mantener el sueño, acompañada\n",
        "de una sensación de sueño no reparador, a pesar de\n",
        "que las condiciones para el sueño son adecuadas\n",
        "y que suele acompañarse de fatiga y somnolencia\n",
        "durante el día, como dato curioso esto tiene mayor prevalencia en mujeres.En el dia a dia esto puede generar cansancio y dificultades en el desempeñio diurno\n",
        "\n",
        "González Pérez et al. (2009) realizaron un estudio con 167 pacientes hipertensos con trastornos del sueño en donde el insomnio era el mas presente en este tipo de pacientes, el estudio sugiere la existencia de una correlacion entre el aumento de la presion arterial y la presencia de trastornos del sueño\n",
        "\n",
        "**Factores asociados con el insomnio**\n",
        "\n",
        "El insomnio puede ser multifactoiral, este puede deberse a factores de tipo:\n",
        "*    **Psicologico**: Estrés, ansiedad y depresión\n",
        "\n",
        "*   **Enfermedades**: Artritis, hipertensión, diabetes, insuficiencia cardiaca\n",
        "\n",
        "*  **Medicamentos**:Benzodiazepinas, barbitúricos, antidepresivos\n",
        "\n",
        "*   **Ambientales**:Luz en la habitación, sonidos de alta intensidad, calor o frío excesivos\n",
        "\n",
        "*  **Sustancias**:Alcohol, cafeína, nicotina\n",
        "\n",
        "O puede deberse a otros trastornos del sueño (Carrillo-Mora et al., 2018)\n",
        "\n",
        "\n",
        "**Tratamiento**\n",
        "\n",
        "Al ser un trastorno multifactorial es necesario un abordaje completo,iniciando por la revision y/o creacion de un historial clinico, y aunque varia de persona a persona, es importante la implementacion de un tratamiento **no farmacologico** como puede ser:\n",
        "*  **Psicoeducacion en higene del sueño y de su padecimiento**:Encontramos que el sueño se puede ver afectado por el uso del telefono antes de dormir, ambientacion, etc.., y es importante que el consultante conozca en que consiste su padecimiento para que pueda abordarlo de una manera mas informada\n",
        "\n",
        "*   **Terapia**:Puede ser funcional para el manejo del estres y el reconocimiento de patrones en la higene del sueño.\n",
        "\n",
        "\n",
        "Con respecto al **tratamiento farmacologico** los farmacos mas utilizados son las  benzodiacepinas (BZD)\n",
        "\n",
        "\n"
      ],
      "metadata": {
        "id": "l0rZumGAbzJX"
      }
    },
    {
      "cell_type": "markdown",
      "source": [
        "**SINDROME DE APNEA OBSTRUCTIVA**\n",
        "\n",
        "\n",
        "Se caracteriza por episodios recurrentes\n",
        "de oclusión total o parcial de las vías respiratorias\n",
        "superiores durante el sueño por 10 segundos o más;\n",
        "estos episodios producen una detención de flujo aéreo ocasionando despertares breves (fragmentación\n",
        "del sueño), lo cual suele acompañarse de ronquidos\n",
        "fuertes y como consecuencia sueño excesivo durante\n",
        "el día .Se considera que una persona presenta apnea\n",
        "cuando los episodios de apnea o hipopnea ocurren 5 veces por hora de sueño (Carrillo-Mora et al., 2018)\n",
        "\n",
        "Ademas de esto lo anterior, se encuentra asociado con un mayor riesgo cardiovascular y cerebrovascular. La hipertensión arterial es un factor de riesgo clave a considerar por sus repercusiones en la salud (Pedrosa et al.,2011)\n",
        "\n",
        "Este trastorno se presenta mayormente en hombres, el grupo de edad mas afectado ronda entre los 40 y 50 años(Carrillo-Mora et al., 2018)\n",
        "\n",
        "**Factores de riesgo**\n",
        "*   Edad avanzada\n",
        "*   Antescedentes familiares de apenea\n",
        "*   Obesidad\n",
        "*   Consumo de alcohol o tabaco\n",
        "\n",
        "\n",
        "**Tratamiento**\n",
        "\n",
        "\n",
        "Se divide en **mecanicos y tratamientos quirurgicos**:\n",
        "\n",
        "**Mecanicos**\n",
        "*  Dispositivos de avance mandibular\n",
        "*  Dispositivos de presión positiva\n",
        "\n",
        "\n",
        "**Quirurgicos**\n",
        "* Cirugía del paladar y lengua\n",
        "* Tonsilectomía o la\n",
        "uvulopalatofaringoplastía (UPFP)\n",
        "* Cirugía de avance del hueso hioides\n",
        "* Incusirugías mandibulares (Carrillo-Mora et al., 2018)"
      ],
      "metadata": {
        "id": "DKsc4HVFcMQ-"
      }
    },
    {
      "cell_type": "markdown",
      "source": [
        "**Referencias**\n",
        "\n",
        "*   Carrillo-Mora, Paul, Barajas-Martínez, Karina Gabriela, Sánchez-Vázquez, Itzel, & Rangel-Caballero, María Fernanda. (2018). Trastornos del sueño: ¿qué son y cuáles son sus consecuencias?. Revista de la Facultad de Medicina (México), 61(1), 6-20. Recuperado en 07 de abril de 2025, de http://www.scielo.org.mx/scielo.php?script=sci_arttext&pid=S0026-17422018000100006&lng=es&tlng=es.\n",
        "\n",
        "*  González Pérez, Surama, Argudín Martín, Alina de la C, Dot Pérez, Liset de la C, López Vázquez, Nélson M., & Pérez Labrador, Joaquín. (2009). Trastornos del sueño asociados a la hipertensión arterial. Revista de Ciencias Médicas de Pinar del Río, 13(1), 90-99. Recuperado en 09 de abril de 2025, de http://scielo.sld.cu/scielo.php?script=sci_arttext&pid=S1561-31942009000100011&lng=es&tlng=es\n",
        "\n",
        "*   Pedrosa, R. P., Krieger, E. M., Lorenzi-Filho, G., & Drager, L. F. (2011). Avances recientes del impacto de la Apnea Obstructiva del Sueño en la Hipertensión Arterial Sistémica. Arquivos Brasileiros de Cardiologia, 97.\n",
        "\n",
        "*   Secretaría de Salud(2023). Trastornos del sueño: Importancia y recomendaciones. Gobierno de México. https://www.gob.mx/conasama/articulos/137378"
      ],
      "metadata": {
        "id": "tx563H6mYcBc"
      }
    },
    {
      "cell_type": "markdown",
      "source": [
        "#Propuesta de Casos de Uso con Machine Learning\n"
      ],
      "metadata": {
        "id": "n5fjtTADqKVJ"
      }
    },
    {
      "cell_type": "markdown",
      "source": [
        "Partiendo de los datos historicos de pacientes con trastornos de sueño (variable dependiente), podemos ver que variables estan mas presentes/ausentes,algunas posibles opciones pueden ser los factores demograficos demograficos  (la edad o el genero) habitos de sueño (duracion y calidad), o su estilo de vida con sus respectivas mediciones(actividad fisica,BMI,presion arterial,ritmo cardiaco,estres), con la finalidad de generar un modelo que pueda predecir que si en presencia o ausencia de algunos de estos factores es posible el desarrollo de algun trastorno de sueño.\n",
        "\n",
        "\n",
        "Mi hipotesis es que con la aplicacion de este modelo se puede lograr la intervencion (como lo puede ser la psicoeducacion),con la finalidad de prevenir el padecimiento de algun trastono de este tipo\n",
        "\n"
      ],
      "metadata": {
        "id": "aXDa19M3bNqu"
      }
    },
    {
      "cell_type": "markdown",
      "source": [
        "#Replicacion del Codigo Base"
      ],
      "metadata": {
        "id": "eIk0zPIRnW_J"
      }
    },
    {
      "cell_type": "markdown",
      "source": [
        "Replica el codigo presentado en el enlace: https://www.kaggle.com/code/\n",
        "soumyag09/sleep-disorder.\n",
        "\n",
        "\n"
      ],
      "metadata": {
        "id": "zEZKIi_Fo2rc"
      }
    },
    {
      "cell_type": "code",
      "source": [
        "#Importacion de las librerias correspondientes\n",
        "import numpy as np # linear algebra\n",
        "import pandas as pd # data processing, CSV file I/O (e.g. pd.read_csv)\n",
        "import matplotlib.pyplot as plt\n",
        "import seaborn as sns\n",
        "import plotly.express as px\n",
        "import warnings\n",
        "warnings.filterwarnings('ignore')\n",
        "from sklearn.preprocessing import OneHotEncoder,LabelEncoder ,RobustScaler,StandardScaler\n",
        "from sklearn.compose import ColumnTransformer\n",
        "from sklearn.pipeline import Pipeline\n",
        "from sklearn.model_selection import train_test_split,StratifiedShuffleSplit,StratifiedKFold,cross_val_score\n",
        "from imblearn.over_sampling import SMOTE\n",
        "from sklearn.model_selection import train_test_split\n",
        "from sklearn.metrics import accuracy_score, precision_score, recall_score, f1_score, classification_report, confusion_matrix\n",
        "from sklearn.linear_model import LogisticRegression\n",
        "import xgboost as xgb"
      ],
      "metadata": {
        "id": "apfP3dSKnWS5"
      },
      "execution_count": null,
      "outputs": []
    },
    {
      "cell_type": "code",
      "source": [
        "#primeros 5 datos\n",
        "df.head(5)\n",
        "#nos ayuda a conocer con que estamos trabajando"
      ],
      "metadata": {
        "colab": {
          "base_uri": "https://localhost:8080/",
          "height": 313
        },
        "id": "7DzGj2n1ouJ3",
        "outputId": "29f3b726-bd0c-470e-af5b-e7115d0f519e"
      },
      "execution_count": null,
      "outputs": [
        {
          "output_type": "execute_result",
          "data": {
            "text/plain": [
              "   Person ID Gender  Age            Occupation  Sleep Duration  \\\n",
              "0          1   Male   27     Software Engineer             6.1   \n",
              "1          2   Male   28                Doctor             6.2   \n",
              "2          3   Male   28                Doctor             6.2   \n",
              "3          4   Male   28  Sales Representative             5.9   \n",
              "4          5   Male   28  Sales Representative             5.9   \n",
              "\n",
              "   Quality of Sleep  Physical Activity Level  Stress Level BMI Category  \\\n",
              "0                 6                       42             6   Overweight   \n",
              "1                 6                       60             8       Normal   \n",
              "2                 6                       60             8       Normal   \n",
              "3                 4                       30             8        Obese   \n",
              "4                 4                       30             8        Obese   \n",
              "\n",
              "  Blood Pressure  Heart Rate  Daily Steps Sleep Disorder  \n",
              "0         126/83          77         4200            NaN  \n",
              "1         125/80          75        10000            NaN  \n",
              "2         125/80          75        10000            NaN  \n",
              "3         140/90          85         3000    Sleep Apnea  \n",
              "4         140/90          85         3000    Sleep Apnea  "
            ],
            "text/html": [
              "\n",
              "  <div id=\"df-0224aae4-c85b-410f-8680-bec10b93c53b\" class=\"colab-df-container\">\n",
              "    <div>\n",
              "<style scoped>\n",
              "    .dataframe tbody tr th:only-of-type {\n",
              "        vertical-align: middle;\n",
              "    }\n",
              "\n",
              "    .dataframe tbody tr th {\n",
              "        vertical-align: top;\n",
              "    }\n",
              "\n",
              "    .dataframe thead th {\n",
              "        text-align: right;\n",
              "    }\n",
              "</style>\n",
              "<table border=\"1\" class=\"dataframe\">\n",
              "  <thead>\n",
              "    <tr style=\"text-align: right;\">\n",
              "      <th></th>\n",
              "      <th>Person ID</th>\n",
              "      <th>Gender</th>\n",
              "      <th>Age</th>\n",
              "      <th>Occupation</th>\n",
              "      <th>Sleep Duration</th>\n",
              "      <th>Quality of Sleep</th>\n",
              "      <th>Physical Activity Level</th>\n",
              "      <th>Stress Level</th>\n",
              "      <th>BMI Category</th>\n",
              "      <th>Blood Pressure</th>\n",
              "      <th>Heart Rate</th>\n",
              "      <th>Daily Steps</th>\n",
              "      <th>Sleep Disorder</th>\n",
              "    </tr>\n",
              "  </thead>\n",
              "  <tbody>\n",
              "    <tr>\n",
              "      <th>0</th>\n",
              "      <td>1</td>\n",
              "      <td>Male</td>\n",
              "      <td>27</td>\n",
              "      <td>Software Engineer</td>\n",
              "      <td>6.1</td>\n",
              "      <td>6</td>\n",
              "      <td>42</td>\n",
              "      <td>6</td>\n",
              "      <td>Overweight</td>\n",
              "      <td>126/83</td>\n",
              "      <td>77</td>\n",
              "      <td>4200</td>\n",
              "      <td>NaN</td>\n",
              "    </tr>\n",
              "    <tr>\n",
              "      <th>1</th>\n",
              "      <td>2</td>\n",
              "      <td>Male</td>\n",
              "      <td>28</td>\n",
              "      <td>Doctor</td>\n",
              "      <td>6.2</td>\n",
              "      <td>6</td>\n",
              "      <td>60</td>\n",
              "      <td>8</td>\n",
              "      <td>Normal</td>\n",
              "      <td>125/80</td>\n",
              "      <td>75</td>\n",
              "      <td>10000</td>\n",
              "      <td>NaN</td>\n",
              "    </tr>\n",
              "    <tr>\n",
              "      <th>2</th>\n",
              "      <td>3</td>\n",
              "      <td>Male</td>\n",
              "      <td>28</td>\n",
              "      <td>Doctor</td>\n",
              "      <td>6.2</td>\n",
              "      <td>6</td>\n",
              "      <td>60</td>\n",
              "      <td>8</td>\n",
              "      <td>Normal</td>\n",
              "      <td>125/80</td>\n",
              "      <td>75</td>\n",
              "      <td>10000</td>\n",
              "      <td>NaN</td>\n",
              "    </tr>\n",
              "    <tr>\n",
              "      <th>3</th>\n",
              "      <td>4</td>\n",
              "      <td>Male</td>\n",
              "      <td>28</td>\n",
              "      <td>Sales Representative</td>\n",
              "      <td>5.9</td>\n",
              "      <td>4</td>\n",
              "      <td>30</td>\n",
              "      <td>8</td>\n",
              "      <td>Obese</td>\n",
              "      <td>140/90</td>\n",
              "      <td>85</td>\n",
              "      <td>3000</td>\n",
              "      <td>Sleep Apnea</td>\n",
              "    </tr>\n",
              "    <tr>\n",
              "      <th>4</th>\n",
              "      <td>5</td>\n",
              "      <td>Male</td>\n",
              "      <td>28</td>\n",
              "      <td>Sales Representative</td>\n",
              "      <td>5.9</td>\n",
              "      <td>4</td>\n",
              "      <td>30</td>\n",
              "      <td>8</td>\n",
              "      <td>Obese</td>\n",
              "      <td>140/90</td>\n",
              "      <td>85</td>\n",
              "      <td>3000</td>\n",
              "      <td>Sleep Apnea</td>\n",
              "    </tr>\n",
              "  </tbody>\n",
              "</table>\n",
              "</div>\n",
              "    <div class=\"colab-df-buttons\">\n",
              "\n",
              "  <div class=\"colab-df-container\">\n",
              "    <button class=\"colab-df-convert\" onclick=\"convertToInteractive('df-0224aae4-c85b-410f-8680-bec10b93c53b')\"\n",
              "            title=\"Convert this dataframe to an interactive table.\"\n",
              "            style=\"display:none;\">\n",
              "\n",
              "  <svg xmlns=\"http://www.w3.org/2000/svg\" height=\"24px\" viewBox=\"0 -960 960 960\">\n",
              "    <path d=\"M120-120v-720h720v720H120Zm60-500h600v-160H180v160Zm220 220h160v-160H400v160Zm0 220h160v-160H400v160ZM180-400h160v-160H180v160Zm440 0h160v-160H620v160ZM180-180h160v-160H180v160Zm440 0h160v-160H620v160Z\"/>\n",
              "  </svg>\n",
              "    </button>\n",
              "\n",
              "  <style>\n",
              "    .colab-df-container {\n",
              "      display:flex;\n",
              "      gap: 12px;\n",
              "    }\n",
              "\n",
              "    .colab-df-convert {\n",
              "      background-color: #E8F0FE;\n",
              "      border: none;\n",
              "      border-radius: 50%;\n",
              "      cursor: pointer;\n",
              "      display: none;\n",
              "      fill: #1967D2;\n",
              "      height: 32px;\n",
              "      padding: 0 0 0 0;\n",
              "      width: 32px;\n",
              "    }\n",
              "\n",
              "    .colab-df-convert:hover {\n",
              "      background-color: #E2EBFA;\n",
              "      box-shadow: 0px 1px 2px rgba(60, 64, 67, 0.3), 0px 1px 3px 1px rgba(60, 64, 67, 0.15);\n",
              "      fill: #174EA6;\n",
              "    }\n",
              "\n",
              "    .colab-df-buttons div {\n",
              "      margin-bottom: 4px;\n",
              "    }\n",
              "\n",
              "    [theme=dark] .colab-df-convert {\n",
              "      background-color: #3B4455;\n",
              "      fill: #D2E3FC;\n",
              "    }\n",
              "\n",
              "    [theme=dark] .colab-df-convert:hover {\n",
              "      background-color: #434B5C;\n",
              "      box-shadow: 0px 1px 3px 1px rgba(0, 0, 0, 0.15);\n",
              "      filter: drop-shadow(0px 1px 2px rgba(0, 0, 0, 0.3));\n",
              "      fill: #FFFFFF;\n",
              "    }\n",
              "  </style>\n",
              "\n",
              "    <script>\n",
              "      const buttonEl =\n",
              "        document.querySelector('#df-0224aae4-c85b-410f-8680-bec10b93c53b button.colab-df-convert');\n",
              "      buttonEl.style.display =\n",
              "        google.colab.kernel.accessAllowed ? 'block' : 'none';\n",
              "\n",
              "      async function convertToInteractive(key) {\n",
              "        const element = document.querySelector('#df-0224aae4-c85b-410f-8680-bec10b93c53b');\n",
              "        const dataTable =\n",
              "          await google.colab.kernel.invokeFunction('convertToInteractive',\n",
              "                                                    [key], {});\n",
              "        if (!dataTable) return;\n",
              "\n",
              "        const docLinkHtml = 'Like what you see? Visit the ' +\n",
              "          '<a target=\"_blank\" href=https://colab.research.google.com/notebooks/data_table.ipynb>data table notebook</a>'\n",
              "          + ' to learn more about interactive tables.';\n",
              "        element.innerHTML = '';\n",
              "        dataTable['output_type'] = 'display_data';\n",
              "        await google.colab.output.renderOutput(dataTable, element);\n",
              "        const docLink = document.createElement('div');\n",
              "        docLink.innerHTML = docLinkHtml;\n",
              "        element.appendChild(docLink);\n",
              "      }\n",
              "    </script>\n",
              "  </div>\n",
              "\n",
              "\n",
              "<div id=\"df-84fcbfa8-d7e9-4909-bae7-694658395f5b\">\n",
              "  <button class=\"colab-df-quickchart\" onclick=\"quickchart('df-84fcbfa8-d7e9-4909-bae7-694658395f5b')\"\n",
              "            title=\"Suggest charts\"\n",
              "            style=\"display:none;\">\n",
              "\n",
              "<svg xmlns=\"http://www.w3.org/2000/svg\" height=\"24px\"viewBox=\"0 0 24 24\"\n",
              "     width=\"24px\">\n",
              "    <g>\n",
              "        <path d=\"M19 3H5c-1.1 0-2 .9-2 2v14c0 1.1.9 2 2 2h14c1.1 0 2-.9 2-2V5c0-1.1-.9-2-2-2zM9 17H7v-7h2v7zm4 0h-2V7h2v10zm4 0h-2v-4h2v4z\"/>\n",
              "    </g>\n",
              "</svg>\n",
              "  </button>\n",
              "\n",
              "<style>\n",
              "  .colab-df-quickchart {\n",
              "      --bg-color: #E8F0FE;\n",
              "      --fill-color: #1967D2;\n",
              "      --hover-bg-color: #E2EBFA;\n",
              "      --hover-fill-color: #174EA6;\n",
              "      --disabled-fill-color: #AAA;\n",
              "      --disabled-bg-color: #DDD;\n",
              "  }\n",
              "\n",
              "  [theme=dark] .colab-df-quickchart {\n",
              "      --bg-color: #3B4455;\n",
              "      --fill-color: #D2E3FC;\n",
              "      --hover-bg-color: #434B5C;\n",
              "      --hover-fill-color: #FFFFFF;\n",
              "      --disabled-bg-color: #3B4455;\n",
              "      --disabled-fill-color: #666;\n",
              "  }\n",
              "\n",
              "  .colab-df-quickchart {\n",
              "    background-color: var(--bg-color);\n",
              "    border: none;\n",
              "    border-radius: 50%;\n",
              "    cursor: pointer;\n",
              "    display: none;\n",
              "    fill: var(--fill-color);\n",
              "    height: 32px;\n",
              "    padding: 0;\n",
              "    width: 32px;\n",
              "  }\n",
              "\n",
              "  .colab-df-quickchart:hover {\n",
              "    background-color: var(--hover-bg-color);\n",
              "    box-shadow: 0 1px 2px rgba(60, 64, 67, 0.3), 0 1px 3px 1px rgba(60, 64, 67, 0.15);\n",
              "    fill: var(--button-hover-fill-color);\n",
              "  }\n",
              "\n",
              "  .colab-df-quickchart-complete:disabled,\n",
              "  .colab-df-quickchart-complete:disabled:hover {\n",
              "    background-color: var(--disabled-bg-color);\n",
              "    fill: var(--disabled-fill-color);\n",
              "    box-shadow: none;\n",
              "  }\n",
              "\n",
              "  .colab-df-spinner {\n",
              "    border: 2px solid var(--fill-color);\n",
              "    border-color: transparent;\n",
              "    border-bottom-color: var(--fill-color);\n",
              "    animation:\n",
              "      spin 1s steps(1) infinite;\n",
              "  }\n",
              "\n",
              "  @keyframes spin {\n",
              "    0% {\n",
              "      border-color: transparent;\n",
              "      border-bottom-color: var(--fill-color);\n",
              "      border-left-color: var(--fill-color);\n",
              "    }\n",
              "    20% {\n",
              "      border-color: transparent;\n",
              "      border-left-color: var(--fill-color);\n",
              "      border-top-color: var(--fill-color);\n",
              "    }\n",
              "    30% {\n",
              "      border-color: transparent;\n",
              "      border-left-color: var(--fill-color);\n",
              "      border-top-color: var(--fill-color);\n",
              "      border-right-color: var(--fill-color);\n",
              "    }\n",
              "    40% {\n",
              "      border-color: transparent;\n",
              "      border-right-color: var(--fill-color);\n",
              "      border-top-color: var(--fill-color);\n",
              "    }\n",
              "    60% {\n",
              "      border-color: transparent;\n",
              "      border-right-color: var(--fill-color);\n",
              "    }\n",
              "    80% {\n",
              "      border-color: transparent;\n",
              "      border-right-color: var(--fill-color);\n",
              "      border-bottom-color: var(--fill-color);\n",
              "    }\n",
              "    90% {\n",
              "      border-color: transparent;\n",
              "      border-bottom-color: var(--fill-color);\n",
              "    }\n",
              "  }\n",
              "</style>\n",
              "\n",
              "  <script>\n",
              "    async function quickchart(key) {\n",
              "      const quickchartButtonEl =\n",
              "        document.querySelector('#' + key + ' button');\n",
              "      quickchartButtonEl.disabled = true;  // To prevent multiple clicks.\n",
              "      quickchartButtonEl.classList.add('colab-df-spinner');\n",
              "      try {\n",
              "        const charts = await google.colab.kernel.invokeFunction(\n",
              "            'suggestCharts', [key], {});\n",
              "      } catch (error) {\n",
              "        console.error('Error during call to suggestCharts:', error);\n",
              "      }\n",
              "      quickchartButtonEl.classList.remove('colab-df-spinner');\n",
              "      quickchartButtonEl.classList.add('colab-df-quickchart-complete');\n",
              "    }\n",
              "    (() => {\n",
              "      let quickchartButtonEl =\n",
              "        document.querySelector('#df-84fcbfa8-d7e9-4909-bae7-694658395f5b button');\n",
              "      quickchartButtonEl.style.display =\n",
              "        google.colab.kernel.accessAllowed ? 'block' : 'none';\n",
              "    })();\n",
              "  </script>\n",
              "</div>\n",
              "\n",
              "    </div>\n",
              "  </div>\n"
            ],
            "application/vnd.google.colaboratory.intrinsic+json": {
              "type": "dataframe",
              "summary": "{\n  \"name\": \"#nos ayuda a conocer con que estamos trabajando\",\n  \"rows\": 5,\n  \"fields\": [\n    {\n      \"column\": \"Person ID\",\n      \"properties\": {\n        \"dtype\": \"number\",\n        \"std\": 1,\n        \"min\": 1,\n        \"max\": 5,\n        \"num_unique_values\": 5,\n        \"samples\": [\n          2,\n          5,\n          3\n        ],\n        \"semantic_type\": \"\",\n        \"description\": \"\"\n      }\n    },\n    {\n      \"column\": \"Gender\",\n      \"properties\": {\n        \"dtype\": \"category\",\n        \"num_unique_values\": 1,\n        \"samples\": [\n          \"Male\"\n        ],\n        \"semantic_type\": \"\",\n        \"description\": \"\"\n      }\n    },\n    {\n      \"column\": \"Age\",\n      \"properties\": {\n        \"dtype\": \"number\",\n        \"std\": 0,\n        \"min\": 27,\n        \"max\": 28,\n        \"num_unique_values\": 2,\n        \"samples\": [\n          28\n        ],\n        \"semantic_type\": \"\",\n        \"description\": \"\"\n      }\n    },\n    {\n      \"column\": \"Occupation\",\n      \"properties\": {\n        \"dtype\": \"string\",\n        \"num_unique_values\": 3,\n        \"samples\": [\n          \"Software Engineer\"\n        ],\n        \"semantic_type\": \"\",\n        \"description\": \"\"\n      }\n    },\n    {\n      \"column\": \"Sleep Duration\",\n      \"properties\": {\n        \"dtype\": \"number\",\n        \"std\": 0.15165750888103088,\n        \"min\": 5.9,\n        \"max\": 6.2,\n        \"num_unique_values\": 3,\n        \"samples\": [\n          6.1\n        ],\n        \"semantic_type\": \"\",\n        \"description\": \"\"\n      }\n    },\n    {\n      \"column\": \"Quality of Sleep\",\n      \"properties\": {\n        \"dtype\": \"number\",\n        \"std\": 1,\n        \"min\": 4,\n        \"max\": 6,\n        \"num_unique_values\": 2,\n        \"samples\": [\n          4\n        ],\n        \"semantic_type\": \"\",\n        \"description\": \"\"\n      }\n    },\n    {\n      \"column\": \"Physical Activity Level\",\n      \"properties\": {\n        \"dtype\": \"number\",\n        \"std\": 15,\n        \"min\": 30,\n        \"max\": 60,\n        \"num_unique_values\": 3,\n        \"samples\": [\n          42\n        ],\n        \"semantic_type\": \"\",\n        \"description\": \"\"\n      }\n    },\n    {\n      \"column\": \"Stress Level\",\n      \"properties\": {\n        \"dtype\": \"number\",\n        \"std\": 0,\n        \"min\": 6,\n        \"max\": 8,\n        \"num_unique_values\": 2,\n        \"samples\": [\n          8\n        ],\n        \"semantic_type\": \"\",\n        \"description\": \"\"\n      }\n    },\n    {\n      \"column\": \"BMI Category\",\n      \"properties\": {\n        \"dtype\": \"string\",\n        \"num_unique_values\": 3,\n        \"samples\": [\n          \"Overweight\"\n        ],\n        \"semantic_type\": \"\",\n        \"description\": \"\"\n      }\n    },\n    {\n      \"column\": \"Blood Pressure\",\n      \"properties\": {\n        \"dtype\": \"string\",\n        \"num_unique_values\": 3,\n        \"samples\": [\n          \"126/83\"\n        ],\n        \"semantic_type\": \"\",\n        \"description\": \"\"\n      }\n    },\n    {\n      \"column\": \"Heart Rate\",\n      \"properties\": {\n        \"dtype\": \"number\",\n        \"std\": 5,\n        \"min\": 75,\n        \"max\": 85,\n        \"num_unique_values\": 3,\n        \"samples\": [\n          77\n        ],\n        \"semantic_type\": \"\",\n        \"description\": \"\"\n      }\n    },\n    {\n      \"column\": \"Daily Steps\",\n      \"properties\": {\n        \"dtype\": \"number\",\n        \"std\": 3648,\n        \"min\": 3000,\n        \"max\": 10000,\n        \"num_unique_values\": 3,\n        \"samples\": [\n          4200\n        ],\n        \"semantic_type\": \"\",\n        \"description\": \"\"\n      }\n    },\n    {\n      \"column\": \"Sleep Disorder\",\n      \"properties\": {\n        \"dtype\": \"category\",\n        \"num_unique_values\": 1,\n        \"samples\": [\n          \"Sleep Apnea\"\n        ],\n        \"semantic_type\": \"\",\n        \"description\": \"\"\n      }\n    }\n  ]\n}"
            }
          },
          "metadata": {},
          "execution_count": 9
        }
      ]
    },
    {
      "cell_type": "code",
      "source": [
        "#forma del df\n",
        "df.shape\n",
        "#tenemos 374 filas y 13 columnas"
      ],
      "metadata": {
        "colab": {
          "base_uri": "https://localhost:8080/"
        },
        "id": "Zc7RLjbWqiwp",
        "outputId": "218fb7c8-c188-4b66-f721-ce39a68b57a7"
      },
      "execution_count": null,
      "outputs": [
        {
          "output_type": "execute_result",
          "data": {
            "text/plain": [
              "(374, 13)"
            ]
          },
          "metadata": {},
          "execution_count": 10
        }
      ]
    },
    {
      "cell_type": "code",
      "source": [
        "#tipo de datos\n",
        "df.dtypes\n",
        "#La forma de los datos son de tipo entero y object"
      ],
      "metadata": {
        "colab": {
          "base_uri": "https://localhost:8080/",
          "height": 492
        },
        "id": "GhYJut0QqsYX",
        "outputId": "3386233a-01da-4cb1-ac42-2d44a5b618de"
      },
      "execution_count": null,
      "outputs": [
        {
          "output_type": "execute_result",
          "data": {
            "text/plain": [
              "Person ID                    int64\n",
              "Gender                      object\n",
              "Age                          int64\n",
              "Occupation                  object\n",
              "Sleep Duration             float64\n",
              "Quality of Sleep             int64\n",
              "Physical Activity Level      int64\n",
              "Stress Level                 int64\n",
              "BMI Category                object\n",
              "Blood Pressure              object\n",
              "Heart Rate                   int64\n",
              "Daily Steps                  int64\n",
              "Sleep Disorder              object\n",
              "dtype: object"
            ],
            "text/html": [
              "<div>\n",
              "<style scoped>\n",
              "    .dataframe tbody tr th:only-of-type {\n",
              "        vertical-align: middle;\n",
              "    }\n",
              "\n",
              "    .dataframe tbody tr th {\n",
              "        vertical-align: top;\n",
              "    }\n",
              "\n",
              "    .dataframe thead th {\n",
              "        text-align: right;\n",
              "    }\n",
              "</style>\n",
              "<table border=\"1\" class=\"dataframe\">\n",
              "  <thead>\n",
              "    <tr style=\"text-align: right;\">\n",
              "      <th></th>\n",
              "      <th>0</th>\n",
              "    </tr>\n",
              "  </thead>\n",
              "  <tbody>\n",
              "    <tr>\n",
              "      <th>Person ID</th>\n",
              "      <td>int64</td>\n",
              "    </tr>\n",
              "    <tr>\n",
              "      <th>Gender</th>\n",
              "      <td>object</td>\n",
              "    </tr>\n",
              "    <tr>\n",
              "      <th>Age</th>\n",
              "      <td>int64</td>\n",
              "    </tr>\n",
              "    <tr>\n",
              "      <th>Occupation</th>\n",
              "      <td>object</td>\n",
              "    </tr>\n",
              "    <tr>\n",
              "      <th>Sleep Duration</th>\n",
              "      <td>float64</td>\n",
              "    </tr>\n",
              "    <tr>\n",
              "      <th>Quality of Sleep</th>\n",
              "      <td>int64</td>\n",
              "    </tr>\n",
              "    <tr>\n",
              "      <th>Physical Activity Level</th>\n",
              "      <td>int64</td>\n",
              "    </tr>\n",
              "    <tr>\n",
              "      <th>Stress Level</th>\n",
              "      <td>int64</td>\n",
              "    </tr>\n",
              "    <tr>\n",
              "      <th>BMI Category</th>\n",
              "      <td>object</td>\n",
              "    </tr>\n",
              "    <tr>\n",
              "      <th>Blood Pressure</th>\n",
              "      <td>object</td>\n",
              "    </tr>\n",
              "    <tr>\n",
              "      <th>Heart Rate</th>\n",
              "      <td>int64</td>\n",
              "    </tr>\n",
              "    <tr>\n",
              "      <th>Daily Steps</th>\n",
              "      <td>int64</td>\n",
              "    </tr>\n",
              "    <tr>\n",
              "      <th>Sleep Disorder</th>\n",
              "      <td>object</td>\n",
              "    </tr>\n",
              "  </tbody>\n",
              "</table>\n",
              "</div><br><label><b>dtype:</b> object</label>"
            ]
          },
          "metadata": {},
          "execution_count": 11
        }
      ]
    },
    {
      "cell_type": "code",
      "source": [
        "#descriptivos del df\n",
        "df.describe()\n",
        "#visualizamos los datos mayormente de tendencia central de cada una de las columnas\n",
        "#esto es una parte fundamental para entender como se estan comportando nuestros datos\n",
        "#observamos por ej en la edad una media de 42 con una DE 8.67,lo que nos dice que\n",
        "#gran parte de las personas tienen aprox entre 34 y 50"
      ],
      "metadata": {
        "colab": {
          "base_uri": "https://localhost:8080/",
          "height": 355
        },
        "id": "VwsaQxozq9mM",
        "outputId": "2a35f18c-6505-48a9-ffbf-a7c26521369a"
      },
      "execution_count": null,
      "outputs": [
        {
          "output_type": "execute_result",
          "data": {
            "text/plain": [
              "        Person ID         Age  Sleep Duration  Quality of Sleep  \\\n",
              "count  374.000000  374.000000      374.000000        374.000000   \n",
              "mean   187.500000   42.184492        7.132086          7.312834   \n",
              "std    108.108742    8.673133        0.795657          1.196956   \n",
              "min      1.000000   27.000000        5.800000          4.000000   \n",
              "25%     94.250000   35.250000        6.400000          6.000000   \n",
              "50%    187.500000   43.000000        7.200000          7.000000   \n",
              "75%    280.750000   50.000000        7.800000          8.000000   \n",
              "max    374.000000   59.000000        8.500000          9.000000   \n",
              "\n",
              "       Physical Activity Level  Stress Level  Heart Rate   Daily Steps  \n",
              "count               374.000000    374.000000  374.000000    374.000000  \n",
              "mean                 59.171123      5.385027   70.165775   6816.844920  \n",
              "std                  20.830804      1.774526    4.135676   1617.915679  \n",
              "min                  30.000000      3.000000   65.000000   3000.000000  \n",
              "25%                  45.000000      4.000000   68.000000   5600.000000  \n",
              "50%                  60.000000      5.000000   70.000000   7000.000000  \n",
              "75%                  75.000000      7.000000   72.000000   8000.000000  \n",
              "max                  90.000000      8.000000   86.000000  10000.000000  "
            ],
            "text/html": [
              "\n",
              "  <div id=\"df-d4e2b301-6626-43c7-a5c4-8a2330ba8051\" class=\"colab-df-container\">\n",
              "    <div>\n",
              "<style scoped>\n",
              "    .dataframe tbody tr th:only-of-type {\n",
              "        vertical-align: middle;\n",
              "    }\n",
              "\n",
              "    .dataframe tbody tr th {\n",
              "        vertical-align: top;\n",
              "    }\n",
              "\n",
              "    .dataframe thead th {\n",
              "        text-align: right;\n",
              "    }\n",
              "</style>\n",
              "<table border=\"1\" class=\"dataframe\">\n",
              "  <thead>\n",
              "    <tr style=\"text-align: right;\">\n",
              "      <th></th>\n",
              "      <th>Person ID</th>\n",
              "      <th>Age</th>\n",
              "      <th>Sleep Duration</th>\n",
              "      <th>Quality of Sleep</th>\n",
              "      <th>Physical Activity Level</th>\n",
              "      <th>Stress Level</th>\n",
              "      <th>Heart Rate</th>\n",
              "      <th>Daily Steps</th>\n",
              "    </tr>\n",
              "  </thead>\n",
              "  <tbody>\n",
              "    <tr>\n",
              "      <th>count</th>\n",
              "      <td>374.000000</td>\n",
              "      <td>374.000000</td>\n",
              "      <td>374.000000</td>\n",
              "      <td>374.000000</td>\n",
              "      <td>374.000000</td>\n",
              "      <td>374.000000</td>\n",
              "      <td>374.000000</td>\n",
              "      <td>374.000000</td>\n",
              "    </tr>\n",
              "    <tr>\n",
              "      <th>mean</th>\n",
              "      <td>187.500000</td>\n",
              "      <td>42.184492</td>\n",
              "      <td>7.132086</td>\n",
              "      <td>7.312834</td>\n",
              "      <td>59.171123</td>\n",
              "      <td>5.385027</td>\n",
              "      <td>70.165775</td>\n",
              "      <td>6816.844920</td>\n",
              "    </tr>\n",
              "    <tr>\n",
              "      <th>std</th>\n",
              "      <td>108.108742</td>\n",
              "      <td>8.673133</td>\n",
              "      <td>0.795657</td>\n",
              "      <td>1.196956</td>\n",
              "      <td>20.830804</td>\n",
              "      <td>1.774526</td>\n",
              "      <td>4.135676</td>\n",
              "      <td>1617.915679</td>\n",
              "    </tr>\n",
              "    <tr>\n",
              "      <th>min</th>\n",
              "      <td>1.000000</td>\n",
              "      <td>27.000000</td>\n",
              "      <td>5.800000</td>\n",
              "      <td>4.000000</td>\n",
              "      <td>30.000000</td>\n",
              "      <td>3.000000</td>\n",
              "      <td>65.000000</td>\n",
              "      <td>3000.000000</td>\n",
              "    </tr>\n",
              "    <tr>\n",
              "      <th>25%</th>\n",
              "      <td>94.250000</td>\n",
              "      <td>35.250000</td>\n",
              "      <td>6.400000</td>\n",
              "      <td>6.000000</td>\n",
              "      <td>45.000000</td>\n",
              "      <td>4.000000</td>\n",
              "      <td>68.000000</td>\n",
              "      <td>5600.000000</td>\n",
              "    </tr>\n",
              "    <tr>\n",
              "      <th>50%</th>\n",
              "      <td>187.500000</td>\n",
              "      <td>43.000000</td>\n",
              "      <td>7.200000</td>\n",
              "      <td>7.000000</td>\n",
              "      <td>60.000000</td>\n",
              "      <td>5.000000</td>\n",
              "      <td>70.000000</td>\n",
              "      <td>7000.000000</td>\n",
              "    </tr>\n",
              "    <tr>\n",
              "      <th>75%</th>\n",
              "      <td>280.750000</td>\n",
              "      <td>50.000000</td>\n",
              "      <td>7.800000</td>\n",
              "      <td>8.000000</td>\n",
              "      <td>75.000000</td>\n",
              "      <td>7.000000</td>\n",
              "      <td>72.000000</td>\n",
              "      <td>8000.000000</td>\n",
              "    </tr>\n",
              "    <tr>\n",
              "      <th>max</th>\n",
              "      <td>374.000000</td>\n",
              "      <td>59.000000</td>\n",
              "      <td>8.500000</td>\n",
              "      <td>9.000000</td>\n",
              "      <td>90.000000</td>\n",
              "      <td>8.000000</td>\n",
              "      <td>86.000000</td>\n",
              "      <td>10000.000000</td>\n",
              "    </tr>\n",
              "  </tbody>\n",
              "</table>\n",
              "</div>\n",
              "    <div class=\"colab-df-buttons\">\n",
              "\n",
              "  <div class=\"colab-df-container\">\n",
              "    <button class=\"colab-df-convert\" onclick=\"convertToInteractive('df-d4e2b301-6626-43c7-a5c4-8a2330ba8051')\"\n",
              "            title=\"Convert this dataframe to an interactive table.\"\n",
              "            style=\"display:none;\">\n",
              "\n",
              "  <svg xmlns=\"http://www.w3.org/2000/svg\" height=\"24px\" viewBox=\"0 -960 960 960\">\n",
              "    <path d=\"M120-120v-720h720v720H120Zm60-500h600v-160H180v160Zm220 220h160v-160H400v160Zm0 220h160v-160H400v160ZM180-400h160v-160H180v160Zm440 0h160v-160H620v160ZM180-180h160v-160H180v160Zm440 0h160v-160H620v160Z\"/>\n",
              "  </svg>\n",
              "    </button>\n",
              "\n",
              "  <style>\n",
              "    .colab-df-container {\n",
              "      display:flex;\n",
              "      gap: 12px;\n",
              "    }\n",
              "\n",
              "    .colab-df-convert {\n",
              "      background-color: #E8F0FE;\n",
              "      border: none;\n",
              "      border-radius: 50%;\n",
              "      cursor: pointer;\n",
              "      display: none;\n",
              "      fill: #1967D2;\n",
              "      height: 32px;\n",
              "      padding: 0 0 0 0;\n",
              "      width: 32px;\n",
              "    }\n",
              "\n",
              "    .colab-df-convert:hover {\n",
              "      background-color: #E2EBFA;\n",
              "      box-shadow: 0px 1px 2px rgba(60, 64, 67, 0.3), 0px 1px 3px 1px rgba(60, 64, 67, 0.15);\n",
              "      fill: #174EA6;\n",
              "    }\n",
              "\n",
              "    .colab-df-buttons div {\n",
              "      margin-bottom: 4px;\n",
              "    }\n",
              "\n",
              "    [theme=dark] .colab-df-convert {\n",
              "      background-color: #3B4455;\n",
              "      fill: #D2E3FC;\n",
              "    }\n",
              "\n",
              "    [theme=dark] .colab-df-convert:hover {\n",
              "      background-color: #434B5C;\n",
              "      box-shadow: 0px 1px 3px 1px rgba(0, 0, 0, 0.15);\n",
              "      filter: drop-shadow(0px 1px 2px rgba(0, 0, 0, 0.3));\n",
              "      fill: #FFFFFF;\n",
              "    }\n",
              "  </style>\n",
              "\n",
              "    <script>\n",
              "      const buttonEl =\n",
              "        document.querySelector('#df-d4e2b301-6626-43c7-a5c4-8a2330ba8051 button.colab-df-convert');\n",
              "      buttonEl.style.display =\n",
              "        google.colab.kernel.accessAllowed ? 'block' : 'none';\n",
              "\n",
              "      async function convertToInteractive(key) {\n",
              "        const element = document.querySelector('#df-d4e2b301-6626-43c7-a5c4-8a2330ba8051');\n",
              "        const dataTable =\n",
              "          await google.colab.kernel.invokeFunction('convertToInteractive',\n",
              "                                                    [key], {});\n",
              "        if (!dataTable) return;\n",
              "\n",
              "        const docLinkHtml = 'Like what you see? Visit the ' +\n",
              "          '<a target=\"_blank\" href=https://colab.research.google.com/notebooks/data_table.ipynb>data table notebook</a>'\n",
              "          + ' to learn more about interactive tables.';\n",
              "        element.innerHTML = '';\n",
              "        dataTable['output_type'] = 'display_data';\n",
              "        await google.colab.output.renderOutput(dataTable, element);\n",
              "        const docLink = document.createElement('div');\n",
              "        docLink.innerHTML = docLinkHtml;\n",
              "        element.appendChild(docLink);\n",
              "      }\n",
              "    </script>\n",
              "  </div>\n",
              "\n",
              "\n",
              "<div id=\"df-f9b4d1ad-9863-4ceb-8284-9d41c91baa1b\">\n",
              "  <button class=\"colab-df-quickchart\" onclick=\"quickchart('df-f9b4d1ad-9863-4ceb-8284-9d41c91baa1b')\"\n",
              "            title=\"Suggest charts\"\n",
              "            style=\"display:none;\">\n",
              "\n",
              "<svg xmlns=\"http://www.w3.org/2000/svg\" height=\"24px\"viewBox=\"0 0 24 24\"\n",
              "     width=\"24px\">\n",
              "    <g>\n",
              "        <path d=\"M19 3H5c-1.1 0-2 .9-2 2v14c0 1.1.9 2 2 2h14c1.1 0 2-.9 2-2V5c0-1.1-.9-2-2-2zM9 17H7v-7h2v7zm4 0h-2V7h2v10zm4 0h-2v-4h2v4z\"/>\n",
              "    </g>\n",
              "</svg>\n",
              "  </button>\n",
              "\n",
              "<style>\n",
              "  .colab-df-quickchart {\n",
              "      --bg-color: #E8F0FE;\n",
              "      --fill-color: #1967D2;\n",
              "      --hover-bg-color: #E2EBFA;\n",
              "      --hover-fill-color: #174EA6;\n",
              "      --disabled-fill-color: #AAA;\n",
              "      --disabled-bg-color: #DDD;\n",
              "  }\n",
              "\n",
              "  [theme=dark] .colab-df-quickchart {\n",
              "      --bg-color: #3B4455;\n",
              "      --fill-color: #D2E3FC;\n",
              "      --hover-bg-color: #434B5C;\n",
              "      --hover-fill-color: #FFFFFF;\n",
              "      --disabled-bg-color: #3B4455;\n",
              "      --disabled-fill-color: #666;\n",
              "  }\n",
              "\n",
              "  .colab-df-quickchart {\n",
              "    background-color: var(--bg-color);\n",
              "    border: none;\n",
              "    border-radius: 50%;\n",
              "    cursor: pointer;\n",
              "    display: none;\n",
              "    fill: var(--fill-color);\n",
              "    height: 32px;\n",
              "    padding: 0;\n",
              "    width: 32px;\n",
              "  }\n",
              "\n",
              "  .colab-df-quickchart:hover {\n",
              "    background-color: var(--hover-bg-color);\n",
              "    box-shadow: 0 1px 2px rgba(60, 64, 67, 0.3), 0 1px 3px 1px rgba(60, 64, 67, 0.15);\n",
              "    fill: var(--button-hover-fill-color);\n",
              "  }\n",
              "\n",
              "  .colab-df-quickchart-complete:disabled,\n",
              "  .colab-df-quickchart-complete:disabled:hover {\n",
              "    background-color: var(--disabled-bg-color);\n",
              "    fill: var(--disabled-fill-color);\n",
              "    box-shadow: none;\n",
              "  }\n",
              "\n",
              "  .colab-df-spinner {\n",
              "    border: 2px solid var(--fill-color);\n",
              "    border-color: transparent;\n",
              "    border-bottom-color: var(--fill-color);\n",
              "    animation:\n",
              "      spin 1s steps(1) infinite;\n",
              "  }\n",
              "\n",
              "  @keyframes spin {\n",
              "    0% {\n",
              "      border-color: transparent;\n",
              "      border-bottom-color: var(--fill-color);\n",
              "      border-left-color: var(--fill-color);\n",
              "    }\n",
              "    20% {\n",
              "      border-color: transparent;\n",
              "      border-left-color: var(--fill-color);\n",
              "      border-top-color: var(--fill-color);\n",
              "    }\n",
              "    30% {\n",
              "      border-color: transparent;\n",
              "      border-left-color: var(--fill-color);\n",
              "      border-top-color: var(--fill-color);\n",
              "      border-right-color: var(--fill-color);\n",
              "    }\n",
              "    40% {\n",
              "      border-color: transparent;\n",
              "      border-right-color: var(--fill-color);\n",
              "      border-top-color: var(--fill-color);\n",
              "    }\n",
              "    60% {\n",
              "      border-color: transparent;\n",
              "      border-right-color: var(--fill-color);\n",
              "    }\n",
              "    80% {\n",
              "      border-color: transparent;\n",
              "      border-right-color: var(--fill-color);\n",
              "      border-bottom-color: var(--fill-color);\n",
              "    }\n",
              "    90% {\n",
              "      border-color: transparent;\n",
              "      border-bottom-color: var(--fill-color);\n",
              "    }\n",
              "  }\n",
              "</style>\n",
              "\n",
              "  <script>\n",
              "    async function quickchart(key) {\n",
              "      const quickchartButtonEl =\n",
              "        document.querySelector('#' + key + ' button');\n",
              "      quickchartButtonEl.disabled = true;  // To prevent multiple clicks.\n",
              "      quickchartButtonEl.classList.add('colab-df-spinner');\n",
              "      try {\n",
              "        const charts = await google.colab.kernel.invokeFunction(\n",
              "            'suggestCharts', [key], {});\n",
              "      } catch (error) {\n",
              "        console.error('Error during call to suggestCharts:', error);\n",
              "      }\n",
              "      quickchartButtonEl.classList.remove('colab-df-spinner');\n",
              "      quickchartButtonEl.classList.add('colab-df-quickchart-complete');\n",
              "    }\n",
              "    (() => {\n",
              "      let quickchartButtonEl =\n",
              "        document.querySelector('#df-f9b4d1ad-9863-4ceb-8284-9d41c91baa1b button');\n",
              "      quickchartButtonEl.style.display =\n",
              "        google.colab.kernel.accessAllowed ? 'block' : 'none';\n",
              "    })();\n",
              "  </script>\n",
              "</div>\n",
              "\n",
              "    </div>\n",
              "  </div>\n"
            ],
            "application/vnd.google.colaboratory.intrinsic+json": {
              "type": "dataframe",
              "summary": "{\n  \"name\": \"#gran parte de las personas tienen aprox entre 34 y 50\",\n  \"rows\": 8,\n  \"fields\": [\n    {\n      \"column\": \"Person ID\",\n      \"properties\": {\n        \"dtype\": \"number\",\n        \"std\": 134.48675537725623,\n        \"min\": 1.0,\n        \"max\": 374.0,\n        \"num_unique_values\": 6,\n        \"samples\": [\n          374.0,\n          187.5,\n          280.75\n        ],\n        \"semantic_type\": \"\",\n        \"description\": \"\"\n      }\n    },\n    {\n      \"column\": \"Age\",\n      \"properties\": {\n        \"dtype\": \"number\",\n        \"std\": 119.80638994107831,\n        \"min\": 8.67313346554724,\n        \"max\": 374.0,\n        \"num_unique_values\": 8,\n        \"samples\": [\n          42.18449197860963,\n          43.0,\n          374.0\n        ],\n        \"semantic_type\": \"\",\n        \"description\": \"\"\n      }\n    },\n    {\n      \"column\": \"Sleep Duration\",\n      \"properties\": {\n        \"dtype\": \"number\",\n        \"std\": 130.04692192905955,\n        \"min\": 0.7956567308898188,\n        \"max\": 374.0,\n        \"num_unique_values\": 8,\n        \"samples\": [\n          7.132085561497325,\n          7.2,\n          374.0\n        ],\n        \"semantic_type\": \"\",\n        \"description\": \"\"\n      }\n    },\n    {\n      \"column\": \"Quality of Sleep\",\n      \"properties\": {\n        \"dtype\": \"number\",\n        \"std\": 130.1053746485686,\n        \"min\": 1.1969559197336044,\n        \"max\": 374.0,\n        \"num_unique_values\": 8,\n        \"samples\": [\n          7.31283422459893,\n          7.0,\n          374.0\n        ],\n        \"semantic_type\": \"\",\n        \"description\": \"\"\n      }\n    },\n    {\n      \"column\": \"Physical Activity Level\",\n      \"properties\": {\n        \"dtype\": \"number\",\n        \"std\": 115.26136820473155,\n        \"min\": 20.830803658071673,\n        \"max\": 374.0,\n        \"num_unique_values\": 8,\n        \"samples\": [\n          59.17112299465241,\n          60.0,\n          374.0\n        ],\n        \"semantic_type\": \"\",\n        \"description\": \"\"\n      }\n    },\n    {\n      \"column\": \"Stress Level\",\n      \"properties\": {\n        \"dtype\": \"number\",\n        \"std\": 130.5192212721048,\n        \"min\": 1.7745264441985167,\n        \"max\": 374.0,\n        \"num_unique_values\": 8,\n        \"samples\": [\n          5.385026737967914,\n          5.0,\n          374.0\n        ],\n        \"semantic_type\": \"\",\n        \"description\": \"\"\n      }\n    },\n    {\n      \"column\": \"Heart Rate\",\n      \"properties\": {\n        \"dtype\": \"number\",\n        \"std\": 112.93122751659772,\n        \"min\": 4.135675535112214,\n        \"max\": 374.0,\n        \"num_unique_values\": 8,\n        \"samples\": [\n          70.16577540106952,\n          70.0,\n          374.0\n        ],\n        \"semantic_type\": \"\",\n        \"description\": \"\"\n      }\n    },\n    {\n      \"column\": \"Daily Steps\",\n      \"properties\": {\n        \"dtype\": \"number\",\n        \"std\": 3333.253019909254,\n        \"min\": 374.0,\n        \"max\": 10000.0,\n        \"num_unique_values\": 8,\n        \"samples\": [\n          6816.844919786096,\n          7000.0,\n          374.0\n        ],\n        \"semantic_type\": \"\",\n        \"description\": \"\"\n      }\n    }\n  ]\n}"
            }
          },
          "metadata": {},
          "execution_count": 12
        }
      ]
    },
    {
      "cell_type": "code",
      "source": [
        "#columnas sin tomar en cuenta \"Person ID\"\n",
        "columns = [column for column in df.columns if column!='Person ID']\n",
        "#Nos dice que las columns es igual a todas las columnas a excepcion de \"Person ID\""
      ],
      "metadata": {
        "id": "aQJZZQilvem_"
      },
      "execution_count": null,
      "outputs": []
    },
    {
      "cell_type": "code",
      "source": [
        "#Valores unicos por columna\n",
        "for column in columns:\n",
        "    unique_values = df[column].unique()\n",
        "    print(f\"Unique values in '{column}': {unique_values}\")\n"
      ],
      "metadata": {
        "colab": {
          "base_uri": "https://localhost:8080/"
        },
        "id": "Q_TRk3G6wzjG",
        "outputId": "ea9773e0-0b79-4d82-9bf7-8a5de1aa1b59"
      },
      "execution_count": null,
      "outputs": [
        {
          "output_type": "stream",
          "name": "stdout",
          "text": [
            "Unique values in 'Gender': ['Male' 'Female']\n",
            "Unique values in 'Age': [27 28 29 30 31 32 33 34 35 36 37 38 39 40 41 42 43 44 45 48 49 50 51 52\n",
            " 53 54 55 56 57 58 59]\n",
            "Unique values in 'Occupation': ['Software Engineer' 'Doctor' 'Sales Representative' 'Teacher' 'Nurse'\n",
            " 'Engineer' 'Accountant' 'Scientist' 'Lawyer' 'Salesperson' 'Manager']\n",
            "Unique values in 'Sleep Duration': [6.1 6.2 5.9 6.3 7.8 6.  6.5 7.6 7.7 7.9 6.4 7.5 7.2 5.8 6.7 7.3 7.4 7.1\n",
            " 6.6 6.9 8.  6.8 8.1 8.3 8.5 8.4 8.2]\n",
            "Unique values in 'Quality of Sleep': [6 4 7 5 8 9]\n",
            "Unique values in 'Physical Activity Level': [42 60 30 40 75 35 45 50 32 70 80 55 90 47 65 85]\n",
            "Unique values in 'Stress Level': [6 8 7 4 3 5]\n",
            "Unique values in 'BMI Category': ['Overweight' 'Normal' 'Obese' 'Normal Weight']\n",
            "Unique values in 'Blood Pressure': ['126/83' '125/80' '140/90' '120/80' '132/87' '130/86' '117/76' '118/76'\n",
            " '128/85' '131/86' '128/84' '115/75' '135/88' '129/84' '130/85' '115/78'\n",
            " '119/77' '121/79' '125/82' '135/90' '122/80' '142/92' '140/95' '139/91'\n",
            " '118/75']\n",
            "Unique values in 'Heart Rate': [77 75 85 82 70 80 78 69 72 68 76 81 65 84 74 67 73 83 86]\n",
            "Unique values in 'Daily Steps': [ 4200 10000  3000  3500  8000  4000  4100  6800  5000  7000  5500  5200\n",
            "  5600  3300  4800  7500  7300  6200  6000  3700]\n",
            "Unique values in 'Sleep Disorder': [nan 'Sleep Apnea' 'Insomnia']\n"
          ]
        }
      ]
    },
    {
      "cell_type": "code",
      "source": [
        "# Replace NaN in 'Sleep Disorder' with 'No Disorder'\n",
        "df['Sleep Disorder'].fillna('No Disorder', inplace=True)\n",
        "#Util para no tener valores vacios"
      ],
      "metadata": {
        "id": "abLOpY5sxP_z"
      },
      "execution_count": null,
      "outputs": []
    },
    {
      "cell_type": "code",
      "source": [
        "# Value counts of 'Sleep Disorder'\n",
        "sleep_disorder_counts = df['Sleep Disorder'].value_counts()\n",
        "\n",
        "print(\"Value counts of 'Sleep Disorder':\")\n",
        "print(sleep_disorder_counts)\n",
        "#En la variable sleep_disorder_counts de la columna del df Sleep Disorder' cuenta\n",
        "#los valores, tenemos 78 de apnea y 77 de Insomnio"
      ],
      "metadata": {
        "colab": {
          "base_uri": "https://localhost:8080/"
        },
        "id": "oVtl-TGvxauB",
        "outputId": "6504af23-a71f-4646-8b66-29cb7cd62068"
      },
      "execution_count": null,
      "outputs": [
        {
          "output_type": "stream",
          "name": "stdout",
          "text": [
            "Value counts of 'Sleep Disorder':\n",
            "Sleep Disorder\n",
            "No Disorder    219\n",
            "Sleep Apnea     78\n",
            "Insomnia        77\n",
            "Name: count, dtype: int64\n"
          ]
        }
      ]
    },
    {
      "cell_type": "code",
      "source": [
        "#Reemplazo de normal a normal weight y contar los valores por categoria\n",
        "df['BMI Category']=df['BMI Category'].replace({'Normal':'Normal Weight'})\n",
        "df['BMI Category'].value_counts()\n",
        "#Los datos muestran que la mayoria de las personas tienen un peso normal, util\n",
        "#para corroborar si los datos concuerdan con la literatura"
      ],
      "metadata": {
        "colab": {
          "base_uri": "https://localhost:8080/",
          "height": 209
        },
        "id": "pbM9bRolzbyS",
        "outputId": "f519e9f2-19ee-4713-86d6-4128248bc738"
      },
      "execution_count": null,
      "outputs": [
        {
          "output_type": "execute_result",
          "data": {
            "text/plain": [
              "BMI Category\n",
              "Normal Weight    216\n",
              "Overweight       148\n",
              "Obese             10\n",
              "Name: count, dtype: int64"
            ],
            "text/html": [
              "<div>\n",
              "<style scoped>\n",
              "    .dataframe tbody tr th:only-of-type {\n",
              "        vertical-align: middle;\n",
              "    }\n",
              "\n",
              "    .dataframe tbody tr th {\n",
              "        vertical-align: top;\n",
              "    }\n",
              "\n",
              "    .dataframe thead th {\n",
              "        text-align: right;\n",
              "    }\n",
              "</style>\n",
              "<table border=\"1\" class=\"dataframe\">\n",
              "  <thead>\n",
              "    <tr style=\"text-align: right;\">\n",
              "      <th></th>\n",
              "      <th>count</th>\n",
              "    </tr>\n",
              "    <tr>\n",
              "      <th>BMI Category</th>\n",
              "      <th></th>\n",
              "    </tr>\n",
              "  </thead>\n",
              "  <tbody>\n",
              "    <tr>\n",
              "      <th>Normal Weight</th>\n",
              "      <td>216</td>\n",
              "    </tr>\n",
              "    <tr>\n",
              "      <th>Overweight</th>\n",
              "      <td>148</td>\n",
              "    </tr>\n",
              "    <tr>\n",
              "      <th>Obese</th>\n",
              "      <td>10</td>\n",
              "    </tr>\n",
              "  </tbody>\n",
              "</table>\n",
              "</div><br><label><b>dtype:</b> int64</label>"
            ]
          },
          "metadata": {},
          "execution_count": 17
        }
      ]
    },
    {
      "cell_type": "code",
      "source": [
        "# bmi_counts = df['BMI Category'].value_counts()\n",
        "fig = px.histogram(data_frame=df, x = 'BMI Category', color = 'Sleep Disorder', title='Bar Chart of BMI Category Counts')\n",
        "fig.show()"
      ],
      "metadata": {
        "colab": {
          "base_uri": "https://localhost:8080/",
          "height": 542
        },
        "id": "fVWNMd7r1s13",
        "outputId": "a32af758-caeb-4cbc-b216-9f82dd4dee75"
      },
      "execution_count": null,
      "outputs": [
        {
          "output_type": "display_data",
          "data": {
            "text/html": [
              "<html>\n",
              "<head><meta charset=\"utf-8\" /></head>\n",
              "<body>\n",
              "    <div>            <script src=\"https://cdnjs.cloudflare.com/ajax/libs/mathjax/2.7.5/MathJax.js?config=TeX-AMS-MML_SVG\"></script><script type=\"text/javascript\">if (window.MathJax && window.MathJax.Hub && window.MathJax.Hub.Config) {window.MathJax.Hub.Config({SVG: {font: \"STIX-Web\"}});}</script>                <script type=\"text/javascript\">window.PlotlyConfig = {MathJaxConfig: 'local'};</script>\n",
              "        <script charset=\"utf-8\" src=\"https://cdn.plot.ly/plotly-2.35.2.min.js\"></script>                <div id=\"8195b1ae-b8df-442e-906c-6455db05d79c\" class=\"plotly-graph-div\" style=\"height:525px; width:100%;\"></div>            <script type=\"text/javascript\">                                    window.PLOTLYENV=window.PLOTLYENV || {};                                    if (document.getElementById(\"8195b1ae-b8df-442e-906c-6455db05d79c\")) {                    Plotly.newPlot(                        \"8195b1ae-b8df-442e-906c-6455db05d79c\",                        [{\"alignmentgroup\":\"True\",\"bingroup\":\"x\",\"hovertemplate\":\"Sleep Disorder=No Disorder\\u003cbr\\u003eBMI Category=%{x}\\u003cbr\\u003ecount=%{y}\\u003cextra\\u003e\\u003c\\u002fextra\\u003e\",\"legendgroup\":\"No Disorder\",\"marker\":{\"color\":\"#636efa\",\"pattern\":{\"shape\":\"\"}},\"name\":\"No Disorder\",\"offsetgroup\":\"No Disorder\",\"orientation\":\"v\",\"showlegend\":true,\"x\":[\"Overweight\",\"Normal Weight\",\"Normal Weight\",\"Normal Weight\",\"Normal Weight\",\"Normal Weight\",\"Normal Weight\",\"Normal Weight\",\"Normal Weight\",\"Normal Weight\",\"Normal Weight\",\"Normal Weight\",\"Normal Weight\",\"Normal Weight\",\"Normal Weight\",\"Normal Weight\",\"Normal Weight\",\"Normal Weight\",\"Normal Weight\",\"Normal Weight\",\"Normal Weight\",\"Normal Weight\",\"Normal Weight\",\"Normal Weight\",\"Normal Weight\",\"Normal Weight\",\"Normal Weight\",\"Normal Weight\",\"Normal Weight\",\"Normal Weight\",\"Normal Weight\",\"Normal Weight\",\"Normal Weight\",\"Normal Weight\",\"Normal Weight\",\"Normal Weight\",\"Normal Weight\",\"Normal Weight\",\"Normal Weight\",\"Normal Weight\",\"Normal Weight\",\"Normal Weight\",\"Normal Weight\",\"Normal Weight\",\"Normal Weight\",\"Normal Weight\",\"Normal Weight\",\"Normal Weight\",\"Normal Weight\",\"Normal Weight\",\"Normal Weight\",\"Normal Weight\",\"Normal Weight\",\"Normal Weight\",\"Normal Weight\",\"Normal Weight\",\"Normal Weight\",\"Overweight\",\"Overweight\",\"Normal Weight\",\"Normal Weight\",\"Normal Weight\",\"Normal Weight\",\"Normal Weight\",\"Normal Weight\",\"Normal Weight\",\"Normal Weight\",\"Normal Weight\",\"Normal Weight\",\"Overweight\",\"Overweight\",\"Normal Weight\",\"Normal Weight\",\"Normal Weight\",\"Normal Weight\",\"Normal Weight\",\"Normal Weight\",\"Normal Weight\",\"Normal Weight\",\"Normal Weight\",\"Normal Weight\",\"Normal Weight\",\"Normal Weight\",\"Normal Weight\",\"Normal Weight\",\"Normal Weight\",\"Normal Weight\",\"Normal Weight\",\"Overweight\",\"Normal Weight\",\"Normal Weight\",\"Normal Weight\",\"Normal Weight\",\"Normal Weight\",\"Normal Weight\",\"Normal Weight\",\"Normal Weight\",\"Normal Weight\",\"Normal Weight\",\"Normal Weight\",\"Normal Weight\",\"Normal Weight\",\"Normal Weight\",\"Normal Weight\",\"Normal Weight\",\"Normal Weight\",\"Normal Weight\",\"Normal Weight\",\"Normal Weight\",\"Normal Weight\",\"Normal Weight\",\"Normal Weight\",\"Normal Weight\",\"Normal Weight\",\"Normal Weight\",\"Normal Weight\",\"Normal Weight\",\"Normal Weight\",\"Normal Weight\",\"Normal Weight\",\"Normal Weight\",\"Normal Weight\",\"Normal Weight\",\"Normal Weight\",\"Normal Weight\",\"Normal Weight\",\"Normal Weight\",\"Normal Weight\",\"Normal Weight\",\"Normal Weight\",\"Normal Weight\",\"Normal Weight\",\"Normal Weight\",\"Normal Weight\",\"Normal Weight\",\"Normal Weight\",\"Normal Weight\",\"Normal Weight\",\"Normal Weight\",\"Normal Weight\",\"Normal Weight\",\"Normal Weight\",\"Normal Weight\",\"Normal Weight\",\"Overweight\",\"Overweight\",\"Normal Weight\",\"Normal Weight\",\"Normal Weight\",\"Normal Weight\",\"Normal Weight\",\"Normal Weight\",\"Normal Weight\",\"Normal Weight\",\"Normal Weight\",\"Normal Weight\",\"Normal Weight\",\"Normal Weight\",\"Normal Weight\",\"Normal Weight\",\"Normal Weight\",\"Overweight\",\"Normal Weight\",\"Normal Weight\",\"Normal Weight\",\"Normal Weight\",\"Normal Weight\",\"Normal Weight\",\"Normal Weight\",\"Normal Weight\",\"Normal Weight\",\"Normal Weight\",\"Normal Weight\",\"Normal Weight\",\"Normal Weight\",\"Overweight\",\"Overweight\",\"Overweight\",\"Overweight\",\"Overweight\",\"Overweight\",\"Normal Weight\",\"Overweight\",\"Normal Weight\",\"Normal Weight\",\"Normal Weight\",\"Normal Weight\",\"Normal Weight\",\"Normal Weight\",\"Normal Weight\",\"Normal Weight\",\"Normal Weight\",\"Normal Weight\",\"Normal Weight\",\"Normal Weight\",\"Normal Weight\",\"Normal Weight\",\"Normal Weight\",\"Normal Weight\",\"Normal Weight\",\"Normal Weight\",\"Normal Weight\",\"Normal Weight\",\"Normal Weight\",\"Normal Weight\",\"Normal Weight\",\"Normal Weight\",\"Normal Weight\",\"Normal Weight\",\"Normal Weight\",\"Normal Weight\",\"Normal Weight\",\"Normal Weight\",\"Normal Weight\",\"Normal Weight\",\"Normal Weight\",\"Overweight\",\"Overweight\",\"Overweight\"],\"xaxis\":\"x\",\"yaxis\":\"y\",\"type\":\"histogram\"},{\"alignmentgroup\":\"True\",\"bingroup\":\"x\",\"hovertemplate\":\"Sleep Disorder=Sleep Apnea\\u003cbr\\u003eBMI Category=%{x}\\u003cbr\\u003ecount=%{y}\\u003cextra\\u003e\\u003c\\u002fextra\\u003e\",\"legendgroup\":\"Sleep Apnea\",\"marker\":{\"color\":\"#EF553B\",\"pattern\":{\"shape\":\"\"}},\"name\":\"Sleep Apnea\",\"offsetgroup\":\"Sleep Apnea\",\"orientation\":\"v\",\"showlegend\":true,\"x\":[\"Obese\",\"Obese\",\"Normal Weight\",\"Normal Weight\",\"Normal Weight\",\"Normal Weight\",\"Overweight\",\"Overweight\",\"Obese\",\"Overweight\",\"Normal Weight\",\"Normal Weight\",\"Obese\",\"Overweight\",\"Overweight\",\"Normal Weight\",\"Overweight\",\"Overweight\",\"Overweight\",\"Overweight\",\"Overweight\",\"Overweight\",\"Overweight\",\"Overweight\",\"Overweight\",\"Overweight\",\"Obese\",\"Obese\",\"Overweight\",\"Overweight\",\"Overweight\",\"Overweight\",\"Overweight\",\"Overweight\",\"Overweight\",\"Overweight\",\"Overweight\",\"Overweight\",\"Overweight\",\"Overweight\",\"Overweight\",\"Overweight\",\"Overweight\",\"Overweight\",\"Overweight\",\"Overweight\",\"Overweight\",\"Overweight\",\"Overweight\",\"Overweight\",\"Overweight\",\"Overweight\",\"Overweight\",\"Overweight\",\"Overweight\",\"Overweight\",\"Overweight\",\"Overweight\",\"Overweight\",\"Overweight\",\"Overweight\",\"Overweight\",\"Overweight\",\"Overweight\",\"Overweight\",\"Overweight\",\"Overweight\",\"Overweight\",\"Overweight\",\"Overweight\",\"Overweight\",\"Overweight\",\"Overweight\",\"Overweight\",\"Overweight\",\"Overweight\",\"Overweight\",\"Overweight\"],\"xaxis\":\"x\",\"yaxis\":\"y\",\"type\":\"histogram\"},{\"alignmentgroup\":\"True\",\"bingroup\":\"x\",\"hovertemplate\":\"Sleep Disorder=Insomnia\\u003cbr\\u003eBMI Category=%{x}\\u003cbr\\u003ecount=%{y}\\u003cextra\\u003e\\u003c\\u002fextra\\u003e\",\"legendgroup\":\"Insomnia\",\"marker\":{\"color\":\"#00cc96\",\"pattern\":{\"shape\":\"\"}},\"name\":\"Insomnia\",\"offsetgroup\":\"Insomnia\",\"orientation\":\"v\",\"showlegend\":true,\"x\":[\"Obese\",\"Obese\",\"Normal Weight\",\"Normal Weight\",\"Normal Weight\",\"Normal Weight\",\"Overweight\",\"Normal Weight\",\"Overweight\",\"Normal Weight\",\"Overweight\",\"Overweight\",\"Overweight\",\"Overweight\",\"Overweight\",\"Overweight\",\"Overweight\",\"Overweight\",\"Overweight\",\"Overweight\",\"Overweight\",\"Overweight\",\"Overweight\",\"Overweight\",\"Overweight\",\"Overweight\",\"Normal Weight\",\"Normal Weight\",\"Overweight\",\"Overweight\",\"Overweight\",\"Overweight\",\"Overweight\",\"Overweight\",\"Overweight\",\"Overweight\",\"Overweight\",\"Overweight\",\"Overweight\",\"Overweight\",\"Overweight\",\"Overweight\",\"Overweight\",\"Overweight\",\"Overweight\",\"Overweight\",\"Overweight\",\"Overweight\",\"Overweight\",\"Overweight\",\"Overweight\",\"Overweight\",\"Overweight\",\"Overweight\",\"Overweight\",\"Overweight\",\"Overweight\",\"Overweight\",\"Overweight\",\"Overweight\",\"Overweight\",\"Overweight\",\"Overweight\",\"Overweight\",\"Overweight\",\"Overweight\",\"Overweight\",\"Obese\",\"Obese\",\"Overweight\",\"Overweight\",\"Overweight\",\"Overweight\",\"Overweight\",\"Overweight\",\"Overweight\",\"Normal Weight\"],\"xaxis\":\"x\",\"yaxis\":\"y\",\"type\":\"histogram\"}],                        {\"template\":{\"data\":{\"histogram2dcontour\":[{\"type\":\"histogram2dcontour\",\"colorbar\":{\"outlinewidth\":0,\"ticks\":\"\"},\"colorscale\":[[0.0,\"#0d0887\"],[0.1111111111111111,\"#46039f\"],[0.2222222222222222,\"#7201a8\"],[0.3333333333333333,\"#9c179e\"],[0.4444444444444444,\"#bd3786\"],[0.5555555555555556,\"#d8576b\"],[0.6666666666666666,\"#ed7953\"],[0.7777777777777778,\"#fb9f3a\"],[0.8888888888888888,\"#fdca26\"],[1.0,\"#f0f921\"]]}],\"choropleth\":[{\"type\":\"choropleth\",\"colorbar\":{\"outlinewidth\":0,\"ticks\":\"\"}}],\"histogram2d\":[{\"type\":\"histogram2d\",\"colorbar\":{\"outlinewidth\":0,\"ticks\":\"\"},\"colorscale\":[[0.0,\"#0d0887\"],[0.1111111111111111,\"#46039f\"],[0.2222222222222222,\"#7201a8\"],[0.3333333333333333,\"#9c179e\"],[0.4444444444444444,\"#bd3786\"],[0.5555555555555556,\"#d8576b\"],[0.6666666666666666,\"#ed7953\"],[0.7777777777777778,\"#fb9f3a\"],[0.8888888888888888,\"#fdca26\"],[1.0,\"#f0f921\"]]}],\"heatmap\":[{\"type\":\"heatmap\",\"colorbar\":{\"outlinewidth\":0,\"ticks\":\"\"},\"colorscale\":[[0.0,\"#0d0887\"],[0.1111111111111111,\"#46039f\"],[0.2222222222222222,\"#7201a8\"],[0.3333333333333333,\"#9c179e\"],[0.4444444444444444,\"#bd3786\"],[0.5555555555555556,\"#d8576b\"],[0.6666666666666666,\"#ed7953\"],[0.7777777777777778,\"#fb9f3a\"],[0.8888888888888888,\"#fdca26\"],[1.0,\"#f0f921\"]]}],\"heatmapgl\":[{\"type\":\"heatmapgl\",\"colorbar\":{\"outlinewidth\":0,\"ticks\":\"\"},\"colorscale\":[[0.0,\"#0d0887\"],[0.1111111111111111,\"#46039f\"],[0.2222222222222222,\"#7201a8\"],[0.3333333333333333,\"#9c179e\"],[0.4444444444444444,\"#bd3786\"],[0.5555555555555556,\"#d8576b\"],[0.6666666666666666,\"#ed7953\"],[0.7777777777777778,\"#fb9f3a\"],[0.8888888888888888,\"#fdca26\"],[1.0,\"#f0f921\"]]}],\"contourcarpet\":[{\"type\":\"contourcarpet\",\"colorbar\":{\"outlinewidth\":0,\"ticks\":\"\"}}],\"contour\":[{\"type\":\"contour\",\"colorbar\":{\"outlinewidth\":0,\"ticks\":\"\"},\"colorscale\":[[0.0,\"#0d0887\"],[0.1111111111111111,\"#46039f\"],[0.2222222222222222,\"#7201a8\"],[0.3333333333333333,\"#9c179e\"],[0.4444444444444444,\"#bd3786\"],[0.5555555555555556,\"#d8576b\"],[0.6666666666666666,\"#ed7953\"],[0.7777777777777778,\"#fb9f3a\"],[0.8888888888888888,\"#fdca26\"],[1.0,\"#f0f921\"]]}],\"surface\":[{\"type\":\"surface\",\"colorbar\":{\"outlinewidth\":0,\"ticks\":\"\"},\"colorscale\":[[0.0,\"#0d0887\"],[0.1111111111111111,\"#46039f\"],[0.2222222222222222,\"#7201a8\"],[0.3333333333333333,\"#9c179e\"],[0.4444444444444444,\"#bd3786\"],[0.5555555555555556,\"#d8576b\"],[0.6666666666666666,\"#ed7953\"],[0.7777777777777778,\"#fb9f3a\"],[0.8888888888888888,\"#fdca26\"],[1.0,\"#f0f921\"]]}],\"mesh3d\":[{\"type\":\"mesh3d\",\"colorbar\":{\"outlinewidth\":0,\"ticks\":\"\"}}],\"scatter\":[{\"fillpattern\":{\"fillmode\":\"overlay\",\"size\":10,\"solidity\":0.2},\"type\":\"scatter\"}],\"parcoords\":[{\"type\":\"parcoords\",\"line\":{\"colorbar\":{\"outlinewidth\":0,\"ticks\":\"\"}}}],\"scatterpolargl\":[{\"type\":\"scatterpolargl\",\"marker\":{\"colorbar\":{\"outlinewidth\":0,\"ticks\":\"\"}}}],\"bar\":[{\"error_x\":{\"color\":\"#2a3f5f\"},\"error_y\":{\"color\":\"#2a3f5f\"},\"marker\":{\"line\":{\"color\":\"#E5ECF6\",\"width\":0.5},\"pattern\":{\"fillmode\":\"overlay\",\"size\":10,\"solidity\":0.2}},\"type\":\"bar\"}],\"scattergeo\":[{\"type\":\"scattergeo\",\"marker\":{\"colorbar\":{\"outlinewidth\":0,\"ticks\":\"\"}}}],\"scatterpolar\":[{\"type\":\"scatterpolar\",\"marker\":{\"colorbar\":{\"outlinewidth\":0,\"ticks\":\"\"}}}],\"histogram\":[{\"marker\":{\"pattern\":{\"fillmode\":\"overlay\",\"size\":10,\"solidity\":0.2}},\"type\":\"histogram\"}],\"scattergl\":[{\"type\":\"scattergl\",\"marker\":{\"colorbar\":{\"outlinewidth\":0,\"ticks\":\"\"}}}],\"scatter3d\":[{\"type\":\"scatter3d\",\"line\":{\"colorbar\":{\"outlinewidth\":0,\"ticks\":\"\"}},\"marker\":{\"colorbar\":{\"outlinewidth\":0,\"ticks\":\"\"}}}],\"scattermapbox\":[{\"type\":\"scattermapbox\",\"marker\":{\"colorbar\":{\"outlinewidth\":0,\"ticks\":\"\"}}}],\"scatterternary\":[{\"type\":\"scatterternary\",\"marker\":{\"colorbar\":{\"outlinewidth\":0,\"ticks\":\"\"}}}],\"scattercarpet\":[{\"type\":\"scattercarpet\",\"marker\":{\"colorbar\":{\"outlinewidth\":0,\"ticks\":\"\"}}}],\"carpet\":[{\"aaxis\":{\"endlinecolor\":\"#2a3f5f\",\"gridcolor\":\"white\",\"linecolor\":\"white\",\"minorgridcolor\":\"white\",\"startlinecolor\":\"#2a3f5f\"},\"baxis\":{\"endlinecolor\":\"#2a3f5f\",\"gridcolor\":\"white\",\"linecolor\":\"white\",\"minorgridcolor\":\"white\",\"startlinecolor\":\"#2a3f5f\"},\"type\":\"carpet\"}],\"table\":[{\"cells\":{\"fill\":{\"color\":\"#EBF0F8\"},\"line\":{\"color\":\"white\"}},\"header\":{\"fill\":{\"color\":\"#C8D4E3\"},\"line\":{\"color\":\"white\"}},\"type\":\"table\"}],\"barpolar\":[{\"marker\":{\"line\":{\"color\":\"#E5ECF6\",\"width\":0.5},\"pattern\":{\"fillmode\":\"overlay\",\"size\":10,\"solidity\":0.2}},\"type\":\"barpolar\"}],\"pie\":[{\"automargin\":true,\"type\":\"pie\"}]},\"layout\":{\"autotypenumbers\":\"strict\",\"colorway\":[\"#636efa\",\"#EF553B\",\"#00cc96\",\"#ab63fa\",\"#FFA15A\",\"#19d3f3\",\"#FF6692\",\"#B6E880\",\"#FF97FF\",\"#FECB52\"],\"font\":{\"color\":\"#2a3f5f\"},\"hovermode\":\"closest\",\"hoverlabel\":{\"align\":\"left\"},\"paper_bgcolor\":\"white\",\"plot_bgcolor\":\"#E5ECF6\",\"polar\":{\"bgcolor\":\"#E5ECF6\",\"angularaxis\":{\"gridcolor\":\"white\",\"linecolor\":\"white\",\"ticks\":\"\"},\"radialaxis\":{\"gridcolor\":\"white\",\"linecolor\":\"white\",\"ticks\":\"\"}},\"ternary\":{\"bgcolor\":\"#E5ECF6\",\"aaxis\":{\"gridcolor\":\"white\",\"linecolor\":\"white\",\"ticks\":\"\"},\"baxis\":{\"gridcolor\":\"white\",\"linecolor\":\"white\",\"ticks\":\"\"},\"caxis\":{\"gridcolor\":\"white\",\"linecolor\":\"white\",\"ticks\":\"\"}},\"coloraxis\":{\"colorbar\":{\"outlinewidth\":0,\"ticks\":\"\"}},\"colorscale\":{\"sequential\":[[0.0,\"#0d0887\"],[0.1111111111111111,\"#46039f\"],[0.2222222222222222,\"#7201a8\"],[0.3333333333333333,\"#9c179e\"],[0.4444444444444444,\"#bd3786\"],[0.5555555555555556,\"#d8576b\"],[0.6666666666666666,\"#ed7953\"],[0.7777777777777778,\"#fb9f3a\"],[0.8888888888888888,\"#fdca26\"],[1.0,\"#f0f921\"]],\"sequentialminus\":[[0.0,\"#0d0887\"],[0.1111111111111111,\"#46039f\"],[0.2222222222222222,\"#7201a8\"],[0.3333333333333333,\"#9c179e\"],[0.4444444444444444,\"#bd3786\"],[0.5555555555555556,\"#d8576b\"],[0.6666666666666666,\"#ed7953\"],[0.7777777777777778,\"#fb9f3a\"],[0.8888888888888888,\"#fdca26\"],[1.0,\"#f0f921\"]],\"diverging\":[[0,\"#8e0152\"],[0.1,\"#c51b7d\"],[0.2,\"#de77ae\"],[0.3,\"#f1b6da\"],[0.4,\"#fde0ef\"],[0.5,\"#f7f7f7\"],[0.6,\"#e6f5d0\"],[0.7,\"#b8e186\"],[0.8,\"#7fbc41\"],[0.9,\"#4d9221\"],[1,\"#276419\"]]},\"xaxis\":{\"gridcolor\":\"white\",\"linecolor\":\"white\",\"ticks\":\"\",\"title\":{\"standoff\":15},\"zerolinecolor\":\"white\",\"automargin\":true,\"zerolinewidth\":2},\"yaxis\":{\"gridcolor\":\"white\",\"linecolor\":\"white\",\"ticks\":\"\",\"title\":{\"standoff\":15},\"zerolinecolor\":\"white\",\"automargin\":true,\"zerolinewidth\":2},\"scene\":{\"xaxis\":{\"backgroundcolor\":\"#E5ECF6\",\"gridcolor\":\"white\",\"linecolor\":\"white\",\"showbackground\":true,\"ticks\":\"\",\"zerolinecolor\":\"white\",\"gridwidth\":2},\"yaxis\":{\"backgroundcolor\":\"#E5ECF6\",\"gridcolor\":\"white\",\"linecolor\":\"white\",\"showbackground\":true,\"ticks\":\"\",\"zerolinecolor\":\"white\",\"gridwidth\":2},\"zaxis\":{\"backgroundcolor\":\"#E5ECF6\",\"gridcolor\":\"white\",\"linecolor\":\"white\",\"showbackground\":true,\"ticks\":\"\",\"zerolinecolor\":\"white\",\"gridwidth\":2}},\"shapedefaults\":{\"line\":{\"color\":\"#2a3f5f\"}},\"annotationdefaults\":{\"arrowcolor\":\"#2a3f5f\",\"arrowhead\":0,\"arrowwidth\":1},\"geo\":{\"bgcolor\":\"white\",\"landcolor\":\"#E5ECF6\",\"subunitcolor\":\"white\",\"showland\":true,\"showlakes\":true,\"lakecolor\":\"white\"},\"title\":{\"x\":0.05},\"mapbox\":{\"style\":\"light\"}}},\"xaxis\":{\"anchor\":\"y\",\"domain\":[0.0,1.0],\"title\":{\"text\":\"BMI Category\"}},\"yaxis\":{\"anchor\":\"x\",\"domain\":[0.0,1.0],\"title\":{\"text\":\"count\"}},\"legend\":{\"title\":{\"text\":\"Sleep Disorder\"},\"tracegroupgap\":0},\"title\":{\"text\":\"Bar Chart of BMI Category Counts\"},\"barmode\":\"relative\"},                        {\"responsive\": true}                    ).then(function(){\n",
              "                            \n",
              "var gd = document.getElementById('8195b1ae-b8df-442e-906c-6455db05d79c');\n",
              "var x = new MutationObserver(function (mutations, observer) {{\n",
              "        var display = window.getComputedStyle(gd).display;\n",
              "        if (!display || display === 'none') {{\n",
              "            console.log([gd, 'removed!']);\n",
              "            Plotly.purge(gd);\n",
              "            observer.disconnect();\n",
              "        }}\n",
              "}});\n",
              "\n",
              "// Listen for the removal of the full notebook cells\n",
              "var notebookContainer = gd.closest('#notebook-container');\n",
              "if (notebookContainer) {{\n",
              "    x.observe(notebookContainer, {childList: true});\n",
              "}}\n",
              "\n",
              "// Listen for the clearing of the current output cell\n",
              "var outputEl = gd.closest('.output');\n",
              "if (outputEl) {{\n",
              "    x.observe(outputEl, {childList: true});\n",
              "}}\n",
              "\n",
              "                        })                };                            </script>        </div>\n",
              "</body>\n",
              "</html>"
            ]
          },
          "metadata": {}
        }
      ]
    },
    {
      "cell_type": "markdown",
      "source": [
        "* Obese suffer from Insomnia and Sleep\n",
        "Apnea\n",
        "* Very few overweighted people have no sleep disorder\n",
        "* Very few people of normal weight face sleep disorder\n",
        "\n",
        "A partir de lo anterior y como menciono la literatura existe una relacion entre la obesidad y los trastornos del sueño"
      ],
      "metadata": {
        "id": "J83WHZ_O1_8A"
      }
    },
    {
      "cell_type": "code",
      "source": [
        "#histograma de calidad de sueño en base al BMI\n",
        "fig = px.histogram(data_frame=df, x = 'Quality of Sleep', color = 'Sleep Disorder', title='Bar Chart of BMI Category Counts')\n",
        "fig.show()\n",
        "#De manera visual vemos que la calidad del sueño de las personas con insomnio estan concentradas entre los 6 y 8\n",
        "#Y la gente con Apnea se concentra entre 6 y 9"
      ],
      "metadata": {
        "colab": {
          "base_uri": "https://localhost:8080/",
          "height": 542
        },
        "id": "-fofXr06EWf9",
        "outputId": "92ba8197-e9a7-4df9-8b7b-98ebd51b02cf"
      },
      "execution_count": null,
      "outputs": [
        {
          "output_type": "display_data",
          "data": {
            "text/html": [
              "<html>\n",
              "<head><meta charset=\"utf-8\" /></head>\n",
              "<body>\n",
              "    <div>            <script src=\"https://cdnjs.cloudflare.com/ajax/libs/mathjax/2.7.5/MathJax.js?config=TeX-AMS-MML_SVG\"></script><script type=\"text/javascript\">if (window.MathJax && window.MathJax.Hub && window.MathJax.Hub.Config) {window.MathJax.Hub.Config({SVG: {font: \"STIX-Web\"}});}</script>                <script type=\"text/javascript\">window.PlotlyConfig = {MathJaxConfig: 'local'};</script>\n",
              "        <script charset=\"utf-8\" src=\"https://cdn.plot.ly/plotly-2.35.2.min.js\"></script>                <div id=\"969e8790-290b-4f5b-93f7-69adf80dfafe\" class=\"plotly-graph-div\" style=\"height:525px; width:100%;\"></div>            <script type=\"text/javascript\">                                    window.PLOTLYENV=window.PLOTLYENV || {};                                    if (document.getElementById(\"969e8790-290b-4f5b-93f7-69adf80dfafe\")) {                    Plotly.newPlot(                        \"969e8790-290b-4f5b-93f7-69adf80dfafe\",                        [{\"alignmentgroup\":\"True\",\"bingroup\":\"x\",\"hovertemplate\":\"Sleep Disorder=No Disorder\\u003cbr\\u003eQuality of Sleep=%{x}\\u003cbr\\u003ecount=%{y}\\u003cextra\\u003e\\u003c\\u002fextra\\u003e\",\"legendgroup\":\"No Disorder\",\"marker\":{\"color\":\"#636efa\",\"pattern\":{\"shape\":\"\"}},\"name\":\"No Disorder\",\"offsetgroup\":\"No Disorder\",\"orientation\":\"v\",\"showlegend\":true,\"x\":[6,6,6,7,7,7,6,7,6,6,6,6,7,7,7,7,7,7,7,7,7,7,7,8,6,7,6,6,7,7,7,7,7,7,7,7,7,7,7,7,8,8,6,7,6,6,7,6,6,7,6,6,6,6,6,6,8,6,6,6,6,6,6,6,6,6,6,6,6,7,7,8,8,8,8,8,8,8,8,8,8,8,8,8,8,8,8,8,6,8,8,8,8,8,8,8,8,8,8,8,8,8,8,8,8,8,8,8,8,8,8,8,8,8,8,8,8,8,8,8,8,8,8,8,8,8,7,9,9,8,8,8,8,8,8,8,8,8,8,8,8,8,8,8,7,7,8,8,8,8,8,8,8,8,8,8,8,8,8,8,6,8,8,8,8,8,8,8,8,8,8,8,8,8,8,6,6,7,7,7,6,9,6,9,9,9,9,7,9,9,9,9,9,9,9,9,9,9,9,9,9,9,9,9,9,9,9,9,9,9,9,9,9,9,9,9,9,9,9],\"xaxis\":\"x\",\"yaxis\":\"y\",\"type\":\"histogram\"},{\"alignmentgroup\":\"True\",\"bingroup\":\"x\",\"hovertemplate\":\"Sleep Disorder=Sleep Apnea\\u003cbr\\u003eQuality of Sleep=%{x}\\u003cbr\\u003ecount=%{y}\\u003cextra\\u003e\\u003c\\u002fextra\\u003e\",\"legendgroup\":\"Sleep Apnea\",\"marker\":{\"color\":\"#EF553B\",\"pattern\":{\"shape\":\"\"}},\"name\":\"Sleep Apnea\",\"offsetgroup\":\"Sleep Apnea\",\"orientation\":\"v\",\"showlegend\":true,\"x\":[4,4,5,6,5,7,4,4,7,5,8,8,7,6,6,8,6,6,6,6,6,6,6,6,6,6,9,9,6,6,6,6,6,6,6,6,6,6,6,6,6,6,6,6,6,6,6,6,9,9,9,9,9,9,9,9,9,9,9,9,9,9,9,9,9,9,9,9,9,9,9,9,9,9,9,9,9,9],\"xaxis\":\"x\",\"yaxis\":\"y\",\"type\":\"histogram\"},{\"alignmentgroup\":\"True\",\"bingroup\":\"x\",\"hovertemplate\":\"Sleep Disorder=Insomnia\\u003cbr\\u003eQuality of Sleep=%{x}\\u003cbr\\u003ecount=%{y}\\u003cextra\\u003e\\u003c\\u002fextra\\u003e\",\"legendgroup\":\"Insomnia\",\"marker\":{\"color\":\"#00cc96\",\"pattern\":{\"shape\":\"\"}},\"name\":\"Insomnia\",\"offsetgroup\":\"Insomnia\",\"orientation\":\"v\",\"showlegend\":true,\"x\":[4,6,5,5,6,8,5,8,5,8,6,7,6,7,6,7,6,6,6,6,6,6,6,6,6,6,8,8,7,6,6,6,7,6,7,6,7,6,7,6,7,6,7,6,6,7,6,6,7,6,6,7,6,7,6,7,7,7,7,7,7,7,7,7,7,7,7,7,7,6,7,7,7,7,7,7,9],\"xaxis\":\"x\",\"yaxis\":\"y\",\"type\":\"histogram\"}],                        {\"template\":{\"data\":{\"histogram2dcontour\":[{\"type\":\"histogram2dcontour\",\"colorbar\":{\"outlinewidth\":0,\"ticks\":\"\"},\"colorscale\":[[0.0,\"#0d0887\"],[0.1111111111111111,\"#46039f\"],[0.2222222222222222,\"#7201a8\"],[0.3333333333333333,\"#9c179e\"],[0.4444444444444444,\"#bd3786\"],[0.5555555555555556,\"#d8576b\"],[0.6666666666666666,\"#ed7953\"],[0.7777777777777778,\"#fb9f3a\"],[0.8888888888888888,\"#fdca26\"],[1.0,\"#f0f921\"]]}],\"choropleth\":[{\"type\":\"choropleth\",\"colorbar\":{\"outlinewidth\":0,\"ticks\":\"\"}}],\"histogram2d\":[{\"type\":\"histogram2d\",\"colorbar\":{\"outlinewidth\":0,\"ticks\":\"\"},\"colorscale\":[[0.0,\"#0d0887\"],[0.1111111111111111,\"#46039f\"],[0.2222222222222222,\"#7201a8\"],[0.3333333333333333,\"#9c179e\"],[0.4444444444444444,\"#bd3786\"],[0.5555555555555556,\"#d8576b\"],[0.6666666666666666,\"#ed7953\"],[0.7777777777777778,\"#fb9f3a\"],[0.8888888888888888,\"#fdca26\"],[1.0,\"#f0f921\"]]}],\"heatmap\":[{\"type\":\"heatmap\",\"colorbar\":{\"outlinewidth\":0,\"ticks\":\"\"},\"colorscale\":[[0.0,\"#0d0887\"],[0.1111111111111111,\"#46039f\"],[0.2222222222222222,\"#7201a8\"],[0.3333333333333333,\"#9c179e\"],[0.4444444444444444,\"#bd3786\"],[0.5555555555555556,\"#d8576b\"],[0.6666666666666666,\"#ed7953\"],[0.7777777777777778,\"#fb9f3a\"],[0.8888888888888888,\"#fdca26\"],[1.0,\"#f0f921\"]]}],\"heatmapgl\":[{\"type\":\"heatmapgl\",\"colorbar\":{\"outlinewidth\":0,\"ticks\":\"\"},\"colorscale\":[[0.0,\"#0d0887\"],[0.1111111111111111,\"#46039f\"],[0.2222222222222222,\"#7201a8\"],[0.3333333333333333,\"#9c179e\"],[0.4444444444444444,\"#bd3786\"],[0.5555555555555556,\"#d8576b\"],[0.6666666666666666,\"#ed7953\"],[0.7777777777777778,\"#fb9f3a\"],[0.8888888888888888,\"#fdca26\"],[1.0,\"#f0f921\"]]}],\"contourcarpet\":[{\"type\":\"contourcarpet\",\"colorbar\":{\"outlinewidth\":0,\"ticks\":\"\"}}],\"contour\":[{\"type\":\"contour\",\"colorbar\":{\"outlinewidth\":0,\"ticks\":\"\"},\"colorscale\":[[0.0,\"#0d0887\"],[0.1111111111111111,\"#46039f\"],[0.2222222222222222,\"#7201a8\"],[0.3333333333333333,\"#9c179e\"],[0.4444444444444444,\"#bd3786\"],[0.5555555555555556,\"#d8576b\"],[0.6666666666666666,\"#ed7953\"],[0.7777777777777778,\"#fb9f3a\"],[0.8888888888888888,\"#fdca26\"],[1.0,\"#f0f921\"]]}],\"surface\":[{\"type\":\"surface\",\"colorbar\":{\"outlinewidth\":0,\"ticks\":\"\"},\"colorscale\":[[0.0,\"#0d0887\"],[0.1111111111111111,\"#46039f\"],[0.2222222222222222,\"#7201a8\"],[0.3333333333333333,\"#9c179e\"],[0.4444444444444444,\"#bd3786\"],[0.5555555555555556,\"#d8576b\"],[0.6666666666666666,\"#ed7953\"],[0.7777777777777778,\"#fb9f3a\"],[0.8888888888888888,\"#fdca26\"],[1.0,\"#f0f921\"]]}],\"mesh3d\":[{\"type\":\"mesh3d\",\"colorbar\":{\"outlinewidth\":0,\"ticks\":\"\"}}],\"scatter\":[{\"fillpattern\":{\"fillmode\":\"overlay\",\"size\":10,\"solidity\":0.2},\"type\":\"scatter\"}],\"parcoords\":[{\"type\":\"parcoords\",\"line\":{\"colorbar\":{\"outlinewidth\":0,\"ticks\":\"\"}}}],\"scatterpolargl\":[{\"type\":\"scatterpolargl\",\"marker\":{\"colorbar\":{\"outlinewidth\":0,\"ticks\":\"\"}}}],\"bar\":[{\"error_x\":{\"color\":\"#2a3f5f\"},\"error_y\":{\"color\":\"#2a3f5f\"},\"marker\":{\"line\":{\"color\":\"#E5ECF6\",\"width\":0.5},\"pattern\":{\"fillmode\":\"overlay\",\"size\":10,\"solidity\":0.2}},\"type\":\"bar\"}],\"scattergeo\":[{\"type\":\"scattergeo\",\"marker\":{\"colorbar\":{\"outlinewidth\":0,\"ticks\":\"\"}}}],\"scatterpolar\":[{\"type\":\"scatterpolar\",\"marker\":{\"colorbar\":{\"outlinewidth\":0,\"ticks\":\"\"}}}],\"histogram\":[{\"marker\":{\"pattern\":{\"fillmode\":\"overlay\",\"size\":10,\"solidity\":0.2}},\"type\":\"histogram\"}],\"scattergl\":[{\"type\":\"scattergl\",\"marker\":{\"colorbar\":{\"outlinewidth\":0,\"ticks\":\"\"}}}],\"scatter3d\":[{\"type\":\"scatter3d\",\"line\":{\"colorbar\":{\"outlinewidth\":0,\"ticks\":\"\"}},\"marker\":{\"colorbar\":{\"outlinewidth\":0,\"ticks\":\"\"}}}],\"scattermapbox\":[{\"type\":\"scattermapbox\",\"marker\":{\"colorbar\":{\"outlinewidth\":0,\"ticks\":\"\"}}}],\"scatterternary\":[{\"type\":\"scatterternary\",\"marker\":{\"colorbar\":{\"outlinewidth\":0,\"ticks\":\"\"}}}],\"scattercarpet\":[{\"type\":\"scattercarpet\",\"marker\":{\"colorbar\":{\"outlinewidth\":0,\"ticks\":\"\"}}}],\"carpet\":[{\"aaxis\":{\"endlinecolor\":\"#2a3f5f\",\"gridcolor\":\"white\",\"linecolor\":\"white\",\"minorgridcolor\":\"white\",\"startlinecolor\":\"#2a3f5f\"},\"baxis\":{\"endlinecolor\":\"#2a3f5f\",\"gridcolor\":\"white\",\"linecolor\":\"white\",\"minorgridcolor\":\"white\",\"startlinecolor\":\"#2a3f5f\"},\"type\":\"carpet\"}],\"table\":[{\"cells\":{\"fill\":{\"color\":\"#EBF0F8\"},\"line\":{\"color\":\"white\"}},\"header\":{\"fill\":{\"color\":\"#C8D4E3\"},\"line\":{\"color\":\"white\"}},\"type\":\"table\"}],\"barpolar\":[{\"marker\":{\"line\":{\"color\":\"#E5ECF6\",\"width\":0.5},\"pattern\":{\"fillmode\":\"overlay\",\"size\":10,\"solidity\":0.2}},\"type\":\"barpolar\"}],\"pie\":[{\"automargin\":true,\"type\":\"pie\"}]},\"layout\":{\"autotypenumbers\":\"strict\",\"colorway\":[\"#636efa\",\"#EF553B\",\"#00cc96\",\"#ab63fa\",\"#FFA15A\",\"#19d3f3\",\"#FF6692\",\"#B6E880\",\"#FF97FF\",\"#FECB52\"],\"font\":{\"color\":\"#2a3f5f\"},\"hovermode\":\"closest\",\"hoverlabel\":{\"align\":\"left\"},\"paper_bgcolor\":\"white\",\"plot_bgcolor\":\"#E5ECF6\",\"polar\":{\"bgcolor\":\"#E5ECF6\",\"angularaxis\":{\"gridcolor\":\"white\",\"linecolor\":\"white\",\"ticks\":\"\"},\"radialaxis\":{\"gridcolor\":\"white\",\"linecolor\":\"white\",\"ticks\":\"\"}},\"ternary\":{\"bgcolor\":\"#E5ECF6\",\"aaxis\":{\"gridcolor\":\"white\",\"linecolor\":\"white\",\"ticks\":\"\"},\"baxis\":{\"gridcolor\":\"white\",\"linecolor\":\"white\",\"ticks\":\"\"},\"caxis\":{\"gridcolor\":\"white\",\"linecolor\":\"white\",\"ticks\":\"\"}},\"coloraxis\":{\"colorbar\":{\"outlinewidth\":0,\"ticks\":\"\"}},\"colorscale\":{\"sequential\":[[0.0,\"#0d0887\"],[0.1111111111111111,\"#46039f\"],[0.2222222222222222,\"#7201a8\"],[0.3333333333333333,\"#9c179e\"],[0.4444444444444444,\"#bd3786\"],[0.5555555555555556,\"#d8576b\"],[0.6666666666666666,\"#ed7953\"],[0.7777777777777778,\"#fb9f3a\"],[0.8888888888888888,\"#fdca26\"],[1.0,\"#f0f921\"]],\"sequentialminus\":[[0.0,\"#0d0887\"],[0.1111111111111111,\"#46039f\"],[0.2222222222222222,\"#7201a8\"],[0.3333333333333333,\"#9c179e\"],[0.4444444444444444,\"#bd3786\"],[0.5555555555555556,\"#d8576b\"],[0.6666666666666666,\"#ed7953\"],[0.7777777777777778,\"#fb9f3a\"],[0.8888888888888888,\"#fdca26\"],[1.0,\"#f0f921\"]],\"diverging\":[[0,\"#8e0152\"],[0.1,\"#c51b7d\"],[0.2,\"#de77ae\"],[0.3,\"#f1b6da\"],[0.4,\"#fde0ef\"],[0.5,\"#f7f7f7\"],[0.6,\"#e6f5d0\"],[0.7,\"#b8e186\"],[0.8,\"#7fbc41\"],[0.9,\"#4d9221\"],[1,\"#276419\"]]},\"xaxis\":{\"gridcolor\":\"white\",\"linecolor\":\"white\",\"ticks\":\"\",\"title\":{\"standoff\":15},\"zerolinecolor\":\"white\",\"automargin\":true,\"zerolinewidth\":2},\"yaxis\":{\"gridcolor\":\"white\",\"linecolor\":\"white\",\"ticks\":\"\",\"title\":{\"standoff\":15},\"zerolinecolor\":\"white\",\"automargin\":true,\"zerolinewidth\":2},\"scene\":{\"xaxis\":{\"backgroundcolor\":\"#E5ECF6\",\"gridcolor\":\"white\",\"linecolor\":\"white\",\"showbackground\":true,\"ticks\":\"\",\"zerolinecolor\":\"white\",\"gridwidth\":2},\"yaxis\":{\"backgroundcolor\":\"#E5ECF6\",\"gridcolor\":\"white\",\"linecolor\":\"white\",\"showbackground\":true,\"ticks\":\"\",\"zerolinecolor\":\"white\",\"gridwidth\":2},\"zaxis\":{\"backgroundcolor\":\"#E5ECF6\",\"gridcolor\":\"white\",\"linecolor\":\"white\",\"showbackground\":true,\"ticks\":\"\",\"zerolinecolor\":\"white\",\"gridwidth\":2}},\"shapedefaults\":{\"line\":{\"color\":\"#2a3f5f\"}},\"annotationdefaults\":{\"arrowcolor\":\"#2a3f5f\",\"arrowhead\":0,\"arrowwidth\":1},\"geo\":{\"bgcolor\":\"white\",\"landcolor\":\"#E5ECF6\",\"subunitcolor\":\"white\",\"showland\":true,\"showlakes\":true,\"lakecolor\":\"white\"},\"title\":{\"x\":0.05},\"mapbox\":{\"style\":\"light\"}}},\"xaxis\":{\"anchor\":\"y\",\"domain\":[0.0,1.0],\"title\":{\"text\":\"Quality of Sleep\"}},\"yaxis\":{\"anchor\":\"x\",\"domain\":[0.0,1.0],\"title\":{\"text\":\"count\"}},\"legend\":{\"title\":{\"text\":\"Sleep Disorder\"},\"tracegroupgap\":0},\"title\":{\"text\":\"Bar Chart of BMI Category Counts\"},\"barmode\":\"relative\"},                        {\"responsive\": true}                    ).then(function(){\n",
              "                            \n",
              "var gd = document.getElementById('969e8790-290b-4f5b-93f7-69adf80dfafe');\n",
              "var x = new MutationObserver(function (mutations, observer) {{\n",
              "        var display = window.getComputedStyle(gd).display;\n",
              "        if (!display || display === 'none') {{\n",
              "            console.log([gd, 'removed!']);\n",
              "            Plotly.purge(gd);\n",
              "            observer.disconnect();\n",
              "        }}\n",
              "}});\n",
              "\n",
              "// Listen for the removal of the full notebook cells\n",
              "var notebookContainer = gd.closest('#notebook-container');\n",
              "if (notebookContainer) {{\n",
              "    x.observe(notebookContainer, {childList: true});\n",
              "}}\n",
              "\n",
              "// Listen for the clearing of the current output cell\n",
              "var outputEl = gd.closest('.output');\n",
              "if (outputEl) {{\n",
              "    x.observe(outputEl, {childList: true});\n",
              "}}\n",
              "\n",
              "                        })                };                            </script>        </div>\n",
              "</body>\n",
              "</html>"
            ]
          },
          "metadata": {}
        }
      ]
    },
    {
      "cell_type": "code",
      "source": [
        "#Histogramas de que ocupaciones tienen o no trastornos del sueño\n",
        "fig = px.histogram(data_frame=df, x = 'Occupation', color = 'Sleep Disorder', title='Bar Chart of BMI Category Counts')\n",
        "fig.show()"
      ],
      "metadata": {
        "colab": {
          "base_uri": "https://localhost:8080/",
          "height": 542
        },
        "id": "tMXncksGG0yb",
        "outputId": "1f6da800-5dbd-4d08-d981-fb38921ecd95"
      },
      "execution_count": null,
      "outputs": [
        {
          "output_type": "display_data",
          "data": {
            "text/html": [
              "<html>\n",
              "<head><meta charset=\"utf-8\" /></head>\n",
              "<body>\n",
              "    <div>            <script src=\"https://cdnjs.cloudflare.com/ajax/libs/mathjax/2.7.5/MathJax.js?config=TeX-AMS-MML_SVG\"></script><script type=\"text/javascript\">if (window.MathJax && window.MathJax.Hub && window.MathJax.Hub.Config) {window.MathJax.Hub.Config({SVG: {font: \"STIX-Web\"}});}</script>                <script type=\"text/javascript\">window.PlotlyConfig = {MathJaxConfig: 'local'};</script>\n",
              "        <script charset=\"utf-8\" src=\"https://cdn.plot.ly/plotly-2.35.2.min.js\"></script>                <div id=\"98b9ea34-e226-49a7-bfa7-1afd385d7bf0\" class=\"plotly-graph-div\" style=\"height:525px; width:100%;\"></div>            <script type=\"text/javascript\">                                    window.PLOTLYENV=window.PLOTLYENV || {};                                    if (document.getElementById(\"98b9ea34-e226-49a7-bfa7-1afd385d7bf0\")) {                    Plotly.newPlot(                        \"98b9ea34-e226-49a7-bfa7-1afd385d7bf0\",                        [{\"alignmentgroup\":\"True\",\"bingroup\":\"x\",\"hovertemplate\":\"Sleep Disorder=No Disorder\\u003cbr\\u003eOccupation=%{x}\\u003cbr\\u003ecount=%{y}\\u003cextra\\u003e\\u003c\\u002fextra\\u003e\",\"legendgroup\":\"No Disorder\",\"marker\":{\"color\":\"#636efa\",\"pattern\":{\"shape\":\"\"}},\"name\":\"No Disorder\",\"offsetgroup\":\"No Disorder\",\"orientation\":\"v\",\"showlegend\":true,\"x\":[\"Software Engineer\",\"Doctor\",\"Doctor\",\"Doctor\",\"Doctor\",\"Doctor\",\"Doctor\",\"Doctor\",\"Doctor\",\"Doctor\",\"Doctor\",\"Doctor\",\"Doctor\",\"Doctor\",\"Doctor\",\"Doctor\",\"Doctor\",\"Doctor\",\"Doctor\",\"Doctor\",\"Doctor\",\"Doctor\",\"Doctor\",\"Nurse\",\"Doctor\",\"Doctor\",\"Doctor\",\"Doctor\",\"Doctor\",\"Doctor\",\"Doctor\",\"Doctor\",\"Doctor\",\"Doctor\",\"Doctor\",\"Doctor\",\"Doctor\",\"Doctor\",\"Doctor\",\"Doctor\",\"Engineer\",\"Engineer\",\"Doctor\",\"Doctor\",\"Doctor\",\"Doctor\",\"Doctor\",\"Doctor\",\"Doctor\",\"Doctor\",\"Doctor\",\"Doctor\",\"Doctor\",\"Doctor\",\"Doctor\",\"Doctor\",\"Accountant\",\"Scientist\",\"Scientist\",\"Doctor\",\"Doctor\",\"Doctor\",\"Doctor\",\"Doctor\",\"Doctor\",\"Doctor\",\"Doctor\",\"Doctor\",\"Doctor\",\"Teacher\",\"Teacher\",\"Software Engineer\",\"Accountant\",\"Engineer\",\"Engineer\",\"Engineer\",\"Engineer\",\"Engineer\",\"Engineer\",\"Software Engineer\",\"Accountant\",\"Accountant\",\"Accountant\",\"Teacher\",\"Teacher\",\"Teacher\",\"Teacher\",\"Teacher\",\"Nurse\",\"Engineer\",\"Engineer\",\"Lawyer\",\"Accountant\",\"Lawyer\",\"Accountant\",\"Lawyer\",\"Accountant\",\"Accountant\",\"Accountant\",\"Accountant\",\"Accountant\",\"Accountant\",\"Accountant\",\"Accountant\",\"Accountant\",\"Accountant\",\"Accountant\",\"Nurse\",\"Lawyer\",\"Accountant\",\"Lawyer\",\"Lawyer\",\"Accountant\",\"Lawyer\",\"Lawyer\",\"Accountant\",\"Lawyer\",\"Lawyer\",\"Accountant\",\"Lawyer\",\"Accountant\",\"Lawyer\",\"Accountant\",\"Lawyer\",\"Accountant\",\"Accountant\",\"Lawyer\",\"Accountant\",\"Accountant\",\"Lawyer\",\"Lawyer\",\"Lawyer\",\"Lawyer\",\"Lawyer\",\"Lawyer\",\"Lawyer\",\"Lawyer\",\"Lawyer\",\"Lawyer\",\"Accountant\",\"Accountant\",\"Lawyer\",\"Lawyer\",\"Engineer\",\"Lawyer\",\"Lawyer\",\"Lawyer\",\"Lawyer\",\"Lawyer\",\"Lawyer\",\"Lawyer\",\"Lawyer\",\"Lawyer\",\"Lawyer\",\"Lawyer\",\"Lawyer\",\"Lawyer\",\"Lawyer\",\"Lawyer\",\"Lawyer\",\"Engineer\",\"Engineer\",\"Engineer\",\"Engineer\",\"Engineer\",\"Engineer\",\"Engineer\",\"Engineer\",\"Engineer\",\"Engineer\",\"Engineer\",\"Engineer\",\"Engineer\",\"Engineer\",\"Engineer\",\"Salesperson\",\"Salesperson\",\"Teacher\",\"Teacher\",\"Manager\",\"Nurse\",\"Engineer\",\"Nurse\",\"Engineer\",\"Engineer\",\"Engineer\",\"Engineer\",\"Nurse\",\"Engineer\",\"Engineer\",\"Engineer\",\"Engineer\",\"Engineer\",\"Engineer\",\"Engineer\",\"Engineer\",\"Engineer\",\"Engineer\",\"Engineer\",\"Engineer\",\"Engineer\",\"Engineer\",\"Engineer\",\"Engineer\",\"Engineer\",\"Engineer\",\"Engineer\",\"Engineer\",\"Engineer\",\"Engineer\",\"Engineer\",\"Engineer\",\"Engineer\",\"Engineer\",\"Doctor\",\"Doctor\",\"Nurse\",\"Nurse\",\"Nurse\"],\"xaxis\":\"x\",\"yaxis\":\"y\",\"type\":\"histogram\"},{\"alignmentgroup\":\"True\",\"bingroup\":\"x\",\"hovertemplate\":\"Sleep Disorder=Sleep Apnea\\u003cbr\\u003eOccupation=%{x}\\u003cbr\\u003ecount=%{y}\\u003cextra\\u003e\\u003c\\u002fextra\\u003e\",\"legendgroup\":\"Sleep Apnea\",\"marker\":{\"color\":\"#EF553B\",\"pattern\":{\"shape\":\"\"}},\"name\":\"Sleep Apnea\",\"offsetgroup\":\"Sleep Apnea\",\"orientation\":\"v\",\"showlegend\":true,\"x\":[\"Sales Representative\",\"Sales Representative\",\"Nurse\",\"Doctor\",\"Nurse\",\"Doctor\",\"Scientist\",\"Scientist\",\"Lawyer\",\"Teacher\",\"Teacher\",\"Lawyer\",\"Lawyer\",\"Teacher\",\"Teacher\",\"Engineer\",\"Salesperson\",\"Nurse\",\"Nurse\",\"Nurse\",\"Nurse\",\"Nurse\",\"Nurse\",\"Nurse\",\"Nurse\",\"Nurse\",\"Doctor\",\"Doctor\",\"Nurse\",\"Nurse\",\"Nurse\",\"Nurse\",\"Nurse\",\"Nurse\",\"Nurse\",\"Nurse\",\"Nurse\",\"Nurse\",\"Nurse\",\"Nurse\",\"Nurse\",\"Nurse\",\"Nurse\",\"Nurse\",\"Nurse\",\"Nurse\",\"Nurse\",\"Nurse\",\"Nurse\",\"Nurse\",\"Nurse\",\"Nurse\",\"Nurse\",\"Nurse\",\"Nurse\",\"Nurse\",\"Nurse\",\"Nurse\",\"Nurse\",\"Nurse\",\"Nurse\",\"Nurse\",\"Nurse\",\"Nurse\",\"Nurse\",\"Nurse\",\"Nurse\",\"Nurse\",\"Nurse\",\"Nurse\",\"Nurse\",\"Nurse\",\"Nurse\",\"Nurse\",\"Nurse\",\"Nurse\",\"Nurse\",\"Nurse\"],\"xaxis\":\"x\",\"yaxis\":\"y\",\"type\":\"histogram\"},{\"alignmentgroup\":\"True\",\"bingroup\":\"x\",\"hovertemplate\":\"Sleep Disorder=Insomnia\\u003cbr\\u003eOccupation=%{x}\\u003cbr\\u003ecount=%{y}\\u003cextra\\u003e\\u003c\\u002fextra\\u003e\",\"legendgroup\":\"Insomnia\",\"marker\":{\"color\":\"#00cc96\",\"pattern\":{\"shape\":\"\"}},\"name\":\"Insomnia\",\"offsetgroup\":\"Insomnia\",\"orientation\":\"v\",\"showlegend\":true,\"x\":[\"Software Engineer\",\"Teacher\",\"Nurse\",\"Nurse\",\"Doctor\",\"Accountant\",\"Teacher\",\"Lawyer\",\"Engineer\",\"Lawyer\",\"Salesperson\",\"Teacher\",\"Salesperson\",\"Teacher\",\"Salesperson\",\"Teacher\",\"Salesperson\",\"Salesperson\",\"Salesperson\",\"Salesperson\",\"Salesperson\",\"Salesperson\",\"Salesperson\",\"Salesperson\",\"Salesperson\",\"Salesperson\",\"Engineer\",\"Engineer\",\"Teacher\",\"Salesperson\",\"Salesperson\",\"Salesperson\",\"Teacher\",\"Salesperson\",\"Teacher\",\"Salesperson\",\"Teacher\",\"Salesperson\",\"Teacher\",\"Salesperson\",\"Teacher\",\"Salesperson\",\"Teacher\",\"Salesperson\",\"Salesperson\",\"Teacher\",\"Salesperson\",\"Salesperson\",\"Teacher\",\"Salesperson\",\"Salesperson\",\"Teacher\",\"Salesperson\",\"Teacher\",\"Salesperson\",\"Engineer\",\"Teacher\",\"Teacher\",\"Teacher\",\"Teacher\",\"Teacher\",\"Teacher\",\"Teacher\",\"Teacher\",\"Teacher\",\"Teacher\",\"Teacher\",\"Doctor\",\"Doctor\",\"Nurse\",\"Accountant\",\"Accountant\",\"Accountant\",\"Accountant\",\"Accountant\",\"Accountant\",\"Engineer\"],\"xaxis\":\"x\",\"yaxis\":\"y\",\"type\":\"histogram\"}],                        {\"template\":{\"data\":{\"histogram2dcontour\":[{\"type\":\"histogram2dcontour\",\"colorbar\":{\"outlinewidth\":0,\"ticks\":\"\"},\"colorscale\":[[0.0,\"#0d0887\"],[0.1111111111111111,\"#46039f\"],[0.2222222222222222,\"#7201a8\"],[0.3333333333333333,\"#9c179e\"],[0.4444444444444444,\"#bd3786\"],[0.5555555555555556,\"#d8576b\"],[0.6666666666666666,\"#ed7953\"],[0.7777777777777778,\"#fb9f3a\"],[0.8888888888888888,\"#fdca26\"],[1.0,\"#f0f921\"]]}],\"choropleth\":[{\"type\":\"choropleth\",\"colorbar\":{\"outlinewidth\":0,\"ticks\":\"\"}}],\"histogram2d\":[{\"type\":\"histogram2d\",\"colorbar\":{\"outlinewidth\":0,\"ticks\":\"\"},\"colorscale\":[[0.0,\"#0d0887\"],[0.1111111111111111,\"#46039f\"],[0.2222222222222222,\"#7201a8\"],[0.3333333333333333,\"#9c179e\"],[0.4444444444444444,\"#bd3786\"],[0.5555555555555556,\"#d8576b\"],[0.6666666666666666,\"#ed7953\"],[0.7777777777777778,\"#fb9f3a\"],[0.8888888888888888,\"#fdca26\"],[1.0,\"#f0f921\"]]}],\"heatmap\":[{\"type\":\"heatmap\",\"colorbar\":{\"outlinewidth\":0,\"ticks\":\"\"},\"colorscale\":[[0.0,\"#0d0887\"],[0.1111111111111111,\"#46039f\"],[0.2222222222222222,\"#7201a8\"],[0.3333333333333333,\"#9c179e\"],[0.4444444444444444,\"#bd3786\"],[0.5555555555555556,\"#d8576b\"],[0.6666666666666666,\"#ed7953\"],[0.7777777777777778,\"#fb9f3a\"],[0.8888888888888888,\"#fdca26\"],[1.0,\"#f0f921\"]]}],\"heatmapgl\":[{\"type\":\"heatmapgl\",\"colorbar\":{\"outlinewidth\":0,\"ticks\":\"\"},\"colorscale\":[[0.0,\"#0d0887\"],[0.1111111111111111,\"#46039f\"],[0.2222222222222222,\"#7201a8\"],[0.3333333333333333,\"#9c179e\"],[0.4444444444444444,\"#bd3786\"],[0.5555555555555556,\"#d8576b\"],[0.6666666666666666,\"#ed7953\"],[0.7777777777777778,\"#fb9f3a\"],[0.8888888888888888,\"#fdca26\"],[1.0,\"#f0f921\"]]}],\"contourcarpet\":[{\"type\":\"contourcarpet\",\"colorbar\":{\"outlinewidth\":0,\"ticks\":\"\"}}],\"contour\":[{\"type\":\"contour\",\"colorbar\":{\"outlinewidth\":0,\"ticks\":\"\"},\"colorscale\":[[0.0,\"#0d0887\"],[0.1111111111111111,\"#46039f\"],[0.2222222222222222,\"#7201a8\"],[0.3333333333333333,\"#9c179e\"],[0.4444444444444444,\"#bd3786\"],[0.5555555555555556,\"#d8576b\"],[0.6666666666666666,\"#ed7953\"],[0.7777777777777778,\"#fb9f3a\"],[0.8888888888888888,\"#fdca26\"],[1.0,\"#f0f921\"]]}],\"surface\":[{\"type\":\"surface\",\"colorbar\":{\"outlinewidth\":0,\"ticks\":\"\"},\"colorscale\":[[0.0,\"#0d0887\"],[0.1111111111111111,\"#46039f\"],[0.2222222222222222,\"#7201a8\"],[0.3333333333333333,\"#9c179e\"],[0.4444444444444444,\"#bd3786\"],[0.5555555555555556,\"#d8576b\"],[0.6666666666666666,\"#ed7953\"],[0.7777777777777778,\"#fb9f3a\"],[0.8888888888888888,\"#fdca26\"],[1.0,\"#f0f921\"]]}],\"mesh3d\":[{\"type\":\"mesh3d\",\"colorbar\":{\"outlinewidth\":0,\"ticks\":\"\"}}],\"scatter\":[{\"fillpattern\":{\"fillmode\":\"overlay\",\"size\":10,\"solidity\":0.2},\"type\":\"scatter\"}],\"parcoords\":[{\"type\":\"parcoords\",\"line\":{\"colorbar\":{\"outlinewidth\":0,\"ticks\":\"\"}}}],\"scatterpolargl\":[{\"type\":\"scatterpolargl\",\"marker\":{\"colorbar\":{\"outlinewidth\":0,\"ticks\":\"\"}}}],\"bar\":[{\"error_x\":{\"color\":\"#2a3f5f\"},\"error_y\":{\"color\":\"#2a3f5f\"},\"marker\":{\"line\":{\"color\":\"#E5ECF6\",\"width\":0.5},\"pattern\":{\"fillmode\":\"overlay\",\"size\":10,\"solidity\":0.2}},\"type\":\"bar\"}],\"scattergeo\":[{\"type\":\"scattergeo\",\"marker\":{\"colorbar\":{\"outlinewidth\":0,\"ticks\":\"\"}}}],\"scatterpolar\":[{\"type\":\"scatterpolar\",\"marker\":{\"colorbar\":{\"outlinewidth\":0,\"ticks\":\"\"}}}],\"histogram\":[{\"marker\":{\"pattern\":{\"fillmode\":\"overlay\",\"size\":10,\"solidity\":0.2}},\"type\":\"histogram\"}],\"scattergl\":[{\"type\":\"scattergl\",\"marker\":{\"colorbar\":{\"outlinewidth\":0,\"ticks\":\"\"}}}],\"scatter3d\":[{\"type\":\"scatter3d\",\"line\":{\"colorbar\":{\"outlinewidth\":0,\"ticks\":\"\"}},\"marker\":{\"colorbar\":{\"outlinewidth\":0,\"ticks\":\"\"}}}],\"scattermapbox\":[{\"type\":\"scattermapbox\",\"marker\":{\"colorbar\":{\"outlinewidth\":0,\"ticks\":\"\"}}}],\"scatterternary\":[{\"type\":\"scatterternary\",\"marker\":{\"colorbar\":{\"outlinewidth\":0,\"ticks\":\"\"}}}],\"scattercarpet\":[{\"type\":\"scattercarpet\",\"marker\":{\"colorbar\":{\"outlinewidth\":0,\"ticks\":\"\"}}}],\"carpet\":[{\"aaxis\":{\"endlinecolor\":\"#2a3f5f\",\"gridcolor\":\"white\",\"linecolor\":\"white\",\"minorgridcolor\":\"white\",\"startlinecolor\":\"#2a3f5f\"},\"baxis\":{\"endlinecolor\":\"#2a3f5f\",\"gridcolor\":\"white\",\"linecolor\":\"white\",\"minorgridcolor\":\"white\",\"startlinecolor\":\"#2a3f5f\"},\"type\":\"carpet\"}],\"table\":[{\"cells\":{\"fill\":{\"color\":\"#EBF0F8\"},\"line\":{\"color\":\"white\"}},\"header\":{\"fill\":{\"color\":\"#C8D4E3\"},\"line\":{\"color\":\"white\"}},\"type\":\"table\"}],\"barpolar\":[{\"marker\":{\"line\":{\"color\":\"#E5ECF6\",\"width\":0.5},\"pattern\":{\"fillmode\":\"overlay\",\"size\":10,\"solidity\":0.2}},\"type\":\"barpolar\"}],\"pie\":[{\"automargin\":true,\"type\":\"pie\"}]},\"layout\":{\"autotypenumbers\":\"strict\",\"colorway\":[\"#636efa\",\"#EF553B\",\"#00cc96\",\"#ab63fa\",\"#FFA15A\",\"#19d3f3\",\"#FF6692\",\"#B6E880\",\"#FF97FF\",\"#FECB52\"],\"font\":{\"color\":\"#2a3f5f\"},\"hovermode\":\"closest\",\"hoverlabel\":{\"align\":\"left\"},\"paper_bgcolor\":\"white\",\"plot_bgcolor\":\"#E5ECF6\",\"polar\":{\"bgcolor\":\"#E5ECF6\",\"angularaxis\":{\"gridcolor\":\"white\",\"linecolor\":\"white\",\"ticks\":\"\"},\"radialaxis\":{\"gridcolor\":\"white\",\"linecolor\":\"white\",\"ticks\":\"\"}},\"ternary\":{\"bgcolor\":\"#E5ECF6\",\"aaxis\":{\"gridcolor\":\"white\",\"linecolor\":\"white\",\"ticks\":\"\"},\"baxis\":{\"gridcolor\":\"white\",\"linecolor\":\"white\",\"ticks\":\"\"},\"caxis\":{\"gridcolor\":\"white\",\"linecolor\":\"white\",\"ticks\":\"\"}},\"coloraxis\":{\"colorbar\":{\"outlinewidth\":0,\"ticks\":\"\"}},\"colorscale\":{\"sequential\":[[0.0,\"#0d0887\"],[0.1111111111111111,\"#46039f\"],[0.2222222222222222,\"#7201a8\"],[0.3333333333333333,\"#9c179e\"],[0.4444444444444444,\"#bd3786\"],[0.5555555555555556,\"#d8576b\"],[0.6666666666666666,\"#ed7953\"],[0.7777777777777778,\"#fb9f3a\"],[0.8888888888888888,\"#fdca26\"],[1.0,\"#f0f921\"]],\"sequentialminus\":[[0.0,\"#0d0887\"],[0.1111111111111111,\"#46039f\"],[0.2222222222222222,\"#7201a8\"],[0.3333333333333333,\"#9c179e\"],[0.4444444444444444,\"#bd3786\"],[0.5555555555555556,\"#d8576b\"],[0.6666666666666666,\"#ed7953\"],[0.7777777777777778,\"#fb9f3a\"],[0.8888888888888888,\"#fdca26\"],[1.0,\"#f0f921\"]],\"diverging\":[[0,\"#8e0152\"],[0.1,\"#c51b7d\"],[0.2,\"#de77ae\"],[0.3,\"#f1b6da\"],[0.4,\"#fde0ef\"],[0.5,\"#f7f7f7\"],[0.6,\"#e6f5d0\"],[0.7,\"#b8e186\"],[0.8,\"#7fbc41\"],[0.9,\"#4d9221\"],[1,\"#276419\"]]},\"xaxis\":{\"gridcolor\":\"white\",\"linecolor\":\"white\",\"ticks\":\"\",\"title\":{\"standoff\":15},\"zerolinecolor\":\"white\",\"automargin\":true,\"zerolinewidth\":2},\"yaxis\":{\"gridcolor\":\"white\",\"linecolor\":\"white\",\"ticks\":\"\",\"title\":{\"standoff\":15},\"zerolinecolor\":\"white\",\"automargin\":true,\"zerolinewidth\":2},\"scene\":{\"xaxis\":{\"backgroundcolor\":\"#E5ECF6\",\"gridcolor\":\"white\",\"linecolor\":\"white\",\"showbackground\":true,\"ticks\":\"\",\"zerolinecolor\":\"white\",\"gridwidth\":2},\"yaxis\":{\"backgroundcolor\":\"#E5ECF6\",\"gridcolor\":\"white\",\"linecolor\":\"white\",\"showbackground\":true,\"ticks\":\"\",\"zerolinecolor\":\"white\",\"gridwidth\":2},\"zaxis\":{\"backgroundcolor\":\"#E5ECF6\",\"gridcolor\":\"white\",\"linecolor\":\"white\",\"showbackground\":true,\"ticks\":\"\",\"zerolinecolor\":\"white\",\"gridwidth\":2}},\"shapedefaults\":{\"line\":{\"color\":\"#2a3f5f\"}},\"annotationdefaults\":{\"arrowcolor\":\"#2a3f5f\",\"arrowhead\":0,\"arrowwidth\":1},\"geo\":{\"bgcolor\":\"white\",\"landcolor\":\"#E5ECF6\",\"subunitcolor\":\"white\",\"showland\":true,\"showlakes\":true,\"lakecolor\":\"white\"},\"title\":{\"x\":0.05},\"mapbox\":{\"style\":\"light\"}}},\"xaxis\":{\"anchor\":\"y\",\"domain\":[0.0,1.0],\"title\":{\"text\":\"Occupation\"}},\"yaxis\":{\"anchor\":\"x\",\"domain\":[0.0,1.0],\"title\":{\"text\":\"count\"}},\"legend\":{\"title\":{\"text\":\"Sleep Disorder\"},\"tracegroupgap\":0},\"title\":{\"text\":\"Bar Chart of BMI Category Counts\"},\"barmode\":\"relative\"},                        {\"responsive\": true}                    ).then(function(){\n",
              "                            \n",
              "var gd = document.getElementById('98b9ea34-e226-49a7-bfa7-1afd385d7bf0');\n",
              "var x = new MutationObserver(function (mutations, observer) {{\n",
              "        var display = window.getComputedStyle(gd).display;\n",
              "        if (!display || display === 'none') {{\n",
              "            console.log([gd, 'removed!']);\n",
              "            Plotly.purge(gd);\n",
              "            observer.disconnect();\n",
              "        }}\n",
              "}});\n",
              "\n",
              "// Listen for the removal of the full notebook cells\n",
              "var notebookContainer = gd.closest('#notebook-container');\n",
              "if (notebookContainer) {{\n",
              "    x.observe(notebookContainer, {childList: true});\n",
              "}}\n",
              "\n",
              "// Listen for the clearing of the current output cell\n",
              "var outputEl = gd.closest('.output');\n",
              "if (outputEl) {{\n",
              "    x.observe(outputEl, {childList: true});\n",
              "}}\n",
              "\n",
              "                        })                };                            </script>        </div>\n",
              "</body>\n",
              "</html>"
            ]
          },
          "metadata": {}
        }
      ]
    },
    {
      "cell_type": "markdown",
      "source": [
        "Occupation of Nurse,Teacher, Sales person and sales representative are prone to sleep disorder\n",
        "\n",
        "\n",
        "Esto es coherente, ya que en el sector salud estan expuestos a largas jornadas sin dormir, lo que puede alterar el ciclo circadiano \"normal\", con respecto a los maestros y vendedores un posible factor sea el estres en su vida diaria"
      ],
      "metadata": {
        "id": "CFts_TfUIKEK"
      }
    },
    {
      "cell_type": "code",
      "source": [
        "#Grafico de violin para calidad del sueño en base al genero\n",
        "color_palette = {'Male': 'lightblue', 'Female': 'lightcoral'}\n",
        "plt.figure(figsize=(10, 6))\n",
        "sns.violinplot(x='Gender', y='Quality of Sleep', data=df, palette=color_palette)\n",
        "plt.title('Distribution of Quality of Sleep by Gender', fontsize=16)\n",
        "plt.xlabel('Gender', fontsize=12)\n",
        "plt.ylabel('Quality of Sleep', fontsize=12)\n",
        "plt.show()"
      ],
      "metadata": {
        "colab": {
          "base_uri": "https://localhost:8080/",
          "height": 429
        },
        "id": "pXYoJiwDI5LE",
        "outputId": "d8ac63ca-3662-4528-abec-1f944514a34a"
      },
      "execution_count": null,
      "outputs": [
        {
          "output_type": "display_data",
          "data": {
            "text/plain": [
              "<Figure size 1000x600 with 1 Axes>"
            ],
            "image/png": "[encoded data removed]"
          },
          "metadata": {}
        }
      ]
    },
    {
      "cell_type": "markdown",
      "source": [
        "\n",
        "**Hombres**\n",
        "La calidad del sueño está concentrada alrededor de valores entre 6 y 8, lo que sugiere que la mayoría de los hombres tienen una calidad de sueño moderada a buena.\n",
        "\n",
        "\n",
        "**Mujeres**\n",
        "\n",
        "Se observa una distribucion es mas amplia en comparacion con los hombres, lo que indica mayor variabilidad en la calidad del sueño\n",
        "\n",
        "\n",
        "En ambos generos encontramos valores inferiores a 5 lo que puede indicar una calidad baja del sueño\n"
      ],
      "metadata": {
        "id": "ckA2OB1HKgbw"
      }
    },
    {
      "cell_type": "code",
      "source": [
        "#Relacion entre la calidad de sueño y nivel de estres\n",
        "fig = px.bar(df,\n",
        "             x='Stress Level',\n",
        "             y='Quality of Sleep',\n",
        "             color='Stress Level',\n",
        "             title='Relationship between Stress Level and Quality of Sleep'\n",
        "            )\n",
        "fig.show()"
      ],
      "metadata": {
        "colab": {
          "base_uri": "https://localhost:8080/",
          "height": 542
        },
        "id": "eXwshdRMP198",
        "outputId": "54ae8058-9382-4d2f-87af-7c5b634f5bc8"
      },
      "execution_count": null,
      "outputs": [
        {
          "output_type": "display_data",
          "data": {
            "text/html": [
              "<html>\n",
              "<head><meta charset=\"utf-8\" /></head>\n",
              "<body>\n",
              "    <div>            <script src=\"https://cdnjs.cloudflare.com/ajax/libs/mathjax/2.7.5/MathJax.js?config=TeX-AMS-MML_SVG\"></script><script type=\"text/javascript\">if (window.MathJax && window.MathJax.Hub && window.MathJax.Hub.Config) {window.MathJax.Hub.Config({SVG: {font: \"STIX-Web\"}});}</script>                <script type=\"text/javascript\">window.PlotlyConfig = {MathJaxConfig: 'local'};</script>\n",
              "        <script charset=\"utf-8\" src=\"https://cdn.plot.ly/plotly-2.35.2.min.js\"></script>                <div id=\"0f590ee8-7841-4d96-90ee-82d2cdcde4b8\" class=\"plotly-graph-div\" style=\"height:525px; width:100%;\"></div>            <script type=\"text/javascript\">                                    window.PLOTLYENV=window.PLOTLYENV || {};                                    if (document.getElementById(\"0f590ee8-7841-4d96-90ee-82d2cdcde4b8\")) {                    Plotly.newPlot(                        \"0f590ee8-7841-4d96-90ee-82d2cdcde4b8\",                        [{\"alignmentgroup\":\"True\",\"hovertemplate\":\"Stress Level=%{marker.color}\\u003cbr\\u003eQuality of Sleep=%{y}\\u003cextra\\u003e\\u003c\\u002fextra\\u003e\",\"legendgroup\":\"\",\"marker\":{\"color\":[6,8,8,8,8,8,7,6,6,6,8,6,8,8,8,8,7,8,7,6,6,6,6,6,6,6,6,6,6,6,7,7,4,8,6,8,8,6,6,6,6,6,6,6,6,6,6,6,6,6,3,3,8,6,8,8,6,8,8,6,8,8,8,8,8,8,6,8,6,6,8,8,8,8,8,8,8,8,8,8,8,8,5,5,5,4,4,4,4,4,4,4,5,5,4,4,4,4,4,4,4,4,4,7,4,7,6,4,4,5,4,5,4,5,4,4,4,4,4,4,4,4,4,4,4,4,5,4,5,5,4,5,5,4,5,5,4,5,4,5,4,5,4,4,5,5,5,7,6,3,3,5,5,5,5,5,5,5,5,5,5,6,6,5,5,5,6,6,6,5,5,5,5,5,5,5,5,7,5,5,5,5,5,5,7,7,4,7,4,7,4,7,7,7,7,7,7,7,7,7,7,5,5,7,4,5,5,5,5,5,5,5,5,5,5,5,5,5,5,7,4,7,7,7,4,7,4,7,4,7,4,7,4,7,4,7,7,4,7,7,4,7,7,4,7,4,7,7,7,7,6,6,4,4,4,4,4,4,4,4,4,4,4,5,5,8,5,8,8,8,8,8,8,8,8,8,3,3,8,3,8,8,8,8,8,8,8,8,8,8,8,8,8,8,8,8,8,8,3,3,3,3,6,8,8,8,7,7,7,7,7,7,3,3,3,3,3,3,3,3,3,3,3,3,3,3,3,3,3,3,3,3,3,3,3,3,3,3,3,4,4,3,3,3,3,3,3,3,3,3,3,3,3,3,3,3,3,3,3,3,3,3,3,3,3,3,3,3,3,3,3,3,3,3],\"coloraxis\":\"coloraxis\",\"pattern\":{\"shape\":\"\"}},\"name\":\"\",\"offsetgroup\":\"\",\"orientation\":\"v\",\"showlegend\":false,\"textposition\":\"auto\",\"x\":[6,8,8,8,8,8,7,6,6,6,8,6,8,8,8,8,7,8,7,6,6,6,6,6,6,6,6,6,6,6,7,7,4,8,6,8,8,6,6,6,6,6,6,6,6,6,6,6,6,6,3,3,8,6,8,8,6,8,8,6,8,8,8,8,8,8,6,8,6,6,8,8,8,8,8,8,8,8,8,8,8,8,5,5,5,4,4,4,4,4,4,4,5,5,4,4,4,4,4,4,4,4,4,7,4,7,6,4,4,5,4,5,4,5,4,4,4,4,4,4,4,4,4,4,4,4,5,4,5,5,4,5,5,4,5,5,4,5,4,5,4,5,4,4,5,5,5,7,6,3,3,5,5,5,5,5,5,5,5,5,5,6,6,5,5,5,6,6,6,5,5,5,5,5,5,5,5,7,5,5,5,5,5,5,7,7,4,7,4,7,4,7,7,7,7,7,7,7,7,7,7,5,5,7,4,5,5,5,5,5,5,5,5,5,5,5,5,5,5,7,4,7,7,7,4,7,4,7,4,7,4,7,4,7,4,7,7,4,7,7,4,7,7,4,7,4,7,7,7,7,6,6,4,4,4,4,4,4,4,4,4,4,4,5,5,8,5,8,8,8,8,8,8,8,8,8,3,3,8,3,8,8,8,8,8,8,8,8,8,8,8,8,8,8,8,8,8,8,3,3,3,3,6,8,8,8,7,7,7,7,7,7,3,3,3,3,3,3,3,3,3,3,3,3,3,3,3,3,3,3,3,3,3,3,3,3,3,3,3,4,4,3,3,3,3,3,3,3,3,3,3,3,3,3,3,3,3,3,3,3,3,3,3,3,3,3,3,3,3,3,3,3,3,3],\"xaxis\":\"x\",\"y\":[6,6,6,4,4,4,6,7,7,7,6,7,6,6,6,6,5,6,5,7,7,7,7,7,7,7,7,7,7,7,5,5,8,6,7,6,6,7,7,7,7,7,7,7,7,7,7,7,7,7,8,8,6,7,6,6,7,6,6,7,6,6,6,6,6,6,8,6,6,6,6,6,6,6,6,6,6,6,6,6,4,4,7,7,8,8,8,8,8,8,8,8,8,7,8,8,8,8,8,8,8,8,8,5,8,5,6,8,8,8,8,8,8,8,8,8,8,8,8,8,8,8,8,8,8,8,8,8,8,8,8,8,8,8,8,8,8,8,8,8,8,8,8,8,8,7,8,5,7,9,9,8,8,8,8,8,8,8,8,8,8,8,8,8,8,8,8,7,7,8,8,8,8,8,8,8,8,6,8,8,8,8,8,8,6,6,7,6,7,6,7,6,6,6,6,6,6,6,6,6,6,8,8,6,8,8,8,8,8,8,8,8,8,8,8,8,8,8,8,6,7,6,6,6,7,6,7,6,7,6,7,6,7,6,7,6,6,7,6,6,7,6,6,7,6,7,6,7,6,6,7,7,7,7,7,7,7,7,7,7,7,7,7,7,7,6,7,6,6,6,6,6,6,6,6,6,9,9,6,9,6,6,6,6,6,6,6,6,6,6,6,6,6,6,6,6,6,6,9,9,9,9,7,6,6,6,7,7,7,7,7,7,9,9,9,9,9,9,9,9,9,9,9,9,9,9,9,9,9,9,9,9,9,9,9,9,9,9,9,9,9,9,9,9,9,9,9,9,9,9,9,9,9,9,9,9,9,9,9,9,9,9,9,9,9,9,9,9,9,9,9,9,9,9],\"yaxis\":\"y\",\"type\":\"bar\"}],                        {\"template\":{\"data\":{\"histogram2dcontour\":[{\"type\":\"histogram2dcontour\",\"colorbar\":{\"outlinewidth\":0,\"ticks\":\"\"},\"colorscale\":[[0.0,\"#0d0887\"],[0.1111111111111111,\"#46039f\"],[0.2222222222222222,\"#7201a8\"],[0.3333333333333333,\"#9c179e\"],[0.4444444444444444,\"#bd3786\"],[0.5555555555555556,\"#d8576b\"],[0.6666666666666666,\"#ed7953\"],[0.7777777777777778,\"#fb9f3a\"],[0.8888888888888888,\"#fdca26\"],[1.0,\"#f0f921\"]]}],\"choropleth\":[{\"type\":\"choropleth\",\"colorbar\":{\"outlinewidth\":0,\"ticks\":\"\"}}],\"histogram2d\":[{\"type\":\"histogram2d\",\"colorbar\":{\"outlinewidth\":0,\"ticks\":\"\"},\"colorscale\":[[0.0,\"#0d0887\"],[0.1111111111111111,\"#46039f\"],[0.2222222222222222,\"#7201a8\"],[0.3333333333333333,\"#9c179e\"],[0.4444444444444444,\"#bd3786\"],[0.5555555555555556,\"#d8576b\"],[0.6666666666666666,\"#ed7953\"],[0.7777777777777778,\"#fb9f3a\"],[0.8888888888888888,\"#fdca26\"],[1.0,\"#f0f921\"]]}],\"heatmap\":[{\"type\":\"heatmap\",\"colorbar\":{\"outlinewidth\":0,\"ticks\":\"\"},\"colorscale\":[[0.0,\"#0d0887\"],[0.1111111111111111,\"#46039f\"],[0.2222222222222222,\"#7201a8\"],[0.3333333333333333,\"#9c179e\"],[0.4444444444444444,\"#bd3786\"],[0.5555555555555556,\"#d8576b\"],[0.6666666666666666,\"#ed7953\"],[0.7777777777777778,\"#fb9f3a\"],[0.8888888888888888,\"#fdca26\"],[1.0,\"#f0f921\"]]}],\"heatmapgl\":[{\"type\":\"heatmapgl\",\"colorbar\":{\"outlinewidth\":0,\"ticks\":\"\"},\"colorscale\":[[0.0,\"#0d0887\"],[0.1111111111111111,\"#46039f\"],[0.2222222222222222,\"#7201a8\"],[0.3333333333333333,\"#9c179e\"],[0.4444444444444444,\"#bd3786\"],[0.5555555555555556,\"#d8576b\"],[0.6666666666666666,\"#ed7953\"],[0.7777777777777778,\"#fb9f3a\"],[0.8888888888888888,\"#fdca26\"],[1.0,\"#f0f921\"]]}],\"contourcarpet\":[{\"type\":\"contourcarpet\",\"colorbar\":{\"outlinewidth\":0,\"ticks\":\"\"}}],\"contour\":[{\"type\":\"contour\",\"colorbar\":{\"outlinewidth\":0,\"ticks\":\"\"},\"colorscale\":[[0.0,\"#0d0887\"],[0.1111111111111111,\"#46039f\"],[0.2222222222222222,\"#7201a8\"],[0.3333333333333333,\"#9c179e\"],[0.4444444444444444,\"#bd3786\"],[0.5555555555555556,\"#d8576b\"],[0.6666666666666666,\"#ed7953\"],[0.7777777777777778,\"#fb9f3a\"],[0.8888888888888888,\"#fdca26\"],[1.0,\"#f0f921\"]]}],\"surface\":[{\"type\":\"surface\",\"colorbar\":{\"outlinewidth\":0,\"ticks\":\"\"},\"colorscale\":[[0.0,\"#0d0887\"],[0.1111111111111111,\"#46039f\"],[0.2222222222222222,\"#7201a8\"],[0.3333333333333333,\"#9c179e\"],[0.4444444444444444,\"#bd3786\"],[0.5555555555555556,\"#d8576b\"],[0.6666666666666666,\"#ed7953\"],[0.7777777777777778,\"#fb9f3a\"],[0.8888888888888888,\"#fdca26\"],[1.0,\"#f0f921\"]]}],\"mesh3d\":[{\"type\":\"mesh3d\",\"colorbar\":{\"outlinewidth\":0,\"ticks\":\"\"}}],\"scatter\":[{\"fillpattern\":{\"fillmode\":\"overlay\",\"size\":10,\"solidity\":0.2},\"type\":\"scatter\"}],\"parcoords\":[{\"type\":\"parcoords\",\"line\":{\"colorbar\":{\"outlinewidth\":0,\"ticks\":\"\"}}}],\"scatterpolargl\":[{\"type\":\"scatterpolargl\",\"marker\":{\"colorbar\":{\"outlinewidth\":0,\"ticks\":\"\"}}}],\"bar\":[{\"error_x\":{\"color\":\"#2a3f5f\"},\"error_y\":{\"color\":\"#2a3f5f\"},\"marker\":{\"line\":{\"color\":\"#E5ECF6\",\"width\":0.5},\"pattern\":{\"fillmode\":\"overlay\",\"size\":10,\"solidity\":0.2}},\"type\":\"bar\"}],\"scattergeo\":[{\"type\":\"scattergeo\",\"marker\":{\"colorbar\":{\"outlinewidth\":0,\"ticks\":\"\"}}}],\"scatterpolar\":[{\"type\":\"scatterpolar\",\"marker\":{\"colorbar\":{\"outlinewidth\":0,\"ticks\":\"\"}}}],\"histogram\":[{\"marker\":{\"pattern\":{\"fillmode\":\"overlay\",\"size\":10,\"solidity\":0.2}},\"type\":\"histogram\"}],\"scattergl\":[{\"type\":\"scattergl\",\"marker\":{\"colorbar\":{\"outlinewidth\":0,\"ticks\":\"\"}}}],\"scatter3d\":[{\"type\":\"scatter3d\",\"line\":{\"colorbar\":{\"outlinewidth\":0,\"ticks\":\"\"}},\"marker\":{\"colorbar\":{\"outlinewidth\":0,\"ticks\":\"\"}}}],\"scattermapbox\":[{\"type\":\"scattermapbox\",\"marker\":{\"colorbar\":{\"outlinewidth\":0,\"ticks\":\"\"}}}],\"scatterternary\":[{\"type\":\"scatterternary\",\"marker\":{\"colorbar\":{\"outlinewidth\":0,\"ticks\":\"\"}}}],\"scattercarpet\":[{\"type\":\"scattercarpet\",\"marker\":{\"colorbar\":{\"outlinewidth\":0,\"ticks\":\"\"}}}],\"carpet\":[{\"aaxis\":{\"endlinecolor\":\"#2a3f5f\",\"gridcolor\":\"white\",\"linecolor\":\"white\",\"minorgridcolor\":\"white\",\"startlinecolor\":\"#2a3f5f\"},\"baxis\":{\"endlinecolor\":\"#2a3f5f\",\"gridcolor\":\"white\",\"linecolor\":\"white\",\"minorgridcolor\":\"white\",\"startlinecolor\":\"#2a3f5f\"},\"type\":\"carpet\"}],\"table\":[{\"cells\":{\"fill\":{\"color\":\"#EBF0F8\"},\"line\":{\"color\":\"white\"}},\"header\":{\"fill\":{\"color\":\"#C8D4E3\"},\"line\":{\"color\":\"white\"}},\"type\":\"table\"}],\"barpolar\":[{\"marker\":{\"line\":{\"color\":\"#E5ECF6\",\"width\":0.5},\"pattern\":{\"fillmode\":\"overlay\",\"size\":10,\"solidity\":0.2}},\"type\":\"barpolar\"}],\"pie\":[{\"automargin\":true,\"type\":\"pie\"}]},\"layout\":{\"autotypenumbers\":\"strict\",\"colorway\":[\"#636efa\",\"#EF553B\",\"#00cc96\",\"#ab63fa\",\"#FFA15A\",\"#19d3f3\",\"#FF6692\",\"#B6E880\",\"#FF97FF\",\"#FECB52\"],\"font\":{\"color\":\"#2a3f5f\"},\"hovermode\":\"closest\",\"hoverlabel\":{\"align\":\"left\"},\"paper_bgcolor\":\"white\",\"plot_bgcolor\":\"#E5ECF6\",\"polar\":{\"bgcolor\":\"#E5ECF6\",\"angularaxis\":{\"gridcolor\":\"white\",\"linecolor\":\"white\",\"ticks\":\"\"},\"radialaxis\":{\"gridcolor\":\"white\",\"linecolor\":\"white\",\"ticks\":\"\"}},\"ternary\":{\"bgcolor\":\"#E5ECF6\",\"aaxis\":{\"gridcolor\":\"white\",\"linecolor\":\"white\",\"ticks\":\"\"},\"baxis\":{\"gridcolor\":\"white\",\"linecolor\":\"white\",\"ticks\":\"\"},\"caxis\":{\"gridcolor\":\"white\",\"linecolor\":\"white\",\"ticks\":\"\"}},\"coloraxis\":{\"colorbar\":{\"outlinewidth\":0,\"ticks\":\"\"}},\"colorscale\":{\"sequential\":[[0.0,\"#0d0887\"],[0.1111111111111111,\"#46039f\"],[0.2222222222222222,\"#7201a8\"],[0.3333333333333333,\"#9c179e\"],[0.4444444444444444,\"#bd3786\"],[0.5555555555555556,\"#d8576b\"],[0.6666666666666666,\"#ed7953\"],[0.7777777777777778,\"#fb9f3a\"],[0.8888888888888888,\"#fdca26\"],[1.0,\"#f0f921\"]],\"sequentialminus\":[[0.0,\"#0d0887\"],[0.1111111111111111,\"#46039f\"],[0.2222222222222222,\"#7201a8\"],[0.3333333333333333,\"#9c179e\"],[0.4444444444444444,\"#bd3786\"],[0.5555555555555556,\"#d8576b\"],[0.6666666666666666,\"#ed7953\"],[0.7777777777777778,\"#fb9f3a\"],[0.8888888888888888,\"#fdca26\"],[1.0,\"#f0f921\"]],\"diverging\":[[0,\"#8e0152\"],[0.1,\"#c51b7d\"],[0.2,\"#de77ae\"],[0.3,\"#f1b6da\"],[0.4,\"#fde0ef\"],[0.5,\"#f7f7f7\"],[0.6,\"#e6f5d0\"],[0.7,\"#b8e186\"],[0.8,\"#7fbc41\"],[0.9,\"#4d9221\"],[1,\"#276419\"]]},\"xaxis\":{\"gridcolor\":\"white\",\"linecolor\":\"white\",\"ticks\":\"\",\"title\":{\"standoff\":15},\"zerolinecolor\":\"white\",\"automargin\":true,\"zerolinewidth\":2},\"yaxis\":{\"gridcolor\":\"white\",\"linecolor\":\"white\",\"ticks\":\"\",\"title\":{\"standoff\":15},\"zerolinecolor\":\"white\",\"automargin\":true,\"zerolinewidth\":2},\"scene\":{\"xaxis\":{\"backgroundcolor\":\"#E5ECF6\",\"gridcolor\":\"white\",\"linecolor\":\"white\",\"showbackground\":true,\"ticks\":\"\",\"zerolinecolor\":\"white\",\"gridwidth\":2},\"yaxis\":{\"backgroundcolor\":\"#E5ECF6\",\"gridcolor\":\"white\",\"linecolor\":\"white\",\"showbackground\":true,\"ticks\":\"\",\"zerolinecolor\":\"white\",\"gridwidth\":2},\"zaxis\":{\"backgroundcolor\":\"#E5ECF6\",\"gridcolor\":\"white\",\"linecolor\":\"white\",\"showbackground\":true,\"ticks\":\"\",\"zerolinecolor\":\"white\",\"gridwidth\":2}},\"shapedefaults\":{\"line\":{\"color\":\"#2a3f5f\"}},\"annotationdefaults\":{\"arrowcolor\":\"#2a3f5f\",\"arrowhead\":0,\"arrowwidth\":1},\"geo\":{\"bgcolor\":\"white\",\"landcolor\":\"#E5ECF6\",\"subunitcolor\":\"white\",\"showland\":true,\"showlakes\":true,\"lakecolor\":\"white\"},\"title\":{\"x\":0.05},\"mapbox\":{\"style\":\"light\"}}},\"xaxis\":{\"anchor\":\"y\",\"domain\":[0.0,1.0],\"title\":{\"text\":\"Stress Level\"}},\"yaxis\":{\"anchor\":\"x\",\"domain\":[0.0,1.0],\"title\":{\"text\":\"Quality of Sleep\"}},\"coloraxis\":{\"colorbar\":{\"title\":{\"text\":\"Stress Level\"}},\"colorscale\":[[0.0,\"#0d0887\"],[0.1111111111111111,\"#46039f\"],[0.2222222222222222,\"#7201a8\"],[0.3333333333333333,\"#9c179e\"],[0.4444444444444444,\"#bd3786\"],[0.5555555555555556,\"#d8576b\"],[0.6666666666666666,\"#ed7953\"],[0.7777777777777778,\"#fb9f3a\"],[0.8888888888888888,\"#fdca26\"],[1.0,\"#f0f921\"]]},\"legend\":{\"tracegroupgap\":0},\"title\":{\"text\":\"Relationship between Stress Level and Quality of Sleep\"},\"barmode\":\"relative\"},                        {\"responsive\": true}                    ).then(function(){\n",
              "                            \n",
              "var gd = document.getElementById('0f590ee8-7841-4d96-90ee-82d2cdcde4b8');\n",
              "var x = new MutationObserver(function (mutations, observer) {{\n",
              "        var display = window.getComputedStyle(gd).display;\n",
              "        if (!display || display === 'none') {{\n",
              "            console.log([gd, 'removed!']);\n",
              "            Plotly.purge(gd);\n",
              "            observer.disconnect();\n",
              "        }}\n",
              "}});\n",
              "\n",
              "// Listen for the removal of the full notebook cells\n",
              "var notebookContainer = gd.closest('#notebook-container');\n",
              "if (notebookContainer) {{\n",
              "    x.observe(notebookContainer, {childList: true});\n",
              "}}\n",
              "\n",
              "// Listen for the clearing of the current output cell\n",
              "var outputEl = gd.closest('.output');\n",
              "if (outputEl) {{\n",
              "    x.observe(outputEl, {childList: true});\n",
              "}}\n",
              "\n",
              "                        })                };                            </script>        </div>\n",
              "</body>\n",
              "</html>"
            ]
          },
          "metadata": {}
        }
      ]
    },
    {
      "cell_type": "markdown",
      "source": [
        "Encontramos una correlacion en donde a mayor nivel de estres, menor sera la calidad de sueño, lo cual es entendible desde el punto de vista neurocientico,en donde se sabe que el nivel de estres esta relacionado con el cortisol, el cual esta presente en los procesos de alertamiento y lo que permite que estemos activos en el dia, al tener niveles mas altos,puede que no exista esta disminucion necesaria para dormir decrementando por tanto la cantidad de horas y posiblemente la calidad de la misma"
      ],
      "metadata": {
        "id": "EhpNcOHERMt4"
      }
    },
    {
      "cell_type": "markdown",
      "source": [
        "Splitting Blood Pressure into two columns: Systolic and Diastolic"
      ],
      "metadata": {
        "id": "mxHEl6GhX9kw"
      }
    },
    {
      "cell_type": "code",
      "source": [
        "#Separacion de la columna Blood Pressure en sistolica y diastolica,y eliminacion de\n",
        "#sistolica y diastolica\n",
        "df = pd.concat([df, df['Blood Pressure'].str.split('/', expand=True)], axis=1).drop('Blood Pressure', axis=1)\n",
        "df = df.rename(columns={0: 'Systolic', 1: 'Diastolic'})"
      ],
      "metadata": {
        "id": "Ub6ZPSHDXzh4"
      },
      "execution_count": null,
      "outputs": []
    },
    {
      "cell_type": "code",
      "source": [
        "#Transformacion de las columnas a numeros decimales\n",
        "df['Systolic'] = df['Systolic'].astype(float)\n",
        "df['Diastolic'] = df['Diastolic'].astype(float)"
      ],
      "metadata": {
        "id": "c-uulmdVYTBx"
      },
      "execution_count": null,
      "outputs": []
    },
    {
      "cell_type": "code",
      "source": [
        "#Variable con las las columnas con valores numericos\n",
        "numeric_features = ['Age', 'Sleep Duration',\n",
        "                    'Physical Activity Level',\n",
        "                    'Heart Rate', 'Daily Steps', 'Systolic', 'Diastolic']\n",
        "#Util en la siguiente parte del codigo para ver como se relacionan estas variables"
      ],
      "metadata": {
        "id": "4qOctEeaYWBA"
      },
      "execution_count": null,
      "outputs": []
    },
    {
      "cell_type": "code",
      "source": [
        "# Calculate the correlation matrix\n",
        "corr_matrix = df[numeric_features].corr()\n",
        "\n",
        "# Set up the matplotlib figure\n",
        "plt.figure(figsize=(12, 8))\n",
        "\n",
        "# Draw the heatmap without the mask\n",
        "sns.heatmap(corr_matrix, annot=True, cmap='coolwarm', fmt=\".2f\", vmin=-1, vmax=1, square=True)\n",
        "\n",
        "# Customize plot labels and title\n",
        "plt.title('Correlation Heatmap of data')\n",
        "plt.xticks(rotation=45)\n",
        "plt.yticks(rotation=0)\n",
        "\n",
        "# Show plot\n",
        "plt.show()"
      ],
      "metadata": {
        "colab": {
          "base_uri": "https://localhost:8080/",
          "height": 550
        },
        "id": "yoXraYDmYeQO",
        "outputId": "ea6b4ae7-a305-4573-c809-7689678f04c9"
      },
      "execution_count": null,
      "outputs": [
        {
          "output_type": "display_data",
          "data": {
            "text/plain": [
              "<Figure size 1200x800 with 2 Axes>"
            ],
            "image/png": "[encoded data removed]"
          },
          "metadata": {}
        }
      ]
    },
    {
      "cell_type": "markdown",
      "source": [
        "*  Se encuentran correlaciones positiva moderada con la presión sistólica (0.61) y diastólica (0.59), es decir que a mayor edad encontramos un aumento en la presion\n",
        "*  Encontramos una alta correlacion entre la presion sistolica y diastolica (0.97)\n",
        "*  Hay correlacion positiva entre nivel de actividad fisica con los pasos diarios (0.77)\n",
        "\n",
        "*  Encontramos una correlacion negativa entre el ritmo caridiaco y la duracion del sueño\n",
        "\n",
        "\n"
      ],
      "metadata": {
        "id": "LuDl1tE3b0Ht"
      }
    },
    {
      "cell_type": "code",
      "source": [
        "#Eliminacion de la columna Person ID del df\n",
        "df.drop(columns=['Person ID'],inplace = True)\n",
        "#Util ya que no sera necesario para los analisis"
      ],
      "metadata": {
        "id": "S-MlfIGOd_fy"
      },
      "execution_count": null,
      "outputs": []
    },
    {
      "cell_type": "code",
      "source": [
        "#Transformacion de los valores categoricos a numericos de la columna Sleep Disorder\n",
        "label_encoder = LabelEncoder()\n",
        "df['Sleep Disorder'] = label_encoder.fit_transform(df['Sleep Disorder'])\n"
      ],
      "metadata": {
        "id": "rON2RO73ekeF"
      },
      "execution_count": null,
      "outputs": []
    },
    {
      "cell_type": "code",
      "source": [
        "#Muestra que fue codificado\n",
        "print(label_encoder.classes_)"
      ],
      "metadata": {
        "colab": {
          "base_uri": "https://localhost:8080/"
        },
        "id": "5BS5moSogO_-",
        "outputId": "3ac56800-131a-445d-d806-1456437d8a41"
      },
      "execution_count": null,
      "outputs": [
        {
          "output_type": "stream",
          "name": "stdout",
          "text": [
            "['Insomnia' 'No Disorder' 'Sleep Apnea']\n"
          ]
        }
      ]
    },
    {
      "cell_type": "markdown",
      "source": [
        "Preprocessing\n"
      ],
      "metadata": {
        "id": "rASeV2biglBr"
      }
    },
    {
      "cell_type": "code",
      "source": [
        "#Generacion de dos listas con las variables numericas y categoricas\n",
        "numeric_features = ['Age', 'Sleep Duration',\n",
        "                    'Heart Rate', 'Daily Steps', 'Systolic', 'Diastolic']\n",
        "\n",
        "categorical_features = ['Occupation','Quality of Sleep','Gender',\n",
        "                    'Physical Activity Level', 'Stress Level', 'BMI Category']\n"
      ],
      "metadata": {
        "id": "aj8UaLu1gmkq"
      },
      "execution_count": null,
      "outputs": []
    },
    {
      "cell_type": "code",
      "source": [
        "#Preprocessador de las columnas numericas y categoricas\n",
        "preprocessor = ColumnTransformer(\n",
        "    transformers=[\n",
        "        ('num', RobustScaler(), numeric_features),#los datos numericos se transforman\n",
        "        #a una escala similiar,para que le sea mas facil al modelo procesarlo,el RobustScaler es mas resistente a datos atipicos\n",
        "        ('cat', OneHotEncoder(drop='first',sparse_output =False, handle_unknown='ignore'), categorical_features)# ignora la primera categoria.\n",
        "        #los datos se almacenan en una tabla y los datos desconocidos se ignorar, ademas de eso OnehotEncoder convierte categorías en ceros y unos\n",
        "    ])"
      ],
      "metadata": {
        "id": "BoZfVftpg6uR"
      },
      "execution_count": null,
      "outputs": []
    },
    {
      "cell_type": "code",
      "source": [
        "#Asignacion de la variable X y Y\n",
        "X = df.drop(columns=['Sleep Disorder']) #las variables predictoras del modelo\n",
        "#son todas las columnas a excepcion de la columna Sleep Disorders\n",
        "y = df['Sleep Disorder'] #La variable dependiente seria los trastornos del sueño"
      ],
      "metadata": {
        "id": "lvvhDWIfmsTq"
      },
      "execution_count": null,
      "outputs": []
    },
    {
      "cell_type": "code",
      "source": [
        "#Datos ajustados, para que pueda procesarlo el modelo\n",
        "X_preprocessed = preprocessor.fit_transform(X)"
      ],
      "metadata": {
        "id": "Q_sR2KtBoiT9"
      },
      "execution_count": null,
      "outputs": []
    },
    {
      "cell_type": "markdown",
      "source": [
        "Handling Imbalance Data - SMOTE\n"
      ],
      "metadata": {
        "id": "dciS8AOdpP8h"
      }
    },
    {
      "cell_type": "code",
      "source": [
        "# Initialize SMOTE\n",
        "smote = SMOTE(random_state=42)\n",
        "\n",
        "# Perform SMOTE oversampling\n",
        "X_smote, y_smote = smote.fit_resample(X_preprocessed, y)\n",
        "X_smote.shape\n",
        "\n",
        "\n",
        "#SMOTE equilibro las clases desbalanceadas generando muestras sintéticas\n",
        "#para la clase con menor cantidad de datos\n",
        "\n",
        "#Ahora para x contamos con 657 filas y 44 columnas\n",
        "\n"
      ],
      "metadata": {
        "colab": {
          "base_uri": "https://localhost:8080/"
        },
        "id": "N0DazFTzpTrf",
        "outputId": "b0f71cec-0f08-4c53-8efc-a653a943b39f"
      },
      "execution_count": null,
      "outputs": [
        {
          "output_type": "execute_result",
          "data": {
            "text/plain": [
              "(657, 44)"
            ]
          },
          "metadata": {},
          "execution_count": 34
        }
      ]
    },
    {
      "cell_type": "code",
      "source": [
        "# Splitting the data into training and testing sets (e.g., 75% training, 25% testing)\n",
        "X_train, X_test, y_train, y_test = train_test_split(X_smote, y_smote, test_size=0.25, random_state=42)\n",
        "\n",
        "#Nos acercamos mas al entrenamiento del modelo, ahora utilizamos las x y y con datos sinteticos y lo separamos en 2 mis datos\n",
        "#que se utilizaran para prueba (25%) y los que se utilizaran para entrenamiento (75%)"
      ],
      "metadata": {
        "id": "_CkKsqUiqsh6"
      },
      "execution_count": null,
      "outputs": []
    },
    {
      "cell_type": "markdown",
      "source": [
        "**Model Training**\n",
        "\n",
        "\n",
        "Logistic Regression\n",
        "*****"
      ],
      "metadata": {
        "id": "sbE-XW2frGJL"
      }
    },
    {
      "cell_type": "code",
      "source": [
        "# Initialize Logistic Regression classifier\n",
        "model_lr = LogisticRegression()\n",
        "\n",
        "# Fit the model on the training data\n",
        "model_lr.fit(X_train, y_train)\n",
        "# Predict on the test data\n",
        "y_pred_lr = model_lr.predict(X_test)\n",
        "\n",
        "# Calculate evaluation metrics\n",
        "accuracy_lr = accuracy_score(y_test, y_pred_lr)\n",
        "precision_lr = precision_score(y_test, y_pred_lr, average='weighted')\n",
        "recall_lr = recall_score(y_test, y_pred_lr, average='weighted')\n",
        "f1_lr = f1_score(y_test, y_pred_lr, average='weighted')\n",
        "\n",
        "# Print metrics\n",
        "print(f'Accuracy: {accuracy_lr}')\n",
        "print(f'Precision: {precision_lr}')\n",
        "print(f'Recall: {recall_lr}')\n",
        "print(f'F1-score: {f1_lr}')"
      ],
      "metadata": {
        "colab": {
          "base_uri": "https://localhost:8080/"
        },
        "id": "NZfNj3kxrPE9",
        "outputId": "c545433d-3405-4de1-aaf6-a0bbe5a614cd"
      },
      "execution_count": null,
      "outputs": [
        {
          "output_type": "stream",
          "name": "stdout",
          "text": [
            "Accuracy: 0.9090909090909091\n",
            "Precision: 0.910767756617559\n",
            "Recall: 0.9090909090909091\n",
            "F1-score: 0.9084234273263183\n"
          ]
        }
      ]
    },
    {
      "cell_type": "markdown",
      "source": [
        "Encontramos un modelo bastante bueno con una accuracy y precision arriba del 90% lo que indica que en la mayoria de las ocasiones nuestro modelo predecira de manera adecuada, sumado a esto encontramos un recall del 90% modelo significando que identifica correctamente todas las instancias positivas reales, por ultimo tambien tenemos un F1-score alto, indicando un buen balance entre  precision y recall"
      ],
      "metadata": {
        "id": "RdKc9Xtkr-pY"
      }
    },
    {
      "cell_type": "code",
      "source": [
        "# Generate classification report\n",
        "print(\"Classification Report Logistic Regression\")\n",
        "print(classification_report(y_test, y_pred_lr))"
      ],
      "metadata": {
        "colab": {
          "base_uri": "https://localhost:8080/"
        },
        "id": "TQpiC0ZztfG1",
        "outputId": "b35ec756-c273-4d0c-f977-89803bb377ea"
      },
      "execution_count": null,
      "outputs": [
        {
          "output_type": "stream",
          "name": "stdout",
          "text": [
            "Classification Report Logistic Regression\n",
            "              precision    recall  f1-score   support\n",
            "\n",
            "           0       0.94      0.82      0.87        38\n",
            "           1       0.88      0.95      0.92        64\n",
            "           2       0.92      0.92      0.92        63\n",
            "\n",
            "    accuracy                           0.91       165\n",
            "   macro avg       0.91      0.90      0.90       165\n",
            "weighted avg       0.91      0.91      0.91       165\n",
            "\n"
          ]
        }
      ]
    },
    {
      "cell_type": "code",
      "source": [
        "# Generate confusion matrix\n",
        "cm_lr = confusion_matrix(y_test, y_pred_lr)\n",
        "print('Confusion Matrix:')\n",
        "print(cm_lr)\n",
        "\n",
        "# Plot confusion matrix using seaborn\n",
        "plt.figure(figsize=(8, 6))\n",
        "sns.heatmap(cm_lr, annot=True, fmt='d', cmap='Blues', cbar=False)\n",
        "plt.xlabel('Predicted')\n",
        "plt.ylabel('Actual')\n",
        "plt.title('Confusion Matrix')\n",
        "plt.show()"
      ],
      "metadata": {
        "colab": {
          "base_uri": "https://localhost:8080/",
          "height": 590
        },
        "id": "bDKKt28JuOvd",
        "outputId": "0219db9e-b992-4a1f-a98d-a25b358d2b66"
      },
      "execution_count": null,
      "outputs": [
        {
          "output_type": "stream",
          "name": "stdout",
          "text": [
            "Confusion Matrix:\n",
            "[[31  3  4]\n",
            " [ 2 61  1]\n",
            " [ 0  5 58]]\n"
          ]
        },
        {
          "output_type": "display_data",
          "data": {
            "text/plain": [
              "<Figure size 800x600 with 1 Axes>"
            ],
            "image/png": "[encoded data removed]"
          },
          "metadata": {}
        }
      ]
    },
    {
      "cell_type": "markdown",
      "source": [
        "Encontramos que predijo:\n",
        "\n",
        "**GRUPO 0**\n",
        "* 31 verdadero positivos\n",
        "* 3 instancias de grupo 1 cuando eran del grupo 0\n",
        "*4 instancias de grupo 2 cuando era del grupo 0\n",
        "\n",
        "**GRUPO 1**\n",
        "* 61 verdadero positivos\n",
        "* 2 instancias de grupo 0 cuando era del grupo 1\n",
        "*  1 instancia de grupo 2 cuando era del grupo 1\n",
        "\n",
        "**GRUPO 2**\n",
        "\n",
        "*  58 verdadero positivos\n",
        "* 5 instancias de grupo 1 cuando era del grupo 2\n"
      ],
      "metadata": {
        "id": "aZsovdYjv4sO"
      }
    },
    {
      "cell_type": "markdown",
      "source": [
        "XGB Classifier\n",
        "\n"
      ],
      "metadata": {
        "id": "qFWejFwGyPPK"
      }
    },
    {
      "cell_type": "code",
      "source": [
        "# Initialize XGBoost classifier (assuming classification task)\n",
        "model_xgb = xgb.XGBClassifier()\n",
        "\n",
        "# Fit the model on the training data\n",
        "model_xgb.fit(X_train, y_train)\n",
        "\n",
        "# Predict on the test data\n",
        "y_pred = model_xgb.predict(X_test)\n",
        "# Calculate evaluation metrics\n",
        "accuracy_xgb = accuracy_score(y_test, y_pred)\n",
        "precision_xgb = precision_score(y_test, y_pred, average='weighted')\n",
        "recall_xgb = recall_score(y_test, y_pred, average='weighted')\n",
        "f1_xgb = f1_score(y_test, y_pred, average='weighted')\n",
        "\n",
        "# Print metrics\n",
        "print(f'Accuracy: {accuracy_xgb}')\n",
        "print(f'Precision: {precision_xgb}')\n",
        "print(f'Recall: {recall_xgb}')\n",
        "print(f'F1-score: {f1_xgb}')\n"
      ],
      "metadata": {
        "colab": {
          "base_uri": "https://localhost:8080/"
        },
        "id": "YxZVpvPu0e9X",
        "outputId": "e2fbeb73-8b72-47b9-bc51-8ab22e590741"
      },
      "execution_count": null,
      "outputs": [
        {
          "output_type": "stream",
          "name": "stdout",
          "text": [
            "Accuracy: 0.9272727272727272\n",
            "Precision: 0.9287307861220904\n",
            "Recall: 0.9272727272727272\n",
            "F1-score: 0.9271254483064495\n"
          ]
        }
      ]
    },
    {
      "cell_type": "markdown",
      "source": [
        "En general tien un rendimiento con una accuracy del 92% lo cual es alta, es util entender esto porque nos aclara que nuestro modelo puede considerarse confiable"
      ],
      "metadata": {
        "id": "gXH5Uf8gzAbN"
      }
    },
    {
      "cell_type": "code",
      "source": [
        "# Generate classification report\n",
        "print(\"Classification Report XGB Classifier\")\n",
        "print(classification_report(y_test, y_pred))\n",
        "\n"
      ],
      "metadata": {
        "colab": {
          "base_uri": "https://localhost:8080/"
        },
        "id": "nEcIqz6n1BOe",
        "outputId": "bfcab79f-1ac6-4126-c221-9b6aca5967eb"
      },
      "execution_count": null,
      "outputs": [
        {
          "output_type": "stream",
          "name": "stdout",
          "text": [
            "Classification Report XGB Classifier\n",
            "              precision    recall  f1-score   support\n",
            "\n",
            "           0       0.92      0.87      0.89        38\n",
            "           1       0.90      0.97      0.93        64\n",
            "           2       0.97      0.92      0.94        63\n",
            "\n",
            "    accuracy                           0.93       165\n",
            "   macro avg       0.93      0.92      0.92       165\n",
            "weighted avg       0.93      0.93      0.93       165\n",
            "\n"
          ]
        }
      ]
    },
    {
      "cell_type": "markdown",
      "source": [
        "\n",
        "Enfocándonos en la precisión para grupo 0, cuando el modelo predice que una persona que es del grupo 0, es correcto el 92% de las veces y cuenta con 38 instancias. Para el grupo 1, cuando el modelo predice es correcto el 90% de las veces y cuenta con 64 instancias y para el grupo 2, cuando el modelo predice,es correcto el 97% de las veces y cuenta con 63 instancias."
      ],
      "metadata": {
        "id": "Pt5nSmo-2IMk"
      }
    },
    {
      "cell_type": "code",
      "source": [
        "# Generate confusion matrix\n",
        "cm = confusion_matrix(y_test, y_pred)\n",
        "print('Confusion Matrix:')\n",
        "print(cm)\n",
        "\n",
        "# Plot confusion matrix using seaborn\n",
        "plt.figure(figsize=(8, 6))\n",
        "sns.heatmap(cm, annot=True, fmt='d', cmap='Blues', cbar=False)\n",
        "plt.xlabel('Predicted')\n",
        "plt.ylabel('Actual')\n",
        "plt.title('Confusion Matrix')\n",
        "plt.show()"
      ],
      "metadata": {
        "colab": {
          "base_uri": "https://localhost:8080/",
          "height": 590
        },
        "id": "AEQDThVP1co1",
        "outputId": "75d42ef3-957e-4732-f9a8-902583137004"
      },
      "execution_count": null,
      "outputs": [
        {
          "output_type": "stream",
          "name": "stdout",
          "text": [
            "Confusion Matrix:\n",
            "[[33  3  2]\n",
            " [ 2 62  0]\n",
            " [ 1  4 58]]\n"
          ]
        },
        {
          "output_type": "display_data",
          "data": {
            "text/plain": [
              "<Figure size 800x600 with 1 Axes>"
            ],
            "image/png": "[encoded data removed]"
          },
          "metadata": {}
        }
      ]
    },
    {
      "cell_type": "markdown",
      "source": [
        "Encontramos que predijo:\n",
        "\n",
        "**GRUPO 0**\n",
        "\n",
        "*  33 verdaderos positivos\n",
        "*  3 instancias de grupo 1 cuando es del grupo 0\n",
        "*  2 instancias de grupo 2 cuando es del grupo 0\n",
        "\n",
        "**GRUPO 1**\n",
        "\n",
        "* 62 verdaderos positivos\n",
        "* 2 instancias de grupo 0 cuando eran del grupo 1\n",
        "\n",
        "\n",
        "**GRUPO 2**\n",
        "\n",
        "* 58 verdaderos positivos\n",
        "* 4 instancias de grupo 1 cuando eran del grupo 2\n",
        "* 1 instancia grupo 0 cuando era del grupo 2"
      ],
      "metadata": {
        "id": "UMe3CoNO3IiP"
      }
    },
    {
      "cell_type": "markdown",
      "source": [
        "Cross Eval XGB Model\n",
        "\n"
      ],
      "metadata": {
        "id": "fgYYDq4l3-mZ"
      }
    },
    {
      "cell_type": "code",
      "source": [
        "xgb_model = xgb.XGBClassifier(random_state=42, use_label_encoder=False, eval_metric='mlogloss')\n",
        "#Desactiva el uso de codificador y uso una metrica de perdida logaritmica\n",
        "\n",
        "# Define cross-validation strategy\n",
        "cv = StratifiedKFold(n_splits=5, shuffle=True, random_state=42)\n",
        "#Divide los datos en 5 subconjuntos\n",
        "\n",
        "\n",
        "# Perform cross-validation\n",
        "scores = cross_val_score(xgb_model, X_smote, y_smote, cv=cv, scoring='accuracy')\n",
        "#Se entrena en 4 pliegues y se prueba en el 5, y devuelve el acurracy obtenida en cada pliegue\n",
        "\n",
        "scores\n"
      ],
      "metadata": {
        "colab": {
          "base_uri": "https://localhost:8080/"
        },
        "id": "zpx49yIg39y3",
        "outputId": "ad4faae8-d492-4d64-f987-274656357ab4"
      },
      "execution_count": null,
      "outputs": [
        {
          "output_type": "execute_result",
          "data": {
            "text/plain": [
              "array([0.92424242, 0.89393939, 0.93129771, 0.9389313 , 0.92366412])"
            ]
          },
          "metadata": {},
          "execution_count": 42
        }
      ]
    },
    {
      "cell_type": "markdown",
      "source": [
        "Encontramos una consistencia alta, en la mayoria  esta arriba del 90%"
      ],
      "metadata": {
        "id": "S-9qQZr24FOv"
      }
    },
    {
      "cell_type": "markdown",
      "source": [
        "Gradient Boosting Classifier\n",
        "*****\n"
      ],
      "metadata": {
        "id": "ozOG4eL1eNCT"
      }
    },
    {
      "cell_type": "code",
      "source": [
        "from sklearn.ensemble import GradientBoostingClassifier\n",
        "\n",
        "# Initialize GBM classifier\n",
        "gbm_clf = GradientBoostingClassifier(random_state=42)\n",
        "\n",
        "# Train the model\n",
        "gbm_clf.fit(X_train, y_train)\n",
        "\n",
        "# Predictions\n",
        "y_pred = gbm_clf.predict(X_test)\n",
        "\n",
        "# Calculate metrics\n",
        "accuracy_gbm = accuracy_score(y_test, y_pred)\n",
        "precision_gbm = precision_score(y_test, y_pred, average='weighted')\n",
        "recall_gbm = recall_score(y_test, y_pred, average='weighted')\n",
        "f1_gbm = f1_score(y_test, y_pred, average='weighted')\n",
        "\n",
        "# Classification report\n",
        "print(\"Classification Report Gradient Boosting Classifier:\")\n",
        "print(classification_report(y_test, y_pred))\n",
        "\n",
        "# Confusion matrix\n",
        "cm = confusion_matrix(y_test, y_pred)\n",
        "plt.figure(figsize=(8, 6))\n",
        "sns.heatmap(cm, annot=True, cmap='Blues', fmt='d', xticklabels=['No Disorder', 'Sleep Apnea', 'Insomnia'], yticklabels=['No Disorder', 'Sleep Apnea', 'Insomnia'])\n",
        "plt.xlabel('Predicted')\n",
        "plt.ylabel('Actual')\n",
        "plt.title('Confusion Matrix - Gradient Boosting Machine')\n",
        "plt.show()\n",
        "\n",
        "# Display metrics\n",
        "print(f\"Accuracy: {accuracy_gbm:.4f}\")\n",
        "print(f\"Precision: {precision_gbm:.4f}\")\n",
        "print(f\"Recall: {recall_gbm:.4f}\")\n",
        "print(f\"F1 Score: {f1_gbm:.4f}\")\n"
      ],
      "metadata": {
        "colab": {
          "base_uri": "https://localhost:8080/",
          "height": 815
        },
        "id": "4u6-TtBoekup",
        "outputId": "59bee58c-b13f-4d46-a606-e16d3c35d0d0"
      },
      "execution_count": null,
      "outputs": [
        {
          "output_type": "stream",
          "name": "stdout",
          "text": [
            "Classification Report Gradient Boosting Classifier:\n",
            "              precision    recall  f1-score   support\n",
            "\n",
            "           0       0.89      0.84      0.86        38\n",
            "           1       0.90      0.97      0.93        64\n",
            "           2       0.95      0.90      0.93        63\n",
            "\n",
            "    accuracy                           0.92       165\n",
            "   macro avg       0.91      0.91      0.91       165\n",
            "weighted avg       0.92      0.92      0.91       165\n",
            "\n"
          ]
        },
        {
          "output_type": "display_data",
          "data": {
            "text/plain": [
              "<Figure size 800x600 with 2 Axes>"
            ],
            "image/png": "[encoded data removed]"
          },
          "metadata": {}
        },
        {
          "output_type": "stream",
          "name": "stdout",
          "text": [
            "Accuracy: 0.9152\n",
            "Precision: 0.9160\n",
            "Recall: 0.9152\n",
            "F1 Score: 0.9147\n"
          ]
        }
      ]
    },
    {
      "cell_type": "markdown",
      "source": [
        "Nuevamente enconmtramos una precision arriba del 90% indicando que es un buen modelo con respecto a la matriz de confusion se observa que\n",
        "\n",
        "**Sin Trastorno**\n",
        "\n",
        "*  32 instancias verdadero positivo\n",
        "\n",
        "*  3 instancias que eran sin trastornos y se clasificaron como apnea\n",
        "\n",
        "* 3 instancias que eran sin trastornos y se clasificaron como apnea\n",
        "\n",
        "**Apnea del Sueño**\n",
        "\n",
        "* 62 instancias verdadero positivo\n",
        "\n",
        "* 2 instancias que eran apnea del sueño y se clasificaron como sin trastorno\n",
        "\n",
        "**Insomnio**\n",
        "* 57 instancias verdadero positivo\n",
        "\n",
        "*  4 instancias que eran insomnio y se clasificaron como apnea del sueño\n",
        "\n",
        "*  2 instancias que eran insomnio y se clasificaron como sin trastorno\n",
        "\n",
        "\n",
        "\n",
        "\n",
        "\n",
        "\n"
      ],
      "metadata": {
        "id": "IT7Z5oVqkEXT"
      }
    },
    {
      "cell_type": "markdown",
      "source": [
        "K Neighbors Classifier\n",
        "*****"
      ],
      "metadata": {
        "id": "OYHFlMpbmFSM"
      }
    },
    {
      "cell_type": "code",
      "source": [
        "from sklearn.neighbors import KNeighborsClassifier\n",
        "\n",
        "# Initialize KNN classifier (example using k=5)\n",
        "knn_clf = KNeighborsClassifier(n_neighbors=5)\n",
        "\n",
        "# Train the model\n",
        "knn_clf.fit(X_train, y_train)\n",
        "\n",
        "# Predictions\n",
        "y_pred = knn_clf.predict(X_test)\n",
        "\n",
        "# Calculate metrics\n",
        "accuracy_knn = accuracy_score(y_test, y_pred)\n",
        "precision_knn = precision_score(y_test, y_pred, average='weighted')\n",
        "recall_knn = recall_score(y_test, y_pred, average='weighted')\n",
        "f1_knn = f1_score(y_test, y_pred, average='weighted')\n",
        "\n",
        "# Classification report\n",
        "print(\"Classification Report K Neighbors Classifier:\")\n",
        "print(classification_report(y_test, y_pred))\n",
        "\n",
        "# Confusion matrix\n",
        "cm = confusion_matrix(y_test, y_pred)\n",
        "plt.figure(figsize=(8, 6))\n",
        "sns.heatmap(cm, annot=True, cmap='Greens', fmt='d', xticklabels=['No Disorder', 'Sleep Apnea', 'Insomnia'], yticklabels=['No Disorder', 'Sleep Apnea', 'Insomnia'])\n",
        "plt.xlabel('Predicted')\n",
        "plt.ylabel('Actual')\n",
        "plt.title('Confusion Matrix - K-Nearest Neighbors')\n",
        "plt.show()\n",
        "\n",
        "# Display metrics\n",
        "print(f\"Accuracy: {accuracy_knn:.4f}\")\n",
        "print(f\"Precision: {precision_knn:.4f}\")\n",
        "print(f\"Recall: {recall_knn:.4f}\")\n",
        "print(f\"F1 Score: {f1_knn:.4f}\")"
      ],
      "metadata": {
        "execution": {
          "iopub.status.busy": "2024-10-29T06:30:34.912003Z",
          "iopub.execute_input": "2024-10-29T06:30:34.912415Z",
          "iopub.status.idle": "2024-10-29T06:30:35.28479Z",
          "shell.execute_reply.started": "2024-10-29T06:30:34.912374Z",
          "shell.execute_reply": "2024-10-29T06:30:35.283502Z"
        },
        "trusted": true,
        "id": "2oe2OLjKnKW-",
        "colab": {
          "base_uri": "https://localhost:8080/",
          "height": 815
        },
        "outputId": "bf7f51ff-1fa4-4bc9-ed1d-112f2806d891"
      },
      "outputs": [
        {
          "output_type": "stream",
          "name": "stdout",
          "text": [
            "Classification Report K Neighbors Classifier:\n",
            "              precision    recall  f1-score   support\n",
            "\n",
            "           0       0.83      0.89      0.86        38\n",
            "           1       0.91      0.91      0.91        64\n",
            "           2       0.97      0.92      0.94        63\n",
            "\n",
            "    accuracy                           0.91       165\n",
            "   macro avg       0.90      0.91      0.90       165\n",
            "weighted avg       0.91      0.91      0.91       165\n",
            "\n"
          ]
        },
        {
          "output_type": "display_data",
          "data": {
            "text/plain": [
              "<Figure size 800x600 with 2 Axes>"
            ],
            "image/png": "[encoded data removed]"
          },
          "metadata": {}
        },
        {
          "output_type": "stream",
          "name": "stdout",
          "text": [
            "Accuracy: 0.9091\n",
            "Precision: 0.9116\n",
            "Recall: 0.9091\n",
            "F1 Score: 0.9098\n"
          ]
        }
      ],
      "execution_count": null
    },
    {
      "cell_type": "markdown",
      "source": [
        "Nuevamente la precision es alta, y en la mayoria de los casos es acertada la clasificacion dada, encontramos que los modelos son utiles y que en la mayoria de las predicciones son acertadas"
      ],
      "metadata": {
        "id": "KVKIcWknu-Z3"
      }
    },
    {
      "cell_type": "markdown",
      "source": [
        "Model comparasion"
      ],
      "metadata": {
        "id": "rjBsWGOXvVp4"
      }
    },
    {
      "cell_type": "code",
      "source": [
        "from sklearn.metrics import roc_curve, auc\n",
        "\n",
        "# Initialize figure\n",
        "fig_roc = plt.figure(figsize=(10, 8))\n",
        "models = ['Gradient Boosting Machine', 'K-Nearest Neighbors', 'Logistic Regression', 'XGBoost']\n",
        "\n",
        "# Plot ROC curve for each model\n",
        "#Iteracion por cada uno de los modelo\n",
        "for idx, model in enumerate([gbm_clf, knn_clf, model_lr, model_xgb]):\n",
        "    if model == knn_clf:\n",
        "        y_scores = model.predict_proba(X_test)\n",
        "        fpr, tpr, _ = roc_curve(y_test, y_scores[:, 1], pos_label=1)\n",
        "    else:\n",
        "        y_scores = model.predict_proba(X_test)[:, 1]\n",
        "        fpr, tpr, _ = roc_curve(y_test, y_scores, pos_label=1)\n",
        "\n",
        "    roc_auc = auc(fpr, tpr) #Calculo de area bajo la curva\n",
        "\n",
        "    # Plot ROC curve\n",
        "    plt.plot(fpr, tpr, lw=2, label=f'{models[idx]} (AUC = {roc_auc:.2f})')\n",
        "\n",
        "# Plot ROC curve for random guessing\n",
        "plt.plot([0, 1], [0, 1], linestyle='--', lw=2, color='r', label='Random Guessing')\n",
        "#Se genera la linea diagonal para ver como se desempeña el clasificador\n",
        "\n",
        "\n",
        "# Set plot labels and title\n",
        "plt.xlabel('False Positive Rate')\n",
        "plt.ylabel('True Positive Rate')\n",
        "plt.title('ROC Curve')\n",
        "plt.legend(loc='lower right')\n",
        "plt.grid()\n",
        "\n",
        "# Show plot\n",
        "plt.show()\n"
      ],
      "metadata": {
        "execution": {
          "iopub.status.busy": "2024-10-29T06:30:35.286353Z",
          "iopub.execute_input": "2024-10-29T06:30:35.286758Z",
          "iopub.status.idle": "2024-10-29T06:30:35.709381Z",
          "shell.execute_reply.started": "2024-10-29T06:30:35.286706Z",
          "shell.execute_reply": "2024-10-29T06:30:35.707777Z"
        },
        "trusted": true,
        "id": "qbCWZQYVnKXB",
        "colab": {
          "base_uri": "https://localhost:8080/",
          "height": 539
        },
        "outputId": "bfd79fc9-02ea-439b-b50e-7260434f6cdb"
      },
      "outputs": [
        {
          "output_type": "display_data",
          "data": {
            "text/plain": [
              "<Figure size 1000x800 with 1 Axes>"
            ],
            "image/png": "[encoded data removed]"
          },
          "metadata": {}
        }
      ],
      "execution_count": null
    },
    {
      "cell_type": "markdown",
      "source": [
        "La grafica ROC es util para visualizar el desempeño de nuestros modelos, en el eje y encontamos los verdaderos positivos que el modelo predijo, y en el eje x encontramos los falsos positivos, valores cercanos a 1 indica que los modelos predicen de manera acertada, visualmente se observa cuando la curva esta mas arriba a la izquierda, en este caso encontramos que los modelos estan arriba del .9 indicando que tienen un buen desempeño y podrian ser utiles para futuros usos"
      ],
      "metadata": {
        "id": "VEnNwHuJmtXZ"
      }
    },
    {
      "cell_type": "markdown",
      "source": [
        "Saving model"
      ],
      "metadata": {
        "id": "jwGkPT1zxG6U"
      }
    },
    {
      "cell_type": "code",
      "source": [
        "#importacion de las libreria correspondiente\n",
        "import pickle\n",
        "with open(\"Model_Prediction.sav\", \"wb\") as f:\n",
        "    pickle.dump(model_xgb,f)\n",
        "\n",
        "#Lo anterior serializa el objeto  y lo guarfa"
      ],
      "metadata": {
        "id": "aEcsXOD0xSXK"
      },
      "execution_count": null,
      "outputs": []
    },
    {
      "cell_type": "code",
      "source": [
        "with open('preprocessor.sav', 'wb') as f:\n",
        "    pickle.dump(preprocessor, f)\n",
        "#Este archivo guardo el preprocesamiento\n",
        "#Esto sera util en caso de que queramos reusar el modelo o el preprocesador,ahorandonos tiempo"
      ],
      "metadata": {
        "id": "JAs_QKnsxVeQ"
      },
      "execution_count": null,
      "outputs": []
    },
    {
      "cell_type": "code",
      "source": [
        "\n",
        "\n",
        "# # Load the saved model\n",
        "# model_xgb = joblib.load('model_xgb.pkl')\n",
        "\n",
        "# # Load label encoders for categorical variables\n",
        "# label_encoder = LabelEncoder()\n",
        "\n",
        "# # Function to handle user input\n",
        "# def get_user_input():\n",
        "#     # Example user input (you can modify this based on your actual input method)\n",
        "#     user_data = {}\n",
        "\n",
        "#     # Accepting user input dynamically\n",
        "#     print(\"Please enter the following information:\")\n",
        "\n",
        "#     user_data['Gender'] = input(\"Gender (Male/Female): \").strip()\n",
        "#     user_data['Age'] = int(input(\"Age: \").strip())\n",
        "#     user_data['Occupation'] = input(\"Occupation: \").strip()\n",
        "#     user_data['Sleep Duration'] = int(input(\"Sleep Duration (hours): \").strip())\n",
        "#     user_data['Quality of Sleep'] = int(input(\"Quality of Sleep (1-10): \").strip())\n",
        "#     user_data['Physical Activity Level'] = int(input(\"Physical Activity Level (minutes): \").strip())\n",
        "#     user_data['Stress Level'] = int(input(\"Stress Level (1-10): \").strip())\n",
        "#     user_data['BMI Category'] = input(\"BMI Category: \").strip()\n",
        "#     user_data['Blood Pressure'] = input(\"Blood Pressure (Systolic/Diastolic): \").strip()\n",
        "#     user_data['Heart Rate'] = int(input(\"Heart Rate (bpm): \").strip())\n",
        "#     user_data['Daily Steps'] = int(input(\"Daily Steps: \").strip())\n",
        "\n",
        "#     # Convert user input to DataFrame for consistency\n",
        "#     user_df = pd.DataFrame([user_data])\n",
        "\n",
        "#     # Apply label encoding to categorical columns\n",
        "#     cat_cols=['Gender','Occupation','BMI Category']\n",
        "#     for col in cat_cols:\n",
        "#         user_df[col] = label_encoder.fit_transform(user_df[col])\n",
        "\n",
        "#     # Split the 'Blood Pressure' column into two columns\n",
        "#     user_df[['Systolic BP', 'Diastolic BP']] = user_df['Blood Pressure'].str.split('/', expand=True)\n",
        "\n",
        "#     # Convert the new columns to numeric type\n",
        "#     user_df[['Systolic BP', 'Diastolic BP']] = user_df[['Systolic BP', 'Diastolic BP']].apply(pd.to_numeric)\n",
        "\n",
        "#     # Drop the original 'Blood Pressure' column\n",
        "#     user_df = user_df.drop('Blood Pressure', axis=1)\n",
        "\n",
        "#     return user_df\n",
        "\n",
        "# # Get user input\n",
        "# user_df = get_user_input()\n",
        "\n",
        "# # Predict sleep disorder class\n",
        "# predicted_class = model_xgb.predict(user_df)\n",
        "\n",
        "# # Map numerical prediction back to original classes\n",
        "# sleep_disorder_map = {0: 'No Disorder', 1: 'Sleep Apnea', 2: 'Insomnia'}\n",
        "# predicted_class_label = sleep_disorder_map[predicted_class[0]]\n",
        "\n",
        "# print(f\"Predicted Sleep Disorder: {predicted_class_label}\")\n"
      ],
      "metadata": {
        "execution": {
          "iopub.status.busy": "2024-10-29T06:30:35.738833Z",
          "iopub.execute_input": "2024-10-29T06:30:35.739452Z",
          "iopub.status.idle": "2024-10-29T06:30:35.751245Z",
          "shell.execute_reply.started": "2024-10-29T06:30:35.739366Z",
          "shell.execute_reply": "2024-10-29T06:30:35.749668Z"
        },
        "trusted": true,
        "id": "YR7dH1KFnKXH"
      },
      "outputs": [],
      "execution_count": null
    },
    {
      "cell_type": "markdown",
      "source": [
        "#Mejora o adicion al analisis"
      ],
      "metadata": {
        "id": "xq3Z4ll13H78"
      }
    },
    {
      "cell_type": "markdown",
      "source": [
        "En este caso he decidido implementar RandomForest debido a que es robusto ante el desbalance de clases y considere que podria ser complementario a los modelos\n",
        "\n"
      ],
      "metadata": {
        "id": "sjnBoes6iJgF"
      }
    },
    {
      "cell_type": "code",
      "source": [
        "from sklearn.ensemble import RandomForestClassifier\n",
        "from sklearn.metrics import classification_report, confusion_matrix\n",
        "\n",
        "# Modelo con ajustes para clases desbalanceadas\n",
        "rf_clf = RandomForestClassifier(\n",
        "    n_estimators=200,#aumento de arboles de desicion para brindar mas estabilidad al modelo(pero es mas lento)\n",
        "      class_weight='balanced', #Ajusta los pesos para clases minoritarias\n",
        "    max_depth=10,# profundidad, para evitar sobreajuste\n",
        "    min_samples_leaf=2, #muestras requeridas por hojas\n",
        "    random_state=42)#semilla aleatoria\n",
        "rf_clf.fit(X_train, y_train)\n",
        "\n",
        "# Prediccion\n",
        "y_pred = rf_clf.predict(X_test)\n",
        "\n",
        "# Classification report\n",
        "print(\"Classification Report RandomForestClassifier:\")\n",
        "print(classification_report(y_test, y_pred))\n",
        "\n",
        "# Matriz de confusión\n",
        "cm = confusion_matrix(y_test, y_pred)\n",
        "sns.heatmap(cm, annot=True, fmt='d',\n",
        "            xticklabels=['No Disorder', 'Insomnia', 'Sleep Apnea'],\n",
        "            yticklabels=['No Disorder', 'Insomnia', 'Sleep Apnea'])\n",
        "plt.show()"
      ],
      "metadata": {
        "colab": {
          "base_uri": "https://localhost:8080/",
          "height": 621
        },
        "id": "pOXFIhM5w_3f",
        "outputId": "0b306cd1-46d3-4ac6-83f7-a18dc628f5c7"
      },
      "execution_count": null,
      "outputs": [
        {
          "output_type": "stream",
          "name": "stdout",
          "text": [
            "Classification Report RandomForestClassifier:\n",
            "              precision    recall  f1-score   support\n",
            "\n",
            "           0       0.94      0.84      0.89        38\n",
            "           1       0.89      0.97      0.93        64\n",
            "           2       0.95      0.92      0.94        63\n",
            "\n",
            "    accuracy                           0.92       165\n",
            "   macro avg       0.93      0.91      0.92       165\n",
            "weighted avg       0.92      0.92      0.92       165\n",
            "\n"
          ]
        },
        {
          "output_type": "display_data",
          "data": {
            "text/plain": [
              "<Figure size 640x480 with 2 Axes>"
            ],
            "image/png": "[encoded data removed]"
          },
          "metadata": {}
        }
      ]
    },
    {
      "cell_type": "markdown",
      "source": [
        "En general encontramos una precision arriba del 90% indicando que es un buen modelo,con respecto a la matriz de confusion encontramos que:\n",
        "\n",
        "**Sin Trastorno**\n",
        "\n",
        "*  32 instancias verdadero positivo\n",
        "*  3 instancias que eran sin trastornos y se clasificaron como insomnio\n",
        "*  3 instancias que eran sin trastornos y se clasificaron como apnea del sueño\n",
        "\n",
        "**Insomnio**\n",
        "\n",
        "*  62 instancias verdadero positivo\n",
        "*  2 instancias que eran insomnio y se clasificaron como sin trastorno\n",
        "\n",
        "**Apnea del Sueño**\n",
        "\n",
        "*  58 instancias verdadero positivo\n",
        "*  5 instancias que eran apnea del sueño y se clasificaron como insomnio\n",
        "\n"
      ],
      "metadata": {
        "id": "s2Ki9ChSrkKK"
      }
    },
    {
      "cell_type": "markdown",
      "source": [
        "#Comparacion de modelos"
      ],
      "metadata": {
        "id": "0i58Ap7zu0yz"
      }
    },
    {
      "cell_type": "code",
      "source": [
        "from sklearn.metrics import roc_curve, auc\n",
        "import matplotlib.pyplot as plt\n",
        "\n",
        "# Initialize figure\n",
        "fig_roc = plt.figure(figsize=(10, 8))\n",
        "models = ['Gradient Boosting Machine', 'K-Nearest Neighbors',\n",
        "          'Logistic Regression', 'XGBoost', 'Random Forest']\n",
        "classifiers = [gbm_clf, knn_clf, model_lr, model_xgb, rf_clf]  # Añadido RandomForest\n",
        "\n",
        "# Plot ROC curve for each model\n",
        "for idx, (model, clf) in enumerate(zip(models, classifiers)):\n",
        "    if model == 'K-Nearest Neighbors':  # Caso especial para KNN\n",
        "        y_scores = clf.predict_proba(X_test)\n",
        "        fpr, tpr, _ = roc_curve(y_test, y_scores[:, 1], pos_label=1)\n",
        "    else:\n",
        "        y_scores = clf.predict_proba(X_test)[:, 1]  # Todas las otras clases\n",
        "        fpr, tpr, _ = roc_curve(y_test, y_scores, pos_label=1)\n",
        "\n",
        "    roc_auc = auc(fpr, tpr)\n",
        "    plt.plot(fpr, tpr, lw=2, label=f'{model} (AUC = {roc_auc:.2f})')\n",
        "\n",
        "# Add random guessing line\n",
        "plt.plot([0, 1], [0, 1], linestyle='--', lw=2, color='r', label='Random Guessing')\n",
        "\n",
        "# Formatting\n",
        "plt.xlabel('False Positive Rate')\n",
        "plt.ylabel('True Positive Rate')\n",
        "plt.title('ROC Curve Comparison')\n",
        "plt.legend(loc='lower right')\n",
        "plt.grid()\n",
        "plt.show()"
      ],
      "metadata": {
        "colab": {
          "base_uri": "https://localhost:8080/",
          "height": 539
        },
        "id": "b28NSnNpjaR6",
        "outputId": "522c45fc-310b-4053-8636-b128f2ff61e8"
      },
      "execution_count": null,
      "outputs": [
        {
          "output_type": "display_data",
          "data": {
            "text/plain": [
              "<Figure size 1000x800 with 1 Axes>"
            ],
            "image/png": "[encoded data removed]"
          },
          "metadata": {}
        }
      ]
    },
    {
      "cell_type": "markdown",
      "source": [
        "Hemos utilizado un total de 5 modelos, iniciaremos hablando de **Gradient Boosting Machine(GBM)** este modelo genera arboles en secuencia, con la finalidad de corregir el  arbol anterior, por tanto es muy util,cuenta con una presicion de .92 y F1 score ponderado de .91 y un AUC de .95 este modelo es muy util con respecto a la interpretabilidad y el rendimiento\n",
        "\n",
        "Tenemos tambien a **Logistic Regression** es un modelo que se usa para calcular la probabilidad de que una instancia pertenezca a una clase,al ser un modelo bastante sencillo es facil de interpretar sin embargo es sensible a outliers, tiene una presicion de .91 y una F1 score ponderado de .91, con un AUC de.94, es muy util si ocupamos modelos simples y con datos lineales separables\n",
        "\n",
        "Con respecto a **XGBoost Classifier** este algoritmo construye es una version mas optimizada,y que trabaja con mas presicion que GBM ademas qde utilizar tecnicas para evitar el sobreajuste y manejar datos faltantes,cuenta con una presicion de .92 (mayor que LR),F1 score ponderado de .92 y un AUC de .95\n",
        "\n",
        "En relacion a **Random Forest Classifier** este es algoritmo que implemente, este funciona creando multiples arboles de desicion a partir de datos aleatorios de los datos y caracteristicas, toma en cuenta los votos mayoritarios de los arboles para tomar la desicion, este tipo es resistente al sobreajuste a la robustez, tiene una precision y F1 score de .92, y un AUC de .95\n",
        "\n",
        "Y por ultimo tenemos a **K-vecinos**,clasifica en base a los vecinos mas cercanos, es un diseño sencillo de entender e interpretar sin embargo su rendimiento es limitado en caso de presentar alta dimensionalidad,cuenta con una precision y F1-score de .91 y un AUC de .96\n",
        "\n",
        "En terminos generales son modelos bastante buenos y que tiene mayor cantidad de verdaderos positivos que cualquier tipo de falso por lo que en base a lo que se requiera puede ser mas util un modelo que otro\n"
      ],
      "metadata": {
        "id": "DBBJ9tHux3wf"
      }
    },
    {
      "cell_type": "markdown",
      "source": [
        "#Analisis Descriptivo y Conclusiones"
      ],
      "metadata": {
        "id": "tliq_VjOQQtK"
      }
    },
    {
      "cell_type": "markdown",
      "source": [
        "ANALISIS DESCRIPTIVO"
      ],
      "metadata": {
        "id": "0Em9KuIhfTvk"
      }
    },
    {
      "cell_type": "markdown",
      "source": [
        "Para nuestras **variables numericas** mas importantes encontramos que la **age** promedio es fue de 42 años, con una desviacion estandar de 8.67, lo que nos dice que la mayoria de las personas tienen entre 34 y 50 años, se encontro  una correlacion moderada positiva con la presión arterial (sistólica: 0.61, diastólica: 0.59), para la **sleep duration** tuvo de 7.13 horas, con una desviación estándar de 0.79, sin embargo se encontro un minimo de 5.8,está correlacionada negativamente con el ritmo cardíaco, para **daily steps**  encontramos un promedio de 6816, que tuvo una correlacion positiva con nivel de actividad fisica.\n",
        "\n"
      ],
      "metadata": {
        "id": "M8Uae8DwXzkU"
      }
    },
    {
      "cell_type": "markdown",
      "source": [
        "Para las **variables categoricas** en **occupation** encontramos que los enfermeros, profesores y vendedores tienden a ser mas propensos a los trastornos del sueño,en **quality of sleep** hay promedio de 7.31,se observa que a mayor nivel de estres, menor calidad del sueño.Ademas, las personas con insomnio tienden a tener una calidad de sueño más baja,para **stress level** encontramos un promedio de 5.38 que puede considerarse bastante alto p para ser el promedio en esta poblacion, en **gender**  se observa que la calidad del sueño varía entre géneros, con mayor variabilidad en las mujeres.\n",
        "\n",
        "\n",
        "En **physical activity level** tuvo un promedio de 59.17, con una correlacion positiva con los pasos diarios (0.77), por ultimo para **BMI** se encontro relacion entre la obesidad y los trastornos del sueño, como insomnio y apnea del sueño."
      ],
      "metadata": {
        "id": "7vQBEPKibale"
      }
    },
    {
      "cell_type": "markdown",
      "source": [
        "HALLAZGOS CLAVES\n",
        "\n",
        "*  Las personas con obesidad o sobrepeso tienen mayor probabilidad de sufrir insomnio o apnea del sueño.\n",
        "\n",
        "*  Los niveles altos de estrés están asociados con una menor calidad del sueño, lo que es coherente con la literatura neurocientífica sobre el cortisol (y por tanto niveles de estres)\n",
        "\n",
        "*  Las mujeres muestran mayor variabilidad en la calidad del sueño en comparación con los hombres\n",
        "\n",
        "*  Los modelos mostraron un rendimiento confiable para poder predicir los trastornos del sueño k- vecinos resalto notablemente por su AUC de .96 aunque tuvo una precision inferior a otros modelos\n"
      ],
      "metadata": {
        "id": "sNpkQSE1fZAm"
      }
    },
    {
      "cell_type": "markdown",
      "source": [
        "LIMITACIONES\n",
        "*  Existencia de desbalances de clases en el df original\n",
        "*  El tamaño del dataset fue bastante pequeño con 374 muestras, lo que puede ser no tan representativo a ni generalizable, y en especifico a la poblacion de mexico puede existir grandes diferencias\n",
        "* Falta de un analisis descriptivo mas profundo\n",
        "*  Implementacion de mas factores ya que al exponerse a nuevos datos puede que los modelos no sean tan precisos"
      ],
      "metadata": {
        "id": "0-47pyIGgsJ1"
      }
    },
    {
      "cell_type": "markdown",
      "source": [
        "FUTURAS INVESTIGACIONES\n",
        "* Investigar como se relaciona el estres,las ocupaciones, calidad del sueño en los trastornos del sueño\n",
        "*Incluir mayor muestras de ocupaciones\n"
      ],
      "metadata": {
        "id": "rOaoe5q4edMm"
      }
    }
  ]
}