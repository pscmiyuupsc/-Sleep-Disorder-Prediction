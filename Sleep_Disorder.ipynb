{
  "metadata": {
    "kernelspec": {
      "language": "python",
      "display_name": "Python 3",
      "name": "python3"
    },
    "language_info": {
      "name": "python",
      "version": "3.10.14",
      "mimetype": "text/x-python",
      "codemirror_mode": {
        "name": "ipython",
        "version": 3
      },
      "pygments_lexer": "ipython3",
      "nbconvert_exporter": "python",
      "file_extension": ".py"
    },
    "kaggle": {
      "accelerator": "none",
      "dataSources": [
        {
          "sourceId": 6491929,
          "sourceType": "datasetVersion",
          "datasetId": 3321433
        }
      ],
      "dockerImageVersionId": 30786,
      "isInternetEnabled": true,
      "language": "python",
      "sourceType": "notebook",
      "isGpuEnabled": false
    },
    "colab": {
      "name": "Sleep Disorder",
      "provenance": [],
      "include_colab_link": true
    }
  },
  "nbformat_minor": 0,
  "nbformat": 4,
  "cells": [
    {
      "cell_type": "markdown",
      "metadata": {
        "id": "view-in-github",
        "colab_type": "text"
      },
      "source": [
        "<a href=\"https://colab.research.google.com/github/pscmiyuupsc/-Sleep-Disorder-Prediction/blob/main/Sleep_Disorder.ipynb\" target=\"_parent\"><img src=\"https://colab.research.google.com/assets/colab-badge.svg\" alt=\"Open In Colab\"/></a>"
      ]
    },
    {
      "source": [
        "# IMPORTANT: RUN THIS CELL IN ORDER TO IMPORT YOUR KAGGLE DATA SOURCES,\n",
        "# THEN FEEL FREE TO DELETE THIS CELL.\n",
        "# NOTE: THIS NOTEBOOK ENVIRONMENT DIFFERS FROM KAGGLE'S PYTHON\n",
        "# ENVIRONMENT SO THERE MAY BE MISSING LIBRARIES USED BY YOUR\n",
        "# NOTEBOOK.\n",
        "import kagglehub\n",
        "uom190346a_sleep_health_and_lifestyle_dataset_path = kagglehub.dataset_download('uom190346a/sleep-health-and-lifestyle-dataset')\n",
        "\n",
        "print('Data source import complete.')\n"
      ],
      "metadata": {
        "id": "i8QbpaSRnKU7"
      },
      "cell_type": "code",
      "outputs": [],
      "execution_count": null
    },
    {
      "cell_type": "code",
      "source": [
        "# This Python 3 environment comes with many helpful analytics libraries installed\n",
        "# It is defined by the kaggle/python Docker image: https://github.com/kaggle/docker-python\n",
        "# For example, here's several helpful packages to load\n",
        "\n",
        "import numpy as np # linear algebra\n",
        "import pandas as pd # data processing, CSV file I/O (e.g. pd.read_csv)\n",
        "\n",
        "# Input data files are available in the read-only \"../input/\" directory\n",
        "# For example, running this (by clicking run or pressing Shift+Enter) will list all files under the input directory\n",
        "\n",
        "import os\n",
        "for dirname, _, filenames in os.walk('/kaggle/input'):\n",
        "    for filename in filenames:\n",
        "        print(os.path.join(dirname, filename))\n",
        "\n",
        "# You can write up to 20GB to the current directory (/kaggle/working/) that gets preserved as output when you create a version using \"Save & Run All\"\n",
        "# You can also write temporary files to /kaggle/temp/, but they won't be saved outside of the current session"
      ],
      "metadata": {
        "_uuid": "8f2839f25d086af736a60e9eeb907d3b93b6e0e5",
        "_cell_guid": "b1076dfc-b9ad-4769-8c92-a6c4dae69d19",
        "execution": {
          "iopub.status.busy": "2024-10-29T06:30:22.153979Z",
          "iopub.execute_input": "2024-10-29T06:30:22.154751Z",
          "iopub.status.idle": "2024-10-29T06:30:23.638717Z",
          "shell.execute_reply.started": "2024-10-29T06:30:22.1547Z",
          "shell.execute_reply": "2024-10-29T06:30:23.637387Z"
        },
        "trusted": true,
        "id": "6w3_VLdgnKVS"
      },
      "outputs": [],
      "execution_count": null
    },
    {
      "cell_type": "markdown",
      "source": [
        "# Importing Libraries"
      ],
      "metadata": {
        "id": "7ps03NnonKVW"
      }
    },
    {
      "cell_type": "code",
      "source": [
        "import matplotlib.pyplot as plt\n",
        "import seaborn as sns\n",
        "import plotly.express as px\n",
        "import warnings\n",
        "warnings.filterwarnings('ignore')"
      ],
      "metadata": {
        "execution": {
          "iopub.status.busy": "2024-10-29T06:30:23.641032Z",
          "iopub.execute_input": "2024-10-29T06:30:23.641595Z",
          "iopub.status.idle": "2024-10-29T06:30:26.367519Z",
          "shell.execute_reply.started": "2024-10-29T06:30:23.64155Z",
          "shell.execute_reply": "2024-10-29T06:30:26.366066Z"
        },
        "trusted": true,
        "id": "zV8-w4WanKVe"
      },
      "outputs": [],
      "execution_count": null
    },
    {
      "cell_type": "code",
      "source": [
        "from sklearn.preprocessing import OneHotEncoder,LabelEncoder ,RobustScaler,StandardScaler\n",
        "from sklearn.compose import ColumnTransformer\n",
        "from sklearn.pipeline import Pipeline\n",
        "from sklearn.model_selection import train_test_split,StratifiedShuffleSplit,StratifiedKFold,cross_val_score\n",
        "from imblearn.over_sampling import SMOTE\n",
        "from sklearn.model_selection import train_test_split\n",
        "from sklearn.metrics import accuracy_score, precision_score, recall_score, f1_score, classification_report, confusion_matrix\n",
        "from sklearn.linear_model import LogisticRegression\n",
        "import xgboost as xgb\n"
      ],
      "metadata": {
        "execution": {
          "iopub.status.busy": "2024-10-29T06:30:26.369134Z",
          "iopub.execute_input": "2024-10-29T06:30:26.370016Z",
          "iopub.status.idle": "2024-10-29T06:30:27.422469Z",
          "shell.execute_reply.started": "2024-10-29T06:30:26.369969Z",
          "shell.execute_reply": "2024-10-29T06:30:27.421166Z"
        },
        "trusted": true,
        "id": "VQ1Zgi5JnKVi"
      },
      "outputs": [],
      "execution_count": null
    },
    {
      "cell_type": "markdown",
      "source": [
        "# Reading CSV data"
      ],
      "metadata": {
        "id": "okBxJzYpnKVk"
      }
    },
    {
      "cell_type": "code",
      "source": [
        "df = pd.read_csv('/kaggle/input/sleep-health-and-lifestyle-dataset/Sleep_health_and_lifestyle_dataset.csv')"
      ],
      "metadata": {
        "execution": {
          "iopub.status.busy": "2024-10-29T06:30:27.424994Z",
          "iopub.execute_input": "2024-10-29T06:30:27.425646Z",
          "iopub.status.idle": "2024-10-29T06:30:27.448449Z",
          "shell.execute_reply.started": "2024-10-29T06:30:27.425602Z",
          "shell.execute_reply": "2024-10-29T06:30:27.446894Z"
        },
        "trusted": true,
        "id": "P7yWw4pbnKVl"
      },
      "outputs": [],
      "execution_count": null
    },
    {
      "cell_type": "markdown",
      "source": [
        "# EDA"
      ],
      "metadata": {
        "id": "PYxZqH5OnKVo"
      }
    },
    {
      "cell_type": "code",
      "source": [
        "df.head(5)"
      ],
      "metadata": {
        "execution": {
          "iopub.status.busy": "2024-10-29T06:30:27.450008Z",
          "iopub.execute_input": "2024-10-29T06:30:27.450464Z",
          "iopub.status.idle": "2024-10-29T06:30:27.483787Z",
          "shell.execute_reply.started": "2024-10-29T06:30:27.450422Z",
          "shell.execute_reply": "2024-10-29T06:30:27.482394Z"
        },
        "trusted": true,
        "id": "fi5wT3vknKVr"
      },
      "outputs": [],
      "execution_count": null
    },
    {
      "cell_type": "code",
      "source": [
        "df.shape"
      ],
      "metadata": {
        "execution": {
          "iopub.status.busy": "2024-10-29T06:30:27.485486Z",
          "iopub.execute_input": "2024-10-29T06:30:27.485873Z",
          "iopub.status.idle": "2024-10-29T06:30:27.494152Z",
          "shell.execute_reply.started": "2024-10-29T06:30:27.485837Z",
          "shell.execute_reply": "2024-10-29T06:30:27.492803Z"
        },
        "trusted": true,
        "id": "iA7MNOfdnKVt"
      },
      "outputs": [],
      "execution_count": null
    },
    {
      "cell_type": "code",
      "source": [
        "df.dtypes"
      ],
      "metadata": {
        "execution": {
          "iopub.status.busy": "2024-10-29T06:30:27.495724Z",
          "iopub.execute_input": "2024-10-29T06:30:27.49661Z",
          "iopub.status.idle": "2024-10-29T06:30:27.511742Z",
          "shell.execute_reply.started": "2024-10-29T06:30:27.496555Z",
          "shell.execute_reply": "2024-10-29T06:30:27.510381Z"
        },
        "trusted": true,
        "id": "bNZtxpDBnKVw"
      },
      "outputs": [],
      "execution_count": null
    },
    {
      "cell_type": "code",
      "source": [
        "df.describe()"
      ],
      "metadata": {
        "execution": {
          "iopub.status.busy": "2024-10-29T06:30:27.513084Z",
          "iopub.execute_input": "2024-10-29T06:30:27.513511Z",
          "iopub.status.idle": "2024-10-29T06:30:27.56626Z",
          "shell.execute_reply.started": "2024-10-29T06:30:27.51346Z",
          "shell.execute_reply": "2024-10-29T06:30:27.565032Z"
        },
        "trusted": true,
        "id": "ZuI29WbXnKVy"
      },
      "outputs": [],
      "execution_count": null
    },
    {
      "cell_type": "code",
      "source": [
        "columns = [column for column in df.columns if column!='Person ID']"
      ],
      "metadata": {
        "execution": {
          "iopub.status.busy": "2024-10-29T06:30:27.567578Z",
          "iopub.execute_input": "2024-10-29T06:30:27.567943Z",
          "iopub.status.idle": "2024-10-29T06:30:27.573894Z",
          "shell.execute_reply.started": "2024-10-29T06:30:27.567892Z",
          "shell.execute_reply": "2024-10-29T06:30:27.57233Z"
        },
        "trusted": true,
        "id": "CDkus6-1nKV0"
      },
      "outputs": [],
      "execution_count": null
    },
    {
      "cell_type": "code",
      "source": [
        "for column in columns:\n",
        "    unique_values = df[column].unique()\n",
        "    print(f\"Unique values in '{column}': {unique_values}\")"
      ],
      "metadata": {
        "execution": {
          "iopub.status.busy": "2024-10-29T06:30:27.578922Z",
          "iopub.execute_input": "2024-10-29T06:30:27.579354Z",
          "iopub.status.idle": "2024-10-29T06:30:27.596987Z",
          "shell.execute_reply.started": "2024-10-29T06:30:27.579315Z",
          "shell.execute_reply": "2024-10-29T06:30:27.59554Z"
        },
        "trusted": true,
        "id": "pH7haa9ynKV1"
      },
      "outputs": [],
      "execution_count": null
    },
    {
      "cell_type": "code",
      "source": [
        "# Replace NaN in 'Sleep Disorder' with 'No Disorder'\n",
        "df['Sleep Disorder'].fillna('No Disorder', inplace=True)\n"
      ],
      "metadata": {
        "execution": {
          "iopub.status.busy": "2024-10-29T06:30:27.598506Z",
          "iopub.execute_input": "2024-10-29T06:30:27.599045Z",
          "iopub.status.idle": "2024-10-29T06:30:27.607333Z",
          "shell.execute_reply.started": "2024-10-29T06:30:27.598922Z",
          "shell.execute_reply": "2024-10-29T06:30:27.605803Z"
        },
        "trusted": true,
        "id": "ZFi30a8GnKV3"
      },
      "outputs": [],
      "execution_count": null
    },
    {
      "cell_type": "code",
      "source": [
        "# Value counts of 'Sleep Disorder'\n",
        "sleep_disorder_counts = df['Sleep Disorder'].value_counts()\n",
        "\n",
        "print(\"Value counts of 'Sleep Disorder':\")\n",
        "print(sleep_disorder_counts)"
      ],
      "metadata": {
        "execution": {
          "iopub.status.busy": "2024-10-29T06:30:27.608861Z",
          "iopub.execute_input": "2024-10-29T06:30:27.609314Z",
          "iopub.status.idle": "2024-10-29T06:30:27.627342Z",
          "shell.execute_reply.started": "2024-10-29T06:30:27.60925Z",
          "shell.execute_reply": "2024-10-29T06:30:27.626065Z"
        },
        "trusted": true,
        "id": "d6nDYDBjnKV4"
      },
      "outputs": [],
      "execution_count": null
    },
    {
      "cell_type": "code",
      "source": [
        "df['BMI Category']=df['BMI Category'].replace({'Normal':'Normal Weight'})\n",
        "df['BMI Category'].value_counts()"
      ],
      "metadata": {
        "execution": {
          "iopub.status.busy": "2024-10-29T06:30:27.628877Z",
          "iopub.execute_input": "2024-10-29T06:30:27.629304Z",
          "iopub.status.idle": "2024-10-29T06:30:27.747731Z",
          "shell.execute_reply.started": "2024-10-29T06:30:27.629239Z",
          "shell.execute_reply": "2024-10-29T06:30:27.746383Z"
        },
        "trusted": true,
        "id": "PmDzfUERnKV5"
      },
      "outputs": [],
      "execution_count": null
    },
    {
      "cell_type": "code",
      "source": [
        "# bmi_counts = df['BMI Category'].value_counts()\n",
        "fig = px.histogram(data_frame=df, x = 'BMI Category', color = 'Sleep Disorder', title='Bar Chart of BMI Category Counts')\n",
        "fig.show()\n"
      ],
      "metadata": {
        "execution": {
          "iopub.status.busy": "2024-10-29T06:30:27.749109Z",
          "iopub.execute_input": "2024-10-29T06:30:27.749556Z",
          "iopub.status.idle": "2024-10-29T06:30:30.099933Z",
          "shell.execute_reply.started": "2024-10-29T06:30:27.749515Z",
          "shell.execute_reply": "2024-10-29T06:30:30.098578Z"
        },
        "trusted": true,
        "id": "T48VSsXinKV6"
      },
      "outputs": [],
      "execution_count": null
    },
    {
      "cell_type": "markdown",
      "source": [
        "- Obese suffer from Insomnia and Sleep Apnea\n",
        "- Very few overweighted people have no sleep disorder\n",
        "- Very few people of normal weight face sleep disorder"
      ],
      "metadata": {
        "id": "WyhDWt1pnKV7"
      }
    },
    {
      "cell_type": "code",
      "source": [
        "fig = px.histogram(data_frame=df, x = 'Quality of Sleep', color = 'Sleep Disorder', title='Bar Chart of BMI Category Counts')\n",
        "fig.show()"
      ],
      "metadata": {
        "execution": {
          "iopub.status.busy": "2024-10-29T06:30:30.10174Z",
          "iopub.execute_input": "2024-10-29T06:30:30.102247Z",
          "iopub.status.idle": "2024-10-29T06:30:30.186287Z",
          "shell.execute_reply.started": "2024-10-29T06:30:30.102192Z",
          "shell.execute_reply": "2024-10-29T06:30:30.184772Z"
        },
        "trusted": true,
        "id": "9eggGFoynKV9"
      },
      "outputs": [],
      "execution_count": null
    },
    {
      "cell_type": "code",
      "source": [
        "fig = px.histogram(data_frame=df, x = 'Occupation', color = 'Sleep Disorder', title='Bar Chart of BMI Category Counts')\n",
        "fig.show()"
      ],
      "metadata": {
        "execution": {
          "iopub.status.busy": "2024-10-29T06:30:30.188023Z",
          "iopub.execute_input": "2024-10-29T06:30:30.188542Z",
          "iopub.status.idle": "2024-10-29T06:30:30.273057Z",
          "shell.execute_reply.started": "2024-10-29T06:30:30.18849Z",
          "shell.execute_reply": "2024-10-29T06:30:30.271608Z"
        },
        "trusted": true,
        "id": "iNjcn7wInKV-"
      },
      "outputs": [],
      "execution_count": null
    },
    {
      "cell_type": "markdown",
      "source": [
        "Occupation of Nurse,Teacher, Sales person and sales representative are prone to sleep disorder"
      ],
      "metadata": {
        "id": "1pzciKF8nKV_"
      }
    },
    {
      "cell_type": "code",
      "source": [
        "color_palette = {'Male': 'lightblue', 'Female': 'lightcoral'}\n",
        "plt.figure(figsize=(10, 6))\n",
        "sns.violinplot(x='Gender', y='Quality of Sleep', data=df, palette=color_palette)\n",
        "plt.title('Distribution of Quality of Sleep by Gender', fontsize=16)\n",
        "plt.xlabel('Gender', fontsize=12)\n",
        "plt.ylabel('Quality of Sleep', fontsize=12)\n",
        "plt.show()"
      ],
      "metadata": {
        "execution": {
          "iopub.status.busy": "2024-10-29T06:30:30.275176Z",
          "iopub.execute_input": "2024-10-29T06:30:30.275906Z",
          "iopub.status.idle": "2024-10-29T06:30:30.726842Z",
          "shell.execute_reply.started": "2024-10-29T06:30:30.275846Z",
          "shell.execute_reply": "2024-10-29T06:30:30.725553Z"
        },
        "trusted": true,
        "id": "qzFH7MelnKWA"
      },
      "outputs": [],
      "execution_count": null
    },
    {
      "cell_type": "code",
      "source": [
        "fig = px.bar(df,\n",
        "             x='Stress Level',\n",
        "             y='Quality of Sleep',\n",
        "             color='Stress Level',\n",
        "             title='Relationship between Stress Level and Quality of Sleep'\n",
        "            )\n",
        "fig.show()"
      ],
      "metadata": {
        "execution": {
          "iopub.status.busy": "2024-10-29T06:30:30.728498Z",
          "iopub.execute_input": "2024-10-29T06:30:30.728999Z",
          "iopub.status.idle": "2024-10-29T06:30:30.850098Z",
          "shell.execute_reply.started": "2024-10-29T06:30:30.728945Z",
          "shell.execute_reply": "2024-10-29T06:30:30.848241Z"
        },
        "trusted": true,
        "id": "S9AX4xR3nKWB"
      },
      "outputs": [],
      "execution_count": null
    },
    {
      "cell_type": "markdown",
      "source": [
        "**Splitting Blood Pressure into two columns: Systolic and Diastolic**"
      ],
      "metadata": {
        "id": "IhmXQIatnKWC"
      }
    },
    {
      "cell_type": "code",
      "source": [
        "df = pd.concat([df, df['Blood Pressure'].str.split('/', expand=True)], axis=1).drop('Blood Pressure', axis=1)\n",
        "df = df.rename(columns={0: 'Systolic', 1: 'Diastolic'})"
      ],
      "metadata": {
        "execution": {
          "iopub.status.busy": "2024-10-29T06:30:30.851792Z",
          "iopub.execute_input": "2024-10-29T06:30:30.852256Z",
          "iopub.status.idle": "2024-10-29T06:30:30.868476Z",
          "shell.execute_reply.started": "2024-10-29T06:30:30.852205Z",
          "shell.execute_reply": "2024-10-29T06:30:30.866797Z"
        },
        "trusted": true,
        "id": "I3oP0FdVnKWD"
      },
      "outputs": [],
      "execution_count": null
    },
    {
      "cell_type": "code",
      "source": [
        "df['Systolic'] = df['Systolic'].astype(float)\n",
        "df['Diastolic'] = df['Diastolic'].astype(float)"
      ],
      "metadata": {
        "execution": {
          "iopub.status.busy": "2024-10-29T06:30:30.870044Z",
          "iopub.execute_input": "2024-10-29T06:30:30.870554Z",
          "iopub.status.idle": "2024-10-29T06:30:30.882187Z",
          "shell.execute_reply.started": "2024-10-29T06:30:30.87051Z",
          "shell.execute_reply": "2024-10-29T06:30:30.880874Z"
        },
        "trusted": true,
        "id": "49qHpHW_nKWE"
      },
      "outputs": [],
      "execution_count": null
    },
    {
      "cell_type": "code",
      "source": [
        "numeric_features = ['Age', 'Sleep Duration',\n",
        "                    'Physical Activity Level',\n",
        "                    'Heart Rate', 'Daily Steps', 'Systolic', 'Diastolic']"
      ],
      "metadata": {
        "execution": {
          "iopub.status.busy": "2024-10-29T06:30:30.883987Z",
          "iopub.execute_input": "2024-10-29T06:30:30.88455Z",
          "iopub.status.idle": "2024-10-29T06:30:30.898669Z",
          "shell.execute_reply.started": "2024-10-29T06:30:30.884488Z",
          "shell.execute_reply": "2024-10-29T06:30:30.896822Z"
        },
        "trusted": true,
        "id": "2mnR9W5CnKWF"
      },
      "outputs": [],
      "execution_count": null
    },
    {
      "cell_type": "code",
      "source": [
        "# Calculate the correlation matrix\n",
        "corr_matrix = df[numeric_features].corr()\n",
        "\n",
        "# Set up the matplotlib figure\n",
        "plt.figure(figsize=(12, 8))\n",
        "\n",
        "# Draw the heatmap without the mask\n",
        "sns.heatmap(corr_matrix, annot=True, cmap='coolwarm', fmt=\".2f\", vmin=-1, vmax=1, square=True)\n",
        "\n",
        "# Customize plot labels and title\n",
        "plt.title('Correlation Heatmap of data')\n",
        "plt.xticks(rotation=45)\n",
        "plt.yticks(rotation=0)\n",
        "\n",
        "# Show plot\n",
        "plt.show()\n"
      ],
      "metadata": {
        "execution": {
          "iopub.status.busy": "2024-10-29T06:30:30.900593Z",
          "iopub.execute_input": "2024-10-29T06:30:30.901116Z",
          "iopub.status.idle": "2024-10-29T06:30:31.566986Z",
          "shell.execute_reply.started": "2024-10-29T06:30:30.901063Z",
          "shell.execute_reply": "2024-10-29T06:30:31.56543Z"
        },
        "trusted": true,
        "id": "EX-IzE3pnKWG"
      },
      "outputs": [],
      "execution_count": null
    },
    {
      "cell_type": "code",
      "source": [
        "df.drop(columns=['Person ID'],inplace = True)"
      ],
      "metadata": {
        "execution": {
          "iopub.status.busy": "2024-10-29T06:30:31.569924Z",
          "iopub.execute_input": "2024-10-29T06:30:31.571043Z",
          "iopub.status.idle": "2024-10-29T06:30:31.580809Z",
          "shell.execute_reply.started": "2024-10-29T06:30:31.570977Z",
          "shell.execute_reply": "2024-10-29T06:30:31.578489Z"
        },
        "trusted": true,
        "id": "vfXfWxFtnKWH"
      },
      "outputs": [],
      "execution_count": null
    },
    {
      "cell_type": "code",
      "source": [
        "label_encoder = LabelEncoder()\n",
        "df['Sleep Disorder'] = label_encoder.fit_transform(df['Sleep Disorder'])"
      ],
      "metadata": {
        "execution": {
          "iopub.status.busy": "2024-10-29T06:30:31.582829Z",
          "iopub.execute_input": "2024-10-29T06:30:31.583705Z",
          "iopub.status.idle": "2024-10-29T06:30:31.59281Z",
          "shell.execute_reply.started": "2024-10-29T06:30:31.58365Z",
          "shell.execute_reply": "2024-10-29T06:30:31.591359Z"
        },
        "trusted": true,
        "id": "m3-GROp8nKWI"
      },
      "outputs": [],
      "execution_count": null
    },
    {
      "cell_type": "code",
      "source": [
        "print(label_encoder.classes_)"
      ],
      "metadata": {
        "execution": {
          "iopub.status.busy": "2024-10-29T06:50:06.504853Z",
          "iopub.execute_input": "2024-10-29T06:50:06.507Z",
          "iopub.status.idle": "2024-10-29T06:50:06.514098Z",
          "shell.execute_reply.started": "2024-10-29T06:50:06.506928Z",
          "shell.execute_reply": "2024-10-29T06:50:06.512385Z"
        },
        "trusted": true,
        "id": "6W38vWtCnKWJ"
      },
      "outputs": [],
      "execution_count": null
    },
    {
      "cell_type": "markdown",
      "source": [
        "# Preprocessing"
      ],
      "metadata": {
        "id": "G7Cr5G1anKWL"
      }
    },
    {
      "cell_type": "code",
      "source": [
        "numeric_features = ['Age', 'Sleep Duration',\n",
        "                    'Heart Rate', 'Daily Steps', 'Systolic', 'Diastolic']\n",
        "\n",
        "categorical_features = ['Occupation','Quality of Sleep','Gender',\n",
        "                    'Physical Activity Level', 'Stress Level', 'BMI Category']\n"
      ],
      "metadata": {
        "execution": {
          "iopub.status.busy": "2024-10-29T06:30:31.594753Z",
          "iopub.execute_input": "2024-10-29T06:30:31.595707Z",
          "iopub.status.idle": "2024-10-29T06:30:31.607306Z",
          "shell.execute_reply.started": "2024-10-29T06:30:31.595647Z",
          "shell.execute_reply": "2024-10-29T06:30:31.605843Z"
        },
        "trusted": true,
        "id": "c3HU5PXynKWN"
      },
      "outputs": [],
      "execution_count": null
    },
    {
      "cell_type": "code",
      "source": [
        "preprocessor = ColumnTransformer(\n",
        "    transformers=[\n",
        "        ('num', RobustScaler(), numeric_features),\n",
        "        ('cat', OneHotEncoder(drop='first',sparse_output =False, handle_unknown='ignore'), categorical_features)\n",
        "    ])"
      ],
      "metadata": {
        "execution": {
          "iopub.status.busy": "2024-10-29T06:30:31.609555Z",
          "iopub.execute_input": "2024-10-29T06:30:31.610008Z",
          "iopub.status.idle": "2024-10-29T06:30:31.622027Z",
          "shell.execute_reply.started": "2024-10-29T06:30:31.609944Z",
          "shell.execute_reply": "2024-10-29T06:30:31.620517Z"
        },
        "trusted": true,
        "id": "ARnAb-JNnKWO"
      },
      "outputs": [],
      "execution_count": null
    },
    {
      "cell_type": "code",
      "source": [
        "X = df.drop(columns=['Sleep Disorder'])\n",
        "y = df['Sleep Disorder']"
      ],
      "metadata": {
        "execution": {
          "iopub.status.busy": "2024-10-29T06:30:31.623827Z",
          "iopub.execute_input": "2024-10-29T06:30:31.624406Z",
          "iopub.status.idle": "2024-10-29T06:30:31.636602Z",
          "shell.execute_reply.started": "2024-10-29T06:30:31.624364Z",
          "shell.execute_reply": "2024-10-29T06:30:31.63516Z"
        },
        "trusted": true,
        "id": "Bc2j96ixnKWP"
      },
      "outputs": [],
      "execution_count": null
    },
    {
      "cell_type": "code",
      "source": [
        "X_preprocessed = preprocessor.fit_transform(X)"
      ],
      "metadata": {
        "execution": {
          "iopub.status.busy": "2024-10-29T06:30:31.643635Z",
          "iopub.execute_input": "2024-10-29T06:30:31.644955Z",
          "iopub.status.idle": "2024-10-29T06:30:31.668575Z",
          "shell.execute_reply.started": "2024-10-29T06:30:31.644894Z",
          "shell.execute_reply": "2024-10-29T06:30:31.667354Z"
        },
        "trusted": true,
        "id": "Hm2QF0mSnKWQ"
      },
      "outputs": [],
      "execution_count": null
    },
    {
      "cell_type": "markdown",
      "source": [
        "# Handling Imbalance Data - SMOTE"
      ],
      "metadata": {
        "id": "dP502HOgnKWR"
      }
    },
    {
      "cell_type": "code",
      "source": [
        "# Initialize SMOTE\n",
        "smote = SMOTE(random_state=42)\n",
        "\n",
        "# Perform SMOTE oversampling\n",
        "X_smote, y_smote = smote.fit_resample(X_preprocessed, y)\n",
        "X_smote.shape"
      ],
      "metadata": {
        "execution": {
          "iopub.status.busy": "2024-10-29T06:30:31.670611Z",
          "iopub.execute_input": "2024-10-29T06:30:31.671028Z",
          "iopub.status.idle": "2024-10-29T06:30:31.740654Z",
          "shell.execute_reply.started": "2024-10-29T06:30:31.670986Z",
          "shell.execute_reply": "2024-10-29T06:30:31.738634Z"
        },
        "trusted": true,
        "id": "qPM32MqJnKWS"
      },
      "outputs": [],
      "execution_count": null
    },
    {
      "cell_type": "code",
      "source": [
        "# Splitting the data into training and testing sets (e.g., 75% training, 25% testing)\n",
        "X_train, X_test, y_train, y_test = train_test_split(X_smote, y_smote, test_size=0.25, random_state=42)"
      ],
      "metadata": {
        "execution": {
          "iopub.status.busy": "2024-10-29T06:30:31.742448Z",
          "iopub.execute_input": "2024-10-29T06:30:31.742855Z",
          "iopub.status.idle": "2024-10-29T06:30:31.750907Z",
          "shell.execute_reply.started": "2024-10-29T06:30:31.742816Z",
          "shell.execute_reply": "2024-10-29T06:30:31.749465Z"
        },
        "trusted": true,
        "id": "4Z4qJIqnnKWu"
      },
      "outputs": [],
      "execution_count": null
    },
    {
      "cell_type": "markdown",
      "source": [
        "# Model Training"
      ],
      "metadata": {
        "id": "KJOZo0sWnKWw"
      }
    },
    {
      "cell_type": "markdown",
      "source": [
        "> Logistic Regression"
      ],
      "metadata": {
        "id": "BA7sLqhOnKWx"
      }
    },
    {
      "cell_type": "code",
      "source": [
        "\n",
        "# Initialize Logistic Regression classifier\n",
        "model_lr = LogisticRegression()\n",
        "\n",
        "# Fit the model on the training data\n",
        "model_lr.fit(X_train, y_train)\n",
        "\n",
        "# Predict on the test data\n",
        "y_pred_lr = model_lr.predict(X_test)\n",
        "\n",
        "# Calculate evaluation metrics\n",
        "accuracy_lr = accuracy_score(y_test, y_pred_lr)\n",
        "precision_lr = precision_score(y_test, y_pred_lr, average='weighted')\n",
        "recall_lr = recall_score(y_test, y_pred_lr, average='weighted')\n",
        "f1_lr = f1_score(y_test, y_pred_lr, average='weighted')\n",
        "\n",
        "# Print metrics\n",
        "print(f'Accuracy: {accuracy_lr}')\n",
        "print(f'Precision: {precision_lr}')\n",
        "print(f'Recall: {recall_lr}')\n",
        "print(f'F1-score: {f1_lr}')\n",
        "\n",
        "# Generate classification report\n",
        "print(classification_report(y_test, y_pred_lr))\n",
        "\n",
        "# Generate confusion matrix\n",
        "cm_lr = confusion_matrix(y_test, y_pred_lr)\n",
        "print('Confusion Matrix:')\n",
        "print(cm_lr)\n",
        "\n",
        "# Plot confusion matrix using seaborn\n",
        "plt.figure(figsize=(8, 6))\n",
        "sns.heatmap(cm_lr, annot=True, fmt='d', cmap='Blues', cbar=False)\n",
        "plt.xlabel('Predicted')\n",
        "plt.ylabel('Actual')\n",
        "plt.title('Confusion Matrix')\n",
        "plt.show()\n"
      ],
      "metadata": {
        "execution": {
          "iopub.status.busy": "2024-10-29T06:30:31.752911Z",
          "iopub.execute_input": "2024-10-29T06:30:31.753454Z",
          "iopub.status.idle": "2024-10-29T06:30:31.980748Z",
          "shell.execute_reply.started": "2024-10-29T06:30:31.753395Z",
          "shell.execute_reply": "2024-10-29T06:30:31.979483Z"
        },
        "trusted": true,
        "id": "YiqTRK5vnKWy"
      },
      "outputs": [],
      "execution_count": null
    },
    {
      "cell_type": "markdown",
      "source": [
        "> XGB Classifier"
      ],
      "metadata": {
        "id": "6b85fUfZnKW0"
      }
    },
    {
      "cell_type": "code",
      "source": [
        "# Initialize XGBoost classifier (assuming classification task)\n",
        "model_xgb = xgb.XGBClassifier()\n",
        "\n",
        "# Fit the model on the training data\n",
        "model_xgb.fit(X_train, y_train)\n",
        "\n",
        "# Predict on the test data\n",
        "y_pred = model_xgb.predict(X_test)\n",
        "# Calculate evaluation metrics\n",
        "accuracy_xgb = accuracy_score(y_test, y_pred)\n",
        "precision_xgb = precision_score(y_test, y_pred, average='weighted')\n",
        "recall_xgb = recall_score(y_test, y_pred, average='weighted')\n",
        "f1_xgb = f1_score(y_test, y_pred, average='weighted')\n",
        "\n",
        "# Print metrics\n",
        "print(f'Accuracy: {accuracy_xgb}')\n",
        "print(f'Precision: {precision_xgb}')\n",
        "print(f'Recall: {recall_xgb}')\n",
        "print(f'F1-score: {f1_xgb}')\n",
        "\n",
        "# Generate classification report\n",
        "print(classification_report(y_test, y_pred))\n",
        "\n",
        "# Generate confusion matrix\n",
        "cm = confusion_matrix(y_test, y_pred)\n",
        "print('Confusion Matrix:')\n",
        "print(cm)\n",
        "\n",
        "# Plot confusion matrix using seaborn\n",
        "plt.figure(figsize=(8, 6))\n",
        "sns.heatmap(cm, annot=True, fmt='d', cmap='Blues', cbar=False)\n",
        "plt.xlabel('Predicted')\n",
        "plt.ylabel('Actual')\n",
        "plt.title('Confusion Matrix')\n",
        "plt.show()\n"
      ],
      "metadata": {
        "execution": {
          "iopub.status.busy": "2024-10-29T06:30:31.982667Z",
          "iopub.execute_input": "2024-10-29T06:30:31.983203Z",
          "iopub.status.idle": "2024-10-29T06:30:32.495617Z",
          "shell.execute_reply.started": "2024-10-29T06:30:31.983137Z",
          "shell.execute_reply": "2024-10-29T06:30:32.494228Z"
        },
        "trusted": true,
        "id": "XfCtP4gDnKW1"
      },
      "outputs": [],
      "execution_count": null
    },
    {
      "cell_type": "markdown",
      "source": [
        "> Cross Eval XGB Model"
      ],
      "metadata": {
        "id": "KjJAlXzDnKW3"
      }
    },
    {
      "cell_type": "code",
      "source": [
        "xgb_model = xgb.XGBClassifier(random_state=42, use_label_encoder=False, eval_metric='mlogloss')\n",
        "\n",
        "# Define cross-validation strategy\n",
        "cv = StratifiedKFold(n_splits=5, shuffle=True, random_state=42)\n",
        "\n",
        "# Perform cross-validation\n",
        "scores = cross_val_score(xgb_model, X_smote, y_smote, cv=cv, scoring='accuracy')"
      ],
      "metadata": {
        "execution": {
          "iopub.status.busy": "2024-10-29T06:30:32.497317Z",
          "iopub.execute_input": "2024-10-29T06:30:32.497796Z",
          "iopub.status.idle": "2024-10-29T06:30:33.984041Z",
          "shell.execute_reply.started": "2024-10-29T06:30:32.497742Z",
          "shell.execute_reply": "2024-10-29T06:30:33.983086Z"
        },
        "trusted": true,
        "id": "olVP5F04nKW4"
      },
      "outputs": [],
      "execution_count": null
    },
    {
      "cell_type": "code",
      "source": [
        "scores"
      ],
      "metadata": {
        "execution": {
          "iopub.status.busy": "2024-10-29T06:30:33.985844Z",
          "iopub.execute_input": "2024-10-29T06:30:33.98687Z",
          "iopub.status.idle": "2024-10-29T06:30:33.99454Z",
          "shell.execute_reply.started": "2024-10-29T06:30:33.986809Z",
          "shell.execute_reply": "2024-10-29T06:30:33.993641Z"
        },
        "trusted": true,
        "id": "_VEVZ-lqnKW5"
      },
      "outputs": [],
      "execution_count": null
    },
    {
      "cell_type": "markdown",
      "source": [
        "> Gradient Boosting Classifier"
      ],
      "metadata": {
        "id": "MgkSeLv7nKW6"
      }
    },
    {
      "cell_type": "code",
      "source": [
        "from sklearn.ensemble import GradientBoostingClassifier\n",
        "\n",
        "# Initialize GBM classifier\n",
        "gbm_clf = GradientBoostingClassifier(random_state=42)\n",
        "\n",
        "# Train the model\n",
        "gbm_clf.fit(X_train, y_train)\n",
        "\n",
        "# Predictions\n",
        "y_pred = gbm_clf.predict(X_test)\n",
        "\n",
        "# Calculate metrics\n",
        "accuracy_gbm = accuracy_score(y_test, y_pred)\n",
        "precision_gbm = precision_score(y_test, y_pred, average='weighted')\n",
        "recall_gbm = recall_score(y_test, y_pred, average='weighted')\n",
        "f1_gbm = f1_score(y_test, y_pred, average='weighted')\n",
        "\n",
        "# Classification report\n",
        "print(\"Classification Report:\")\n",
        "print(classification_report(y_test, y_pred))\n",
        "\n",
        "# Confusion matrix\n",
        "cm = confusion_matrix(y_test, y_pred)\n",
        "plt.figure(figsize=(8, 6))\n",
        "sns.heatmap(cm, annot=True, cmap='Blues', fmt='d', xticklabels=['No Disorder', 'Sleep Apnea', 'Insomnia'], yticklabels=['No Disorder', 'Sleep Apnea', 'Insomnia'])\n",
        "plt.xlabel('Predicted')\n",
        "plt.ylabel('Actual')\n",
        "plt.title('Confusion Matrix - Gradient Boosting Machine')\n",
        "plt.show()\n",
        "\n",
        "# Display metrics\n",
        "print(f\"Accuracy: {accuracy_gbm:.4f}\")\n",
        "print(f\"Precision: {precision_gbm:.4f}\")\n",
        "print(f\"Recall: {recall_gbm:.4f}\")\n",
        "print(f\"F1 Score: {f1_gbm:.4f}\")\n",
        "\n"
      ],
      "metadata": {
        "execution": {
          "iopub.status.busy": "2024-10-29T06:30:33.996159Z",
          "iopub.execute_input": "2024-10-29T06:30:33.996942Z",
          "iopub.status.idle": "2024-10-29T06:30:34.910646Z",
          "shell.execute_reply.started": "2024-10-29T06:30:33.996891Z",
          "shell.execute_reply": "2024-10-29T06:30:34.909367Z"
        },
        "trusted": true,
        "id": "Dy_kbNpMnKW7"
      },
      "outputs": [],
      "execution_count": null
    },
    {
      "cell_type": "markdown",
      "source": [
        "> K Neighbors Classifier"
      ],
      "metadata": {
        "id": "KWHiSTh-nKW9"
      }
    },
    {
      "cell_type": "code",
      "source": [
        "from sklearn.neighbors import KNeighborsClassifier\n",
        "\n",
        "# Initialize KNN classifier (example using k=5)\n",
        "knn_clf = KNeighborsClassifier(n_neighbors=5)\n",
        "\n",
        "# Train the model\n",
        "knn_clf.fit(X_train, y_train)\n",
        "\n",
        "# Predictions\n",
        "y_pred = knn_clf.predict(X_test)\n",
        "\n",
        "# Calculate metrics\n",
        "accuracy_knn = accuracy_score(y_test, y_pred)\n",
        "precision_knn = precision_score(y_test, y_pred, average='weighted')\n",
        "recall_knn = recall_score(y_test, y_pred, average='weighted')\n",
        "f1_knn = f1_score(y_test, y_pred, average='weighted')\n",
        "\n",
        "# Classification report\n",
        "print(\"Classification Report:\")\n",
        "print(classification_report(y_test, y_pred))\n",
        "\n",
        "# Confusion matrix\n",
        "cm = confusion_matrix(y_test, y_pred)\n",
        "plt.figure(figsize=(8, 6))\n",
        "sns.heatmap(cm, annot=True, cmap='Greens', fmt='d', xticklabels=['No Disorder', 'Sleep Apnea', 'Insomnia'], yticklabels=['No Disorder', 'Sleep Apnea', 'Insomnia'])\n",
        "plt.xlabel('Predicted')\n",
        "plt.ylabel('Actual')\n",
        "plt.title('Confusion Matrix - K-Nearest Neighbors')\n",
        "plt.show()\n",
        "\n",
        "# Display metrics\n",
        "print(f\"Accuracy: {accuracy_knn:.4f}\")\n",
        "print(f\"Precision: {precision_knn:.4f}\")\n",
        "print(f\"Recall: {recall_knn:.4f}\")\n",
        "print(f\"F1 Score: {f1_knn:.4f}\")"
      ],
      "metadata": {
        "execution": {
          "iopub.status.busy": "2024-10-29T06:30:34.912003Z",
          "iopub.execute_input": "2024-10-29T06:30:34.912415Z",
          "iopub.status.idle": "2024-10-29T06:30:35.28479Z",
          "shell.execute_reply.started": "2024-10-29T06:30:34.912374Z",
          "shell.execute_reply": "2024-10-29T06:30:35.283502Z"
        },
        "trusted": true,
        "id": "2oe2OLjKnKW-"
      },
      "outputs": [],
      "execution_count": null
    },
    {
      "cell_type": "markdown",
      "source": [
        "# Model Comparison"
      ],
      "metadata": {
        "id": "ZBWa14MinKXA"
      }
    },
    {
      "cell_type": "code",
      "source": [
        "from sklearn.metrics import roc_curve, auc\n",
        "\n",
        "# Initialize figure\n",
        "fig_roc = plt.figure(figsize=(10, 8))\n",
        "models = ['Gradient Boosting Machine', 'K-Nearest Neighbors', 'Logistic Regression', 'XGBoost']\n",
        "\n",
        "# Plot ROC curve for each model\n",
        "for idx, model in enumerate([gbm_clf, knn_clf, model_lr, model_xgb]):\n",
        "    if model == knn_clf:\n",
        "        y_scores = model.predict_proba(X_test)\n",
        "        fpr, tpr, _ = roc_curve(y_test, y_scores[:, 1], pos_label=1)\n",
        "    else:\n",
        "        y_scores = model.predict_proba(X_test)[:, 1]\n",
        "        fpr, tpr, _ = roc_curve(y_test, y_scores, pos_label=1)\n",
        "\n",
        "    roc_auc = auc(fpr, tpr)\n",
        "\n",
        "    # Plot ROC curve\n",
        "    plt.plot(fpr, tpr, lw=2, label=f'{models[idx]} (AUC = {roc_auc:.2f})')\n",
        "\n",
        "# Plot ROC curve for random guessing\n",
        "plt.plot([0, 1], [0, 1], linestyle='--', lw=2, color='r', label='Random Guessing')\n",
        "\n",
        "# Set plot labels and title\n",
        "plt.xlabel('False Positive Rate')\n",
        "plt.ylabel('True Positive Rate')\n",
        "plt.title('ROC Curve')\n",
        "plt.legend(loc='lower right')\n",
        "plt.grid()\n",
        "\n",
        "# Show plot\n",
        "plt.show()\n"
      ],
      "metadata": {
        "execution": {
          "iopub.status.busy": "2024-10-29T06:30:35.286353Z",
          "iopub.execute_input": "2024-10-29T06:30:35.286758Z",
          "iopub.status.idle": "2024-10-29T06:30:35.709381Z",
          "shell.execute_reply.started": "2024-10-29T06:30:35.286706Z",
          "shell.execute_reply": "2024-10-29T06:30:35.707777Z"
        },
        "trusted": true,
        "id": "qbCWZQYVnKXB"
      },
      "outputs": [],
      "execution_count": null
    },
    {
      "cell_type": "markdown",
      "source": [
        "# Saving Model"
      ],
      "metadata": {
        "id": "va5EN2rsnKXD"
      }
    },
    {
      "cell_type": "code",
      "source": [
        "import pickle\n",
        "with open(\"Model_Prediction.sav\", \"wb\") as f:\n",
        "    pickle.dump(model_xgb,f)"
      ],
      "metadata": {
        "execution": {
          "iopub.status.busy": "2024-10-29T06:30:35.71111Z",
          "iopub.execute_input": "2024-10-29T06:30:35.711941Z",
          "iopub.status.idle": "2024-10-29T06:30:35.725691Z",
          "shell.execute_reply.started": "2024-10-29T06:30:35.711885Z",
          "shell.execute_reply": "2024-10-29T06:30:35.724377Z"
        },
        "trusted": true,
        "id": "gZ58b6U8nKXF"
      },
      "outputs": [],
      "execution_count": null
    },
    {
      "cell_type": "code",
      "source": [
        "with open('preprocessor.sav', 'wb') as f:\n",
        "    pickle.dump(preprocessor, f)"
      ],
      "metadata": {
        "execution": {
          "iopub.status.busy": "2024-10-29T06:30:35.727506Z",
          "iopub.execute_input": "2024-10-29T06:30:35.728179Z",
          "iopub.status.idle": "2024-10-29T06:30:35.736898Z",
          "shell.execute_reply.started": "2024-10-29T06:30:35.728132Z",
          "shell.execute_reply": "2024-10-29T06:30:35.735355Z"
        },
        "trusted": true,
        "id": "LMoW6NhcnKXG"
      },
      "outputs": [],
      "execution_count": null
    },
    {
      "cell_type": "code",
      "source": [
        "\n",
        "\n",
        "# # Load the saved model\n",
        "# model_xgb = joblib.load('model_xgb.pkl')\n",
        "\n",
        "# # Load label encoders for categorical variables\n",
        "# label_encoder = LabelEncoder()\n",
        "\n",
        "# # Function to handle user input\n",
        "# def get_user_input():\n",
        "#     # Example user input (you can modify this based on your actual input method)\n",
        "#     user_data = {}\n",
        "\n",
        "#     # Accepting user input dynamically\n",
        "#     print(\"Please enter the following information:\")\n",
        "\n",
        "#     user_data['Gender'] = input(\"Gender (Male/Female): \").strip()\n",
        "#     user_data['Age'] = int(input(\"Age: \").strip())\n",
        "#     user_data['Occupation'] = input(\"Occupation: \").strip()\n",
        "#     user_data['Sleep Duration'] = int(input(\"Sleep Duration (hours): \").strip())\n",
        "#     user_data['Quality of Sleep'] = int(input(\"Quality of Sleep (1-10): \").strip())\n",
        "#     user_data['Physical Activity Level'] = int(input(\"Physical Activity Level (minutes): \").strip())\n",
        "#     user_data['Stress Level'] = int(input(\"Stress Level (1-10): \").strip())\n",
        "#     user_data['BMI Category'] = input(\"BMI Category: \").strip()\n",
        "#     user_data['Blood Pressure'] = input(\"Blood Pressure (Systolic/Diastolic): \").strip()\n",
        "#     user_data['Heart Rate'] = int(input(\"Heart Rate (bpm): \").strip())\n",
        "#     user_data['Daily Steps'] = int(input(\"Daily Steps: \").strip())\n",
        "\n",
        "#     # Convert user input to DataFrame for consistency\n",
        "#     user_df = pd.DataFrame([user_data])\n",
        "\n",
        "#     # Apply label encoding to categorical columns\n",
        "#     cat_cols=['Gender','Occupation','BMI Category']\n",
        "#     for col in cat_cols:\n",
        "#         user_df[col] = label_encoder.fit_transform(user_df[col])\n",
        "\n",
        "#     # Split the 'Blood Pressure' column into two columns\n",
        "#     user_df[['Systolic BP', 'Diastolic BP']] = user_df['Blood Pressure'].str.split('/', expand=True)\n",
        "\n",
        "#     # Convert the new columns to numeric type\n",
        "#     user_df[['Systolic BP', 'Diastolic BP']] = user_df[['Systolic BP', 'Diastolic BP']].apply(pd.to_numeric)\n",
        "\n",
        "#     # Drop the original 'Blood Pressure' column\n",
        "#     user_df = user_df.drop('Blood Pressure', axis=1)\n",
        "\n",
        "#     return user_df\n",
        "\n",
        "# # Get user input\n",
        "# user_df = get_user_input()\n",
        "\n",
        "# # Predict sleep disorder class\n",
        "# predicted_class = model_xgb.predict(user_df)\n",
        "\n",
        "# # Map numerical prediction back to original classes\n",
        "# sleep_disorder_map = {0: 'No Disorder', 1: 'Sleep Apnea', 2: 'Insomnia'}\n",
        "# predicted_class_label = sleep_disorder_map[predicted_class[0]]\n",
        "\n",
        "# print(f\"Predicted Sleep Disorder: {predicted_class_label}\")\n"
      ],
      "metadata": {
        "execution": {
          "iopub.status.busy": "2024-10-29T06:30:35.738833Z",
          "iopub.execute_input": "2024-10-29T06:30:35.739452Z",
          "iopub.status.idle": "2024-10-29T06:30:35.751245Z",
          "shell.execute_reply.started": "2024-10-29T06:30:35.739366Z",
          "shell.execute_reply": "2024-10-29T06:30:35.749668Z"
        },
        "trusted": true,
        "id": "YR7dH1KFnKXH"
      },
      "outputs": [],
      "execution_count": 1
    }
  ]
}